{
 "cells": [
  {
   "cell_type": "code",
   "execution_count": 1,
   "id": "f9a0a7cd",
   "metadata": {},
   "outputs": [
    {
     "name": "stderr",
     "output_type": "stream",
     "text": [
      "C:\\Users\\smdhk\\anaconda3\\envs\\ox\\lib\\site-packages\\osmnx\\utils.py:192: UserWarning: The `utils.config` function is deprecated and will be removed in a future release. Instead, use the `settings` module directly to configure a global setting's value. For example, `ox.settings.log_console=True`.\n",
      "  warnings.warn(\n"
     ]
    },
    {
     "data": {
      "text/plain": [
       "'1.2.2'"
      ]
     },
     "execution_count": 1,
     "metadata": {},
     "output_type": "execute_result"
    }
   ],
   "source": [
    "import osmnx as ox, networkx as nx, geopandas as gpd, matplotlib.pyplot as plt\n",
    "from shapely.geometry import Point, Polygon, LineString\n",
    "from descartes import PolygonPatch\n",
    "import requests\n",
    "import matplotlib.cm as cm\n",
    "import matplotlib.colors as colors\n",
    "import matplotlib as mpl\n",
    "import matplotlib.pyplot as plt\n",
    "import seaborn as sns\n",
    "%matplotlib inline\n",
    "ox.config(use_cache=True, log_console=True)\n",
    "ox.__version__"
   ]
  },
  {
   "cell_type": "code",
   "execution_count": 10,
   "id": "3986f553",
   "metadata": {},
   "outputs": [],
   "source": [
    "import pandas as pd\n",
    "import numpy as np\n",
    "\n",
    "df = pd.read_csv('close_station_sample.csv', encoding='utf8')\n",
    "df2 = df[['대여 소재지','대여소 위도', '대여소 경도','반납 소재지', '반납소 위도', '반납소 경도']]"
   ]
  },
  {
   "cell_type": "code",
   "execution_count": 7,
   "id": "0472af65",
   "metadata": {},
   "outputs": [],
   "source": [
    "place = '서울, 대한민국'\n",
    "G = ox.graph_from_place(place, \n",
    "                        network_type='drive', simplify=False) "
   ]
  },
  {
   "cell_type": "code",
   "execution_count": 37,
   "id": "4e22f094",
   "metadata": {},
   "outputs": [],
   "source": [
    "from tqdm import notebook\n",
    "\n",
    "road_li = [] #도로 기준 최단 거리\n",
    "\n",
    "for i in range(len(df2)):\n",
    "    if (df2['대여소 경도'][i] == df2['반납소 경도'][i]) & (df2['대여소 위도'][i] == df2['반납소 위도'][i]):\n",
    "        pass\n",
    "    else:\n",
    "        orig_node = ox.nearest_nodes(G, X=df2['대여소 경도'][i], Y=df2['대여소 위도'][i]) #출발지\n",
    "        dest_node = ox.nearest_nodes(G, X=df2['반납소 경도'][i], Y=df2['반납소 위도'][i]) #목적지\n",
    "        len_road = nx.shortest_path_length(G, orig_node, dest_node, weight='length')\n",
    "        road_li.append(str(round(len_road,1))+'m')\n",
    "\n",
    "# 위도 경도 같은값 미리 빼서 계산하기"
   ]
  },
  {
   "cell_type": "code",
   "execution_count": null,
   "id": "9bed4e10",
   "metadata": {},
   "outputs": [],
   "source": []
  },
  {
   "cell_type": "code",
   "execution_count": null,
   "id": "c1374051",
   "metadata": {},
   "outputs": [],
   "source": []
  }
 ],
 "metadata": {
  "kernelspec": {
   "display_name": "Python (ox)",
   "language": "python",
   "name": "ox"
  },
  "language_info": {
   "codemirror_mode": {
    "name": "ipython",
    "version": 3
   },
   "file_extension": ".py",
   "mimetype": "text/x-python",
   "name": "python",
   "nbconvert_exporter": "python",
   "pygments_lexer": "ipython3",
   "version": "3.10.5"
  }
 },
 "nbformat": 4,
 "nbformat_minor": 5
}
