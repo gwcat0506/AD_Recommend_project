{
 "cells": [
  {
   "cell_type": "code",
   "execution_count": 1,
   "id": "b74a0e91",
   "metadata": {},
   "outputs": [],
   "source": [
    "import pandas as pd\n",
    "import numpy as np\n",
    "from tqdm import tqdm\n",
    "import random\n",
    "import calendar"
   ]
  },
  {
   "cell_type": "code",
   "execution_count": 2,
   "id": "dadd74b8",
   "metadata": {},
   "outputs": [
    {
     "data": {
      "text/html": [
       "<div>\n",
       "<style scoped>\n",
       "    .dataframe tbody tr th:only-of-type {\n",
       "        vertical-align: middle;\n",
       "    }\n",
       "\n",
       "    .dataframe tbody tr th {\n",
       "        vertical-align: top;\n",
       "    }\n",
       "\n",
       "    .dataframe thead th {\n",
       "        text-align: right;\n",
       "    }\n",
       "</style>\n",
       "<table border=\"1\" class=\"dataframe\">\n",
       "  <thead>\n",
       "    <tr style=\"text-align: right;\">\n",
       "      <th></th>\n",
       "      <th>대여일자</th>\n",
       "      <th>대여시간</th>\n",
       "      <th>대여소번호</th>\n",
       "      <th>대여소명</th>\n",
       "      <th>대여구분코드</th>\n",
       "      <th>성별</th>\n",
       "      <th>연령대코드</th>\n",
       "      <th>이용건수</th>\n",
       "      <th>운동량</th>\n",
       "      <th>탄소량</th>\n",
       "      <th>이동거리(M)</th>\n",
       "      <th>이용시간(분)</th>\n",
       "    </tr>\n",
       "  </thead>\n",
       "  <tbody>\n",
       "    <tr>\n",
       "      <th>0</th>\n",
       "      <td>2022-06-01</td>\n",
       "      <td>0</td>\n",
       "      <td>742</td>\n",
       "      <td>742. 등촌역 5번 출구 뒤</td>\n",
       "      <td>정기권</td>\n",
       "      <td>NaN</td>\n",
       "      <td>~10대</td>\n",
       "      <td>1</td>\n",
       "      <td>48.30</td>\n",
       "      <td>0.46</td>\n",
       "      <td>1999.70</td>\n",
       "      <td>10</td>\n",
       "    </tr>\n",
       "    <tr>\n",
       "      <th>1</th>\n",
       "      <td>2022-06-01</td>\n",
       "      <td>0</td>\n",
       "      <td>2059</td>\n",
       "      <td>2059. 보라매공원 정문</td>\n",
       "      <td>정기권</td>\n",
       "      <td>NaN</td>\n",
       "      <td>~10대</td>\n",
       "      <td>1</td>\n",
       "      <td>27.47</td>\n",
       "      <td>0.23</td>\n",
       "      <td>991.00</td>\n",
       "      <td>9</td>\n",
       "    </tr>\n",
       "    <tr>\n",
       "      <th>2</th>\n",
       "      <td>2022-06-01</td>\n",
       "      <td>0</td>\n",
       "      <td>1349</td>\n",
       "      <td>1349. 월계2교 버스정류장 앞</td>\n",
       "      <td>정기권</td>\n",
       "      <td>NaN</td>\n",
       "      <td>~10대</td>\n",
       "      <td>1</td>\n",
       "      <td>20.63</td>\n",
       "      <td>0.20</td>\n",
       "      <td>868.17</td>\n",
       "      <td>3</td>\n",
       "    </tr>\n",
       "    <tr>\n",
       "      <th>3</th>\n",
       "      <td>2022-06-01</td>\n",
       "      <td>0</td>\n",
       "      <td>750</td>\n",
       "      <td>750. 연의근린공원 건너편</td>\n",
       "      <td>정기권</td>\n",
       "      <td>NaN</td>\n",
       "      <td>~10대</td>\n",
       "      <td>1</td>\n",
       "      <td>13.97</td>\n",
       "      <td>0.13</td>\n",
       "      <td>560.00</td>\n",
       "      <td>4</td>\n",
       "    </tr>\n",
       "    <tr>\n",
       "      <th>4</th>\n",
       "      <td>2022-06-01</td>\n",
       "      <td>0</td>\n",
       "      <td>755</td>\n",
       "      <td>755. 목동1단지아파트 상가 앞</td>\n",
       "      <td>정기권</td>\n",
       "      <td>NaN</td>\n",
       "      <td>~10대</td>\n",
       "      <td>1</td>\n",
       "      <td>12.15</td>\n",
       "      <td>0.14</td>\n",
       "      <td>590.00</td>\n",
       "      <td>3</td>\n",
       "    </tr>\n",
       "  </tbody>\n",
       "</table>\n",
       "</div>"
      ],
      "text/plain": [
       "         대여일자  대여시간  대여소번호                대여소명 대여구분코드   성별 연령대코드  이용건수    운동량  \\\n",
       "0  2022-06-01     0    742    742. 등촌역 5번 출구 뒤    정기권  NaN  ~10대     1  48.30   \n",
       "1  2022-06-01     0   2059      2059. 보라매공원 정문    정기권  NaN  ~10대     1  27.47   \n",
       "2  2022-06-01     0   1349  1349. 월계2교 버스정류장 앞    정기권  NaN  ~10대     1  20.63   \n",
       "3  2022-06-01     0    750     750. 연의근린공원 건너편    정기권  NaN  ~10대     1  13.97   \n",
       "4  2022-06-01     0    755  755. 목동1단지아파트 상가 앞    정기권  NaN  ~10대     1  12.15   \n",
       "\n",
       "    탄소량  이동거리(M)  이용시간(분)  \n",
       "0  0.46  1999.70       10  \n",
       "1  0.23   991.00        9  \n",
       "2  0.20   868.17        3  \n",
       "3  0.13   560.00        4  \n",
       "4  0.14   590.00        3  "
      ]
     },
     "execution_count": 2,
     "metadata": {},
     "output_type": "execute_result"
    }
   ],
   "source": [
    "# 데이터 로드\n",
    "\n",
    "data = pd.read_csv(\"C://Users//gwcat//Downloads//data3_usage_info(hours).csv\",encoding = 'CP949')\n",
    "data.head(5)"
   ]
  },
  {
   "cell_type": "code",
   "execution_count": 3,
   "id": "e133344c",
   "metadata": {},
   "outputs": [
    {
     "name": "stdout",
     "output_type": "stream",
     "text": [
      "<class 'pandas.core.frame.DataFrame'>\n",
      "RangeIndex: 3704328 entries, 0 to 3704327\n",
      "Data columns (total 12 columns):\n",
      " #   Column   Dtype  \n",
      "---  ------   -----  \n",
      " 0   대여일자     object \n",
      " 1   대여시간     int64  \n",
      " 2   대여소번호    int64  \n",
      " 3   대여소명     object \n",
      " 4   대여구분코드   object \n",
      " 5   성별       object \n",
      " 6   연령대코드    object \n",
      " 7   이용건수     int64  \n",
      " 8   운동량      object \n",
      " 9   탄소량      object \n",
      " 10  이동거리(M)  float64\n",
      " 11  이용시간(분)  int64  \n",
      "dtypes: float64(1), int64(4), object(7)\n",
      "memory usage: 339.1+ MB\n"
     ]
    }
   ],
   "source": [
    "data.info()"
   ]
  },
  {
   "cell_type": "code",
   "execution_count": 4,
   "id": "674caf17",
   "metadata": {},
   "outputs": [
    {
     "data": {
      "text/plain": [
       "20대      1257122\n",
       "30대       862500\n",
       "40대       523899\n",
       "기타        376098\n",
       "50대       338900\n",
       "~10대      227169\n",
       "60대       103920\n",
       "70대이상      14720\n",
       "Name: 연령대코드, dtype: int64"
      ]
     },
     "execution_count": 4,
     "metadata": {},
     "output_type": "execute_result"
    }
   ],
   "source": [
    "# 연령대코드 전처리\n",
    "data['연령대코드'].value_counts()"
   ]
  },
  {
   "cell_type": "code",
   "execution_count": 5,
   "id": "dac842f3",
   "metadata": {},
   "outputs": [],
   "source": [
    "data.loc[data['연령대코드'] == '70대이상', '연령대코드'] = '70대'\n",
    "data.loc[data['연령대코드'] == '~10대', '연령대코드'] = '10대'\n",
    "data.loc[data['연령대코드'] == '기타', '연령대코드'] = 'N'"
   ]
  },
  {
   "cell_type": "code",
   "execution_count": 6,
   "id": "2e9e2519",
   "metadata": {},
   "outputs": [
    {
     "data": {
      "text/plain": [
       "20대    1257122\n",
       "30대     862500\n",
       "40대     523899\n",
       "N       376098\n",
       "50대     338900\n",
       "10대     227169\n",
       "60대     103920\n",
       "70대      14720\n",
       "Name: 연령대코드, dtype: int64"
      ]
     },
     "execution_count": 6,
     "metadata": {},
     "output_type": "execute_result"
    }
   ],
   "source": [
    "data['연령대코드'].value_counts()"
   ]
  },
  {
   "cell_type": "code",
   "execution_count": 7,
   "id": "65f3423b",
   "metadata": {},
   "outputs": [
    {
     "data": {
      "text/plain": [
       "M    1469510\n",
       "F     972289\n",
       "m        572\n",
       "f        237\n",
       "Name: 성별, dtype: int64"
      ]
     },
     "execution_count": 7,
     "metadata": {},
     "output_type": "execute_result"
    }
   ],
   "source": [
    "# 성별 전처리\n",
    "data[\"성별\"].value_counts()"
   ]
  },
  {
   "cell_type": "code",
   "execution_count": 8,
   "id": "f17ea8c3",
   "metadata": {},
   "outputs": [],
   "source": [
    "data.loc[data['성별'] == 'f', '성별'] = 'F'\n",
    "data.loc[data['성별'] == 'm', '성별'] = 'M'"
   ]
  },
  {
   "cell_type": "code",
   "execution_count": 9,
   "id": "4a27bf8a",
   "metadata": {},
   "outputs": [
    {
     "data": {
      "text/plain": [
       "M    1470082\n",
       "F     972526\n",
       "Name: 성별, dtype: int64"
      ]
     },
     "execution_count": 9,
     "metadata": {},
     "output_type": "execute_result"
    }
   ],
   "source": [
    "data['성별'].value_counts()"
   ]
  },
  {
   "cell_type": "code",
   "execution_count": 10,
   "id": "806c6bf3",
   "metadata": {},
   "outputs": [],
   "source": [
    "# 주말 or 평일 컬럼 추가\n",
    "\n",
    "days = ['평일','평일','평일','평일','평일','주말','주말']\n",
    "def get_day(data):\n",
    "    day_str = data['대여일자']\n",
    "    year,month,day=map(int,day_str.split('-'))\n",
    "    return days[calendar.weekday(year,month,day)]"
   ]
  },
  {
   "cell_type": "code",
   "execution_count": 11,
   "id": "c3f82f81",
   "metadata": {},
   "outputs": [],
   "source": [
    "# 요일 컬럼 추가 \n",
    "days2 = ['월','화','수','목','금','토','일']\n",
    "def get_weeked(data):\n",
    "    day_str = data['대여일자']\n",
    "    year,month,day=map(int,day_str.split('-'))\n",
    "    return days2[calendar.weekday(year,month,day)]"
   ]
  },
  {
   "cell_type": "code",
   "execution_count": 12,
   "id": "484a99f1",
   "metadata": {},
   "outputs": [],
   "source": [
    "data['주말'] = data.apply(get_day,axis =1)\n",
    "data['요일'] = data.apply(get_weeked,axis=1)"
   ]
  },
  {
   "cell_type": "code",
   "execution_count": 13,
   "id": "c6fefd8f",
   "metadata": {},
   "outputs": [],
   "source": [
    "# 그래프를 그리기 위한 한글폰트 설정\n",
    "import matplotlib.pyplot as plt\n",
    "\n",
    "def get_font_family():\n",
    "    \"\"\"\n",
    "    시스템 환경에 따른 기본 폰트명 반환\n",
    "    \"\"\"\n",
    "    import platform\n",
    "    system_name = platform.system()\n",
    "\n",
    "    if system_name == \"Darwin\" :\n",
    "        font_family = \"AppleGothic\"\n",
    "    elif system_name == \"Windows\":\n",
    "        font_family = \"Malgun Gothic\"\n",
    "    else:\n",
    "        # Linux(colab)\n",
    "        !apt-get install fonts-nanum -qq  > /dev/null\n",
    "        !fc-cache -fv\n",
    "\n",
    "        import matplotlib as mpl\n",
    "        mpl.font_manager._rebuild()\n",
    "        findfont = mpl.font_manager.fontManager.findfont\n",
    "        mpl.font_manager.findfont = findfont\n",
    "        mpl.backends.backend_agg.findfont = findfont\n",
    "\n",
    "        font_family = \"NanumBarunGothic\"\n",
    "    return font_family\n",
    "# 시각화를 위한 폰트설정\n",
    "# 위에서 만든 함수를 통해 시스템 폰트를 불러와서 font_family라는 변수에 할당합니다.\n",
    "plt.style.use(\"ggplot\")\n",
    "\n",
    "font_family = get_font_family()\n",
    "# 폰트설정\n",
    "plt.rc(\"font\", family=font_family)\n",
    "# 마이너스 폰트 설정\n",
    "plt.rc(\"axes\", unicode_minus=False)\n",
    "# 그래프에 retina display 적용\n",
    "# from IPython.display import set_matplotlib_formats\n",
    "# set_matplotlib_formats(\"retina\")\n",
    "\n",
    "%config InlineBackend.figure_format = 'retina'"
   ]
  },
  {
   "cell_type": "code",
   "execution_count": 14,
   "id": "3f40d83f",
   "metadata": {},
   "outputs": [
    {
     "data": {
      "text/plain": [
       "<AxesSubplot:>"
      ]
     },
     "execution_count": 14,
     "metadata": {},
     "output_type": "execute_result"
    },
    {
     "data": {
      "image/png": "[encoded data removed]",
      "text/plain": [
       "<Figure size 432x288 with 1 Axes>"
      ]
     },
     "metadata": {
      "image/png": {
       "height": 249,
       "width": 389
      }
     },
     "output_type": "display_data"
    }
   ],
   "source": [
    "# 이상치 확인\n",
    "data.boxplot(column=['이동거리(M)','대여소번호'])"
   ]
  },
  {
   "cell_type": "code",
   "execution_count": 15,
   "id": "8ce85bb0",
   "metadata": {},
   "outputs": [
    {
     "data": {
      "text/plain": [
       "count   3704328.00000\n",
       "mean         26.22830\n",
       "std          31.92456\n",
       "min           0.00000\n",
       "25%           7.00000\n",
       "50%          15.00000\n",
       "75%          34.00000\n",
       "max        1938.00000\n",
       "Name: 이용시간(분), dtype: float64"
      ]
     },
     "execution_count": 15,
     "metadata": {},
     "output_type": "execute_result"
    }
   ],
   "source": [
    "# 이용시간 이상치 확인 \n",
    "pd.options.display.float_format = '{:.5f}'.format\n",
    "data['이용시간(분)'].describe()"
   ]
  },
  {
   "cell_type": "code",
   "execution_count": 16,
   "id": "da56db14",
   "metadata": {},
   "outputs": [],
   "source": [
    "# 이상치 제거\n",
    "\n",
    "# 1) 이동거리(M) \n",
    "condition=data['이동거리(M)']==0\n",
    "a=data[condition].index\n",
    "data.drop(a,inplace=True)\n",
    "\n",
    "q1=data['이동거리(M)'].quantile(0.25)\n",
    "q3=data['이동거리(M)'].quantile(0.75)\n",
    "iqr=q3-q1\n",
    "\n",
    "condition=data['이동거리(M)']>q3+1.5*iqr\n",
    "a=data[condition].index\n",
    "data.drop(a,inplace=True)\n",
    "\n",
    "\n",
    "# 2) 대여소번호\n",
    "q1=data['대여소번호'].quantile(0.25)\n",
    "q3=data['대여소번호'].quantile(0.75)\n",
    "iqr=q3-q1\n",
    "\n",
    "condition=data['대여소번호']>q3+1.5*iqr\n",
    "a=data[condition].index\n",
    "data.drop(a,inplace=True)\n",
    "\n",
    "# 3) 이용시간\n",
    "# 이용시간이 0분,180분 이상인 것 제거\n",
    "condition=(data['이용시간(분)']>180)|(data['이용시간(분)']==0)\n",
    "a=data[condition].index\n",
    "data.drop(a,inplace=True)"
   ]
  },
  {
   "cell_type": "code",
   "execution_count": 17,
   "id": "9d1f93f4",
   "metadata": {},
   "outputs": [
    {
     "data": {
      "text/plain": [
       "<AxesSubplot:>"
      ]
     },
     "execution_count": 17,
     "metadata": {},
     "output_type": "execute_result"
    },
    {
     "data": {
      "image/png": "[encoded data removed]",
      "text/plain": [
       "<Figure size 432x288 with 1 Axes>"
      ]
     },
     "metadata": {
      "image/png": {
       "height": 250,
       "width": 378
      }
     },
     "output_type": "display_data"
    }
   ],
   "source": [
    "# 이상치 확인\n",
    "data.boxplot(column=['이동거리(M)','대여소번호'])"
   ]
  },
  {
   "cell_type": "code",
   "execution_count": 18,
   "id": "61822b30",
   "metadata": {},
   "outputs": [
    {
     "data": {
      "text/plain": [
       "count   3282043.00000\n",
       "mean         20.54655\n",
       "std          21.56206\n",
       "min           1.00000\n",
       "25%           7.00000\n",
       "50%          13.00000\n",
       "75%          26.00000\n",
       "max         180.00000\n",
       "Name: 이용시간(분), dtype: float64"
      ]
     },
     "execution_count": 18,
     "metadata": {},
     "output_type": "execute_result"
    }
   ],
   "source": [
    "pd.options.display.float_format = '{:.5f}'.format\n",
    "data['이용시간(분)'].describe()"
   ]
  },
  {
   "cell_type": "code",
   "execution_count": 19,
   "id": "6a924613",
   "metadata": {},
   "outputs": [
    {
     "data": {
      "text/html": [
       "<div>\n",
       "<style scoped>\n",
       "    .dataframe tbody tr th:only-of-type {\n",
       "        vertical-align: middle;\n",
       "    }\n",
       "\n",
       "    .dataframe tbody tr th {\n",
       "        vertical-align: top;\n",
       "    }\n",
       "\n",
       "    .dataframe thead th {\n",
       "        text-align: right;\n",
       "    }\n",
       "</style>\n",
       "<table border=\"1\" class=\"dataframe\">\n",
       "  <thead>\n",
       "    <tr style=\"text-align: right;\">\n",
       "      <th></th>\n",
       "      <th>대여일자</th>\n",
       "      <th>대여시간</th>\n",
       "      <th>대여소번호</th>\n",
       "      <th>대여소명</th>\n",
       "      <th>대여구분코드</th>\n",
       "      <th>성별</th>\n",
       "      <th>연령대코드</th>\n",
       "      <th>이용건수</th>\n",
       "      <th>운동량</th>\n",
       "      <th>탄소량</th>\n",
       "      <th>이동거리(M)</th>\n",
       "      <th>이용시간(분)</th>\n",
       "      <th>주말</th>\n",
       "      <th>요일</th>\n",
       "    </tr>\n",
       "  </thead>\n",
       "  <tbody>\n",
       "    <tr>\n",
       "      <th>0</th>\n",
       "      <td>2022-06-01</td>\n",
       "      <td>0</td>\n",
       "      <td>742</td>\n",
       "      <td>742. 등촌역 5번 출구 뒤</td>\n",
       "      <td>정기권</td>\n",
       "      <td>NaN</td>\n",
       "      <td>10대</td>\n",
       "      <td>1</td>\n",
       "      <td>48.30</td>\n",
       "      <td>0.46</td>\n",
       "      <td>1999.70000</td>\n",
       "      <td>10</td>\n",
       "      <td>평일</td>\n",
       "      <td>수</td>\n",
       "    </tr>\n",
       "    <tr>\n",
       "      <th>1</th>\n",
       "      <td>2022-06-01</td>\n",
       "      <td>0</td>\n",
       "      <td>2059</td>\n",
       "      <td>2059. 보라매공원 정문</td>\n",
       "      <td>정기권</td>\n",
       "      <td>NaN</td>\n",
       "      <td>10대</td>\n",
       "      <td>1</td>\n",
       "      <td>27.47</td>\n",
       "      <td>0.23</td>\n",
       "      <td>991.00000</td>\n",
       "      <td>9</td>\n",
       "      <td>평일</td>\n",
       "      <td>수</td>\n",
       "    </tr>\n",
       "    <tr>\n",
       "      <th>2</th>\n",
       "      <td>2022-06-01</td>\n",
       "      <td>0</td>\n",
       "      <td>1349</td>\n",
       "      <td>1349. 월계2교 버스정류장 앞</td>\n",
       "      <td>정기권</td>\n",
       "      <td>NaN</td>\n",
       "      <td>10대</td>\n",
       "      <td>1</td>\n",
       "      <td>20.63</td>\n",
       "      <td>0.20</td>\n",
       "      <td>868.17000</td>\n",
       "      <td>3</td>\n",
       "      <td>평일</td>\n",
       "      <td>수</td>\n",
       "    </tr>\n",
       "    <tr>\n",
       "      <th>3</th>\n",
       "      <td>2022-06-01</td>\n",
       "      <td>0</td>\n",
       "      <td>750</td>\n",
       "      <td>750. 연의근린공원 건너편</td>\n",
       "      <td>정기권</td>\n",
       "      <td>NaN</td>\n",
       "      <td>10대</td>\n",
       "      <td>1</td>\n",
       "      <td>13.97</td>\n",
       "      <td>0.13</td>\n",
       "      <td>560.00000</td>\n",
       "      <td>4</td>\n",
       "      <td>평일</td>\n",
       "      <td>수</td>\n",
       "    </tr>\n",
       "    <tr>\n",
       "      <th>4</th>\n",
       "      <td>2022-06-01</td>\n",
       "      <td>0</td>\n",
       "      <td>755</td>\n",
       "      <td>755. 목동1단지아파트 상가 앞</td>\n",
       "      <td>정기권</td>\n",
       "      <td>NaN</td>\n",
       "      <td>10대</td>\n",
       "      <td>1</td>\n",
       "      <td>12.15</td>\n",
       "      <td>0.14</td>\n",
       "      <td>590.00000</td>\n",
       "      <td>3</td>\n",
       "      <td>평일</td>\n",
       "      <td>수</td>\n",
       "    </tr>\n",
       "  </tbody>\n",
       "</table>\n",
       "</div>"
      ],
      "text/plain": [
       "         대여일자  대여시간  대여소번호                대여소명 대여구분코드   성별 연령대코드  이용건수    운동량  \\\n",
       "0  2022-06-01     0    742    742. 등촌역 5번 출구 뒤    정기권  NaN   10대     1  48.30   \n",
       "1  2022-06-01     0   2059      2059. 보라매공원 정문    정기권  NaN   10대     1  27.47   \n",
       "2  2022-06-01     0   1349  1349. 월계2교 버스정류장 앞    정기권  NaN   10대     1  20.63   \n",
       "3  2022-06-01     0    750     750. 연의근린공원 건너편    정기권  NaN   10대     1  13.97   \n",
       "4  2022-06-01     0    755  755. 목동1단지아파트 상가 앞    정기권  NaN   10대     1  12.15   \n",
       "\n",
       "    탄소량    이동거리(M)  이용시간(분)  주말 요일  \n",
       "0  0.46 1999.70000       10  평일  수  \n",
       "1  0.23  991.00000        9  평일  수  \n",
       "2  0.20  868.17000        3  평일  수  \n",
       "3  0.13  560.00000        4  평일  수  \n",
       "4  0.14  590.00000        3  평일  수  "
      ]
     },
     "execution_count": 19,
     "metadata": {},
     "output_type": "execute_result"
    }
   ],
   "source": [
    "data.head()"
   ]
  },
  {
   "cell_type": "code",
   "execution_count": null,
   "id": "7f12cada",
   "metadata": {},
   "outputs": [],
   "source": []
  }
 ],
 "metadata": {
  "kernelspec": {
   "display_name": "Python 3",
   "language": "python",
   "name": "python3"
  },
  "language_info": {
   "codemirror_mode": {
    "name": "ipython",
    "version": 3
   },
   "file_extension": ".py",
   "mimetype": "text/x-python",
   "name": "python",
   "nbconvert_exporter": "python",
   "pygments_lexer": "ipython3",
   "version": "3.8.8"
  }
 },
 "nbformat": 4,
 "nbformat_minor": 5
}
