{
 "cells": [
  {
   "cell_type": "code",
   "execution_count": 66,
   "id": "eae2c719",
   "metadata": {},
   "outputs": [],
   "source": [
    "import pandas as pd\n",
    "\n",
    "df = pd.read_csv('final_final.csv', encoding='utf8', index_col=0)"
   ]
  },
  {
   "cell_type": "code",
   "execution_count": 67,
   "id": "473f490b",
   "metadata": {},
   "outputs": [
    {
     "data": {
      "text/html": [
       "<div>\n",
       "<style scoped>\n",
       "    .dataframe tbody tr th:only-of-type {\n",
       "        vertical-align: middle;\n",
       "    }\n",
       "\n",
       "    .dataframe tbody tr th {\n",
       "        vertical-align: top;\n",
       "    }\n",
       "\n",
       "    .dataframe thead th {\n",
       "        text-align: right;\n",
       "    }\n",
       "</style>\n",
       "<table border=\"1\" class=\"dataframe\">\n",
       "  <thead>\n",
       "    <tr style=\"text-align: right;\">\n",
       "      <th></th>\n",
       "      <th>대여시간</th>\n",
       "      <th>대여소번호</th>\n",
       "      <th>대여소명</th>\n",
       "      <th>대여구분코드</th>\n",
       "      <th>성별</th>\n",
       "      <th>연령대코드</th>\n",
       "      <th>이용건수</th>\n",
       "      <th>운동량</th>\n",
       "      <th>탄소량</th>\n",
       "      <th>이동거리(M)</th>\n",
       "      <th>이용시간(분)</th>\n",
       "      <th>주말</th>\n",
       "      <th>요일</th>\n",
       "      <th>대여소근처역</th>\n",
       "      <th>소재지</th>\n",
       "      <th>번호</th>\n",
       "      <th>위도</th>\n",
       "      <th>경도</th>\n",
       "      <th>동</th>\n",
       "      <th>산업종류</th>\n",
       "    </tr>\n",
       "    <tr>\n",
       "      <th>대여일자</th>\n",
       "      <th></th>\n",
       "      <th></th>\n",
       "      <th></th>\n",
       "      <th></th>\n",
       "      <th></th>\n",
       "      <th></th>\n",
       "      <th></th>\n",
       "      <th></th>\n",
       "      <th></th>\n",
       "      <th></th>\n",
       "      <th></th>\n",
       "      <th></th>\n",
       "      <th></th>\n",
       "      <th></th>\n",
       "      <th></th>\n",
       "      <th></th>\n",
       "      <th></th>\n",
       "      <th></th>\n",
       "      <th></th>\n",
       "      <th></th>\n",
       "    </tr>\n",
       "  </thead>\n",
       "  <tbody>\n",
       "    <tr>\n",
       "      <th>2022-06-01</th>\n",
       "      <td>0</td>\n",
       "      <td>742</td>\n",
       "      <td>742. 등촌역 5번 출구 뒤</td>\n",
       "      <td>정기권</td>\n",
       "      <td>N</td>\n",
       "      <td>10대</td>\n",
       "      <td>1</td>\n",
       "      <td>48.30</td>\n",
       "      <td>0.46</td>\n",
       "      <td>1999.70</td>\n",
       "      <td>10</td>\n",
       "      <td>평일</td>\n",
       "      <td>수</td>\n",
       "      <td>등촌</td>\n",
       "      <td>양천구</td>\n",
       "      <td>742.0</td>\n",
       "      <td>37.550732</td>\n",
       "      <td>126.864578</td>\n",
       "      <td>목3동</td>\n",
       "      <td>사업시설관리 및 사업지원 서비스업</td>\n",
       "    </tr>\n",
       "    <tr>\n",
       "      <th>2022-06-01</th>\n",
       "      <td>0</td>\n",
       "      <td>2059</td>\n",
       "      <td>2059. 보라매공원 정문</td>\n",
       "      <td>정기권</td>\n",
       "      <td>N</td>\n",
       "      <td>10대</td>\n",
       "      <td>1</td>\n",
       "      <td>27.47</td>\n",
       "      <td>0.23</td>\n",
       "      <td>991.00</td>\n",
       "      <td>9</td>\n",
       "      <td>평일</td>\n",
       "      <td>수</td>\n",
       "      <td>보라매</td>\n",
       "      <td>동작구</td>\n",
       "      <td>2059.0</td>\n",
       "      <td>37.497078</td>\n",
       "      <td>126.917793</td>\n",
       "      <td>신대방2동</td>\n",
       "      <td>보건업 및 사회복지 서비스업</td>\n",
       "    </tr>\n",
       "    <tr>\n",
       "      <th>2022-06-01</th>\n",
       "      <td>0</td>\n",
       "      <td>1349</td>\n",
       "      <td>1349. 월계2교 버스정류장 앞</td>\n",
       "      <td>정기권</td>\n",
       "      <td>N</td>\n",
       "      <td>10대</td>\n",
       "      <td>1</td>\n",
       "      <td>20.63</td>\n",
       "      <td>0.20</td>\n",
       "      <td>868.17</td>\n",
       "      <td>3</td>\n",
       "      <td>평일</td>\n",
       "      <td>수</td>\n",
       "      <td>광운대</td>\n",
       "      <td>성북구</td>\n",
       "      <td>1349.0</td>\n",
       "      <td>37.623829</td>\n",
       "      <td>127.050201</td>\n",
       "      <td>번동</td>\n",
       "      <td>금융 및 보험업</td>\n",
       "    </tr>\n",
       "  </tbody>\n",
       "</table>\n",
       "</div>"
      ],
      "text/plain": [
       "            대여시간  대여소번호                대여소명 대여구분코드 성별 연령대코드  이용건수    운동량  \\\n",
       "대여일자                                                                       \n",
       "2022-06-01     0    742    742. 등촌역 5번 출구 뒤    정기권  N   10대     1  48.30   \n",
       "2022-06-01     0   2059      2059. 보라매공원 정문    정기권  N   10대     1  27.47   \n",
       "2022-06-01     0   1349  1349. 월계2교 버스정류장 앞    정기권  N   10대     1  20.63   \n",
       "\n",
       "             탄소량  이동거리(M)  이용시간(분)  주말 요일 대여소근처역  소재지      번호         위도  \\\n",
       "대여일자                                                                       \n",
       "2022-06-01  0.46  1999.70       10  평일  수     등촌  양천구   742.0  37.550732   \n",
       "2022-06-01  0.23   991.00        9  평일  수    보라매  동작구  2059.0  37.497078   \n",
       "2022-06-01  0.20   868.17        3  평일  수    광운대  성북구  1349.0  37.623829   \n",
       "\n",
       "                    경도      동                산업종류  \n",
       "대여일자                                               \n",
       "2022-06-01  126.864578    목3동  사업시설관리 및 사업지원 서비스업  \n",
       "2022-06-01  126.917793  신대방2동     보건업 및 사회복지 서비스업  \n",
       "2022-06-01  127.050201     번동            금융 및 보험업  "
      ]
     },
     "execution_count": 67,
     "metadata": {},
     "output_type": "execute_result"
    }
   ],
   "source": [
    "df.head(3)"
   ]
  },
  {
   "cell_type": "code",
   "execution_count": 68,
   "id": "2a744854",
   "metadata": {
    "scrolled": true
   },
   "outputs": [
    {
     "name": "stdout",
     "output_type": "stream",
     "text": [
      "Requirement already satisfied: plotnine in c:\\users\\smdhk\\anaconda3\\lib\\site-packages (0.9.0)\n",
      "Requirement already satisfied: matplotlib>=3.5.0 in c:\\users\\smdhk\\anaconda3\\lib\\site-packages (from plotnine) (3.5.1)\n",
      "Requirement already satisfied: statsmodels>=0.13.2 in c:\\users\\smdhk\\anaconda3\\lib\\site-packages (from plotnine) (0.13.2)\n",
      "Requirement already satisfied: scipy>=1.5.0 in c:\\users\\smdhk\\anaconda3\\lib\\site-packages (from plotnine) (1.7.3)\n",
      "Requirement already satisfied: mizani>=0.7.3 in c:\\users\\smdhk\\anaconda3\\lib\\site-packages (from plotnine) (0.7.4)\n",
      "Requirement already satisfied: pandas>=1.3.5 in c:\\users\\smdhk\\anaconda3\\lib\\site-packages (from plotnine) (1.4.2)\n",
      "Requirement already satisfied: patsy>=0.5.1 in c:\\users\\smdhk\\anaconda3\\lib\\site-packages (from plotnine) (0.5.2)\n",
      "Requirement already satisfied: numpy>=1.19.0 in c:\\users\\smdhk\\anaconda3\\lib\\site-packages (from plotnine) (1.21.5)\n",
      "Requirement already satisfied: kiwisolver>=1.0.1 in c:\\users\\smdhk\\anaconda3\\lib\\site-packages (from matplotlib>=3.5.0->plotnine) (1.3.2)\n",
      "Requirement already satisfied: python-dateutil>=2.7 in c:\\users\\smdhk\\anaconda3\\lib\\site-packages (from matplotlib>=3.5.0->plotnine) (2.8.2)\n",
      "Requirement already satisfied: packaging>=20.0 in c:\\users\\smdhk\\anaconda3\\lib\\site-packages (from matplotlib>=3.5.0->plotnine) (21.3)\n",
      "Requirement already satisfied: fonttools>=4.22.0 in c:\\users\\smdhk\\anaconda3\\lib\\site-packages (from matplotlib>=3.5.0->plotnine) (4.25.0)\n",
      "Requirement already satisfied: cycler>=0.10 in c:\\users\\smdhk\\anaconda3\\lib\\site-packages (from matplotlib>=3.5.0->plotnine) (0.11.0)\n",
      "Requirement already satisfied: pyparsing>=2.2.1 in c:\\users\\smdhk\\anaconda3\\lib\\site-packages (from matplotlib>=3.5.0->plotnine) (3.0.4)\n",
      "Requirement already satisfied: pillow>=6.2.0 in c:\\users\\smdhk\\anaconda3\\lib\\site-packages (from matplotlib>=3.5.0->plotnine) (9.0.1)\n",
      "Requirement already satisfied: palettable in c:\\users\\smdhk\\anaconda3\\lib\\site-packages (from mizani>=0.7.3->plotnine) (3.3.0)\n",
      "Requirement already satisfied: pytz>=2020.1 in c:\\users\\smdhk\\anaconda3\\lib\\site-packages (from pandas>=1.3.5->plotnine) (2021.3)\n",
      "Requirement already satisfied: six in c:\\users\\smdhk\\anaconda3\\lib\\site-packages (from patsy>=0.5.1->plotnine) (1.16.0)\n"
     ]
    }
   ],
   "source": [
    "!pip3 install plotnine"
   ]
  },
  {
   "cell_type": "code",
   "execution_count": 69,
   "id": "60daf93f",
   "metadata": {},
   "outputs": [
    {
     "data": {
      "text/html": [
       "<div>\n",
       "<style scoped>\n",
       "    .dataframe tbody tr th:only-of-type {\n",
       "        vertical-align: middle;\n",
       "    }\n",
       "\n",
       "    .dataframe tbody tr th {\n",
       "        vertical-align: top;\n",
       "    }\n",
       "\n",
       "    .dataframe thead th {\n",
       "        text-align: right;\n",
       "    }\n",
       "</style>\n",
       "<table border=\"1\" class=\"dataframe\">\n",
       "  <thead>\n",
       "    <tr style=\"text-align: right;\">\n",
       "      <th></th>\n",
       "      <th>주말</th>\n",
       "      <th>대여시간</th>\n",
       "      <th>대여소번호</th>\n",
       "      <th>이용건수</th>\n",
       "      <th>이동거리(M)</th>\n",
       "      <th>이용시간(분)</th>\n",
       "      <th>번호</th>\n",
       "      <th>위도</th>\n",
       "      <th>경도</th>\n",
       "    </tr>\n",
       "  </thead>\n",
       "  <tbody>\n",
       "    <tr>\n",
       "      <th>0</th>\n",
       "      <td>주말</td>\n",
       "      <td>14.066115</td>\n",
       "      <td>1983.746842</td>\n",
       "      <td>1.129134</td>\n",
       "      <td>3435.082566</td>\n",
       "      <td>29.150122</td>\n",
       "      <td>1983.746842</td>\n",
       "      <td>37.549618</td>\n",
       "      <td>126.985809</td>\n",
       "    </tr>\n",
       "    <tr>\n",
       "      <th>1</th>\n",
       "      <td>평일</td>\n",
       "      <td>14.199883</td>\n",
       "      <td>1988.314719</td>\n",
       "      <td>1.156341</td>\n",
       "      <td>3019.735326</td>\n",
       "      <td>25.097745</td>\n",
       "      <td>1988.314719</td>\n",
       "      <td>37.548941</td>\n",
       "      <td>126.983531</td>\n",
       "    </tr>\n",
       "  </tbody>\n",
       "</table>\n",
       "</div>"
      ],
      "text/plain": [
       "   주말       대여시간        대여소번호      이용건수      이동거리(M)    이용시간(분)           번호  \\\n",
       "0  주말  14.066115  1983.746842  1.129134  3435.082566  29.150122  1983.746842   \n",
       "1  평일  14.199883  1988.314719  1.156341  3019.735326  25.097745  1988.314719   \n",
       "\n",
       "          위도          경도  \n",
       "0  37.549618  126.985809  \n",
       "1  37.548941  126.983531  "
      ]
     },
     "execution_count": 69,
     "metadata": {},
     "output_type": "execute_result"
    }
   ],
   "source": [
    "df_cn = df.groupby(by=['주말'], as_index=False).mean()\n",
    "df_cn"
   ]
  },
  {
   "cell_type": "code",
   "execution_count": 70,
   "id": "4d4344d7",
   "metadata": {},
   "outputs": [],
   "source": [
    "df1 = df[df['주말']=='평일']\n",
    "df2 = df[df['주말']=='주말']\n",
    "\n",
    "df1_cn = df1.groupby(by=['요일'], as_index=False).count()\n",
    "df1_cn = df1_cn[['요일', '이용건수']]\n",
    "\n",
    "df2_cn = df2.groupby(by=['요일'], as_index=False).count()\n",
    "df2_cn = df2_cn[['요일', '이용건수']]"
   ]
  },
  {
   "cell_type": "code",
   "execution_count": 71,
   "id": "f6c36981",
   "metadata": {
    "scrolled": true
   },
   "outputs": [
    {
     "name": "stderr",
     "output_type": "stream",
     "text": [
      "C:\\Users\\smdhk\\AppData\\Local\\Temp\\ipykernel_16364\\525705381.py:1: FutureWarning: Dropping of nuisance columns in DataFrame reductions (with 'numeric_only=None') is deprecated; in a future version this will raise TypeError.  Select only valid columns before calling the reduction.\n"
     ]
    },
    {
     "data": {
      "text/plain": [
       "이용건수    535696.2\n",
       "dtype: float64"
      ]
     },
     "execution_count": 71,
     "metadata": {},
     "output_type": "execute_result"
    }
   ],
   "source": [
    "df1_aver = df1_cn.mean()\n",
    "df1_aver"
   ]
  },
  {
   "cell_type": "code",
   "execution_count": 72,
   "id": "12b97ee4",
   "metadata": {},
   "outputs": [
    {
     "name": "stderr",
     "output_type": "stream",
     "text": [
      "C:\\Users\\smdhk\\AppData\\Local\\Temp\\ipykernel_16364\\1083008315.py:1: FutureWarning: Dropping of nuisance columns in DataFrame reductions (with 'numeric_only=None') is deprecated; in a future version this will raise TypeError.  Select only valid columns before calling the reduction.\n"
     ]
    },
    {
     "data": {
      "text/plain": [
       "이용건수    509766.0\n",
       "dtype: float64"
      ]
     },
     "execution_count": 72,
     "metadata": {},
     "output_type": "execute_result"
    }
   ],
   "source": [
    "df2_aver = df2_cn.mean()\n",
    "df2_aver"
   ]
  },
  {
   "cell_type": "code",
   "execution_count": 73,
   "id": "f03865c9",
   "metadata": {},
   "outputs": [
    {
     "data": {
      "text/html": [
       "<div>\n",
       "<style scoped>\n",
       "    .dataframe tbody tr th:only-of-type {\n",
       "        vertical-align: middle;\n",
       "    }\n",
       "\n",
       "    .dataframe tbody tr th {\n",
       "        vertical-align: top;\n",
       "    }\n",
       "\n",
       "    .dataframe thead th {\n",
       "        text-align: right;\n",
       "    }\n",
       "</style>\n",
       "<table border=\"1\" class=\"dataframe\">\n",
       "  <thead>\n",
       "    <tr style=\"text-align: right;\">\n",
       "      <th></th>\n",
       "      <th>Weekend</th>\n",
       "      <th>count</th>\n",
       "    </tr>\n",
       "  </thead>\n",
       "  <tbody>\n",
       "    <tr>\n",
       "      <th>0</th>\n",
       "      <td>week</td>\n",
       "      <td>535696.2</td>\n",
       "    </tr>\n",
       "    <tr>\n",
       "      <th>1</th>\n",
       "      <td>Weekend</td>\n",
       "      <td>509766.0</td>\n",
       "    </tr>\n",
       "  </tbody>\n",
       "</table>\n",
       "</div>"
      ],
      "text/plain": [
       "   Weekend     count\n",
       "0     week  535696.2\n",
       "1  Weekend  509766.0"
      ]
     },
     "execution_count": 73,
     "metadata": {},
     "output_type": "execute_result"
    }
   ],
   "source": [
    "df_cal = pd.DataFrame(columns=['Weekend','count'])\n",
    "df_cal['Weekend'] = ['week', 'Weekend']\n",
    "df_cal['count'] = [df1_aver[0], df2_aver[0]]\n",
    "df_cal"
   ]
  },
  {
   "cell_type": "code",
   "execution_count": 74,
   "id": "efaf0cc4",
   "metadata": {},
   "outputs": [
    {
     "name": "stderr",
     "output_type": "stream",
     "text": [
      "C:\\Users\\smdhk\\anaconda3\\lib\\site-packages\\plotnine\\ggplot.py:718: PlotnineWarning: Saving 6.4 x 4.8 in image.\n",
      "C:\\Users\\smdhk\\anaconda3\\lib\\site-packages\\plotnine\\ggplot.py:719: PlotnineWarning: Filename: Weekend.png\n",
      "C:\\Users\\smdhk\\anaconda3\\lib\\site-packages\\plotnine\\geoms\\geom_path.py:81: PlotnineWarning: geom_path: Each group consist of only one observation. Do you need to adjust the group aesthetic?\n"
     ]
    }
   ],
   "source": [
    "import plotnine\n",
    "from plotnine import *\n",
    "p = (ggplot(df_cal)\n",
    " + geom_col(aes(x='Weekend',y='count', fill='Weekend'))\n",
    " + geom_line(aes(x='Weekend', y='count', color='Weekend'), size=1)\n",
    " + scale_color_hue(l=0.45)                                  # some contrast to make the lines stick out\n",
    " + ggtitle('Analysis')\n",
    ")\n",
    "ggsave(p, 'Weekend.png')"
   ]
  },
  {
   "cell_type": "code",
   "execution_count": null,
   "id": "acb74f49",
   "metadata": {},
   "outputs": [],
   "source": []
  },
  {
   "cell_type": "code",
   "execution_count": null,
   "id": "faa02400",
   "metadata": {},
   "outputs": [],
   "source": []
  },
  {
   "cell_type": "code",
   "execution_count": null,
   "id": "57846f17",
   "metadata": {},
   "outputs": [],
   "source": []
  },
  {
   "cell_type": "code",
   "execution_count": null,
   "id": "dbb6ea42",
   "metadata": {},
   "outputs": [],
   "source": []
  }
 ],
 "metadata": {
  "kernelspec": {
   "display_name": "Python 3 (ipykernel)",
   "language": "python",
   "name": "python3"
  },
  "language_info": {
   "codemirror_mode": {
    "name": "ipython",
    "version": 3
   },
   "file_extension": ".py",
   "mimetype": "text/x-python",
   "name": "python",
   "nbconvert_exporter": "python",
   "pygments_lexer": "ipython3",
   "version": "3.9.12"
  }
 },
 "nbformat": 4,
 "nbformat_minor": 5
}
