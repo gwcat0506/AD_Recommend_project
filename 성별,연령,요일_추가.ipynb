{
 "cells": [
  {
   "cell_type": "code",
   "execution_count": 1,
   "metadata": {},
   "outputs": [],
   "source": [
    "import pandas as pd\n",
    "import numpy as np\n",
    "from tqdm import tqdm\n",
    "import random"
   ]
  },
  {
   "cell_type": "code",
   "execution_count": 30,
   "metadata": {},
   "outputs": [],
   "source": [
    "data = pd.read_csv('data3_usage_info(hours).csv',encoding = 'CP949')"
   ]
  },
  {
   "cell_type": "code",
   "execution_count": 31,
   "metadata": {},
   "outputs": [
    {
     "data": {
      "text/html": [
       "<div>\n",
       "<style scoped>\n",
       "    .dataframe tbody tr th:only-of-type {\n",
       "        vertical-align: middle;\n",
       "    }\n",
       "\n",
       "    .dataframe tbody tr th {\n",
       "        vertical-align: top;\n",
       "    }\n",
       "\n",
       "    .dataframe thead th {\n",
       "        text-align: right;\n",
       "    }\n",
       "</style>\n",
       "<table border=\"1\" class=\"dataframe\">\n",
       "  <thead>\n",
       "    <tr style=\"text-align: right;\">\n",
       "      <th></th>\n",
       "      <th>대여일자</th>\n",
       "      <th>대여시간</th>\n",
       "      <th>대여소번호</th>\n",
       "      <th>대여소명</th>\n",
       "      <th>대여구분코드</th>\n",
       "      <th>성별</th>\n",
       "      <th>연령대코드</th>\n",
       "      <th>이용건수</th>\n",
       "      <th>운동량</th>\n",
       "      <th>탄소량</th>\n",
       "      <th>이동거리(M)</th>\n",
       "      <th>이용시간(분)</th>\n",
       "    </tr>\n",
       "  </thead>\n",
       "  <tbody>\n",
       "    <tr>\n",
       "      <th>0</th>\n",
       "      <td>2022-06-01</td>\n",
       "      <td>0</td>\n",
       "      <td>742</td>\n",
       "      <td>742. 등촌역 5번 출구 뒤</td>\n",
       "      <td>정기권</td>\n",
       "      <td>NaN</td>\n",
       "      <td>~10대</td>\n",
       "      <td>1</td>\n",
       "      <td>48.30</td>\n",
       "      <td>0.46</td>\n",
       "      <td>1999.70</td>\n",
       "      <td>10</td>\n",
       "    </tr>\n",
       "    <tr>\n",
       "      <th>1</th>\n",
       "      <td>2022-06-01</td>\n",
       "      <td>0</td>\n",
       "      <td>2059</td>\n",
       "      <td>2059. 보라매공원 정문</td>\n",
       "      <td>정기권</td>\n",
       "      <td>NaN</td>\n",
       "      <td>~10대</td>\n",
       "      <td>1</td>\n",
       "      <td>27.47</td>\n",
       "      <td>0.23</td>\n",
       "      <td>991.00</td>\n",
       "      <td>9</td>\n",
       "    </tr>\n",
       "    <tr>\n",
       "      <th>2</th>\n",
       "      <td>2022-06-01</td>\n",
       "      <td>0</td>\n",
       "      <td>1349</td>\n",
       "      <td>1349. 월계2교 버스정류장 앞</td>\n",
       "      <td>정기권</td>\n",
       "      <td>NaN</td>\n",
       "      <td>~10대</td>\n",
       "      <td>1</td>\n",
       "      <td>20.63</td>\n",
       "      <td>0.20</td>\n",
       "      <td>868.17</td>\n",
       "      <td>3</td>\n",
       "    </tr>\n",
       "    <tr>\n",
       "      <th>3</th>\n",
       "      <td>2022-06-01</td>\n",
       "      <td>0</td>\n",
       "      <td>750</td>\n",
       "      <td>750. 연의근린공원 건너편</td>\n",
       "      <td>정기권</td>\n",
       "      <td>NaN</td>\n",
       "      <td>~10대</td>\n",
       "      <td>1</td>\n",
       "      <td>13.97</td>\n",
       "      <td>0.13</td>\n",
       "      <td>560.00</td>\n",
       "      <td>4</td>\n",
       "    </tr>\n",
       "    <tr>\n",
       "      <th>4</th>\n",
       "      <td>2022-06-01</td>\n",
       "      <td>0</td>\n",
       "      <td>755</td>\n",
       "      <td>755. 목동1단지아파트 상가 앞</td>\n",
       "      <td>정기권</td>\n",
       "      <td>NaN</td>\n",
       "      <td>~10대</td>\n",
       "      <td>1</td>\n",
       "      <td>12.15</td>\n",
       "      <td>0.14</td>\n",
       "      <td>590.00</td>\n",
       "      <td>3</td>\n",
       "    </tr>\n",
       "  </tbody>\n",
       "</table>\n",
       "</div>"
      ],
      "text/plain": [
       "         대여일자  대여시간  대여소번호                대여소명 대여구분코드   성별 연령대코드  이용건수    운동량  \\\n",
       "0  2022-06-01     0    742    742. 등촌역 5번 출구 뒤    정기권  NaN  ~10대     1  48.30   \n",
       "1  2022-06-01     0   2059      2059. 보라매공원 정문    정기권  NaN  ~10대     1  27.47   \n",
       "2  2022-06-01     0   1349  1349. 월계2교 버스정류장 앞    정기권  NaN  ~10대     1  20.63   \n",
       "3  2022-06-01     0    750     750. 연의근린공원 건너편    정기권  NaN  ~10대     1  13.97   \n",
       "4  2022-06-01     0    755  755. 목동1단지아파트 상가 앞    정기권  NaN  ~10대     1  12.15   \n",
       "\n",
       "    탄소량  이동거리(M)  이용시간(분)  \n",
       "0  0.46  1999.70       10  \n",
       "1  0.23   991.00        9  \n",
       "2  0.20   868.17        3  \n",
       "3  0.13   560.00        4  \n",
       "4  0.14   590.00        3  "
      ]
     },
     "execution_count": 31,
     "metadata": {},
     "output_type": "execute_result"
    }
   ],
   "source": [
    "data.head()"
   ]
  },
  {
   "cell_type": "code",
   "execution_count": 32,
   "metadata": {},
   "outputs": [
    {
     "data": {
      "text/plain": [
       "20대      1257122\n",
       "30대       862500\n",
       "40대       523899\n",
       "기타        376098\n",
       "50대       338900\n",
       "~10대      227169\n",
       "60대       103920\n",
       "70대이상      14720\n",
       "Name: 연령대코드, dtype: int64"
      ]
     },
     "execution_count": 32,
     "metadata": {},
     "output_type": "execute_result"
    }
   ],
   "source": [
    "data['연령대코드'].value_counts()"
   ]
  },
  {
   "cell_type": "code",
   "execution_count": 11,
   "metadata": {},
   "outputs": [],
   "source": [
    "data[data[\"성별\"] == 'f'] = \"F\"\n",
    "data[data[\"성별\"] == 'm'] = \"M\"\n",
    "data[\"성별\"] = data[\"성별\"].fillna(\"N\")"
   ]
  },
  {
   "cell_type": "code",
   "execution_count": 33,
   "metadata": {
    "scrolled": true
   },
   "outputs": [
    {
     "data": {
      "text/plain": [
       "M    1469510\n",
       "F     972289\n",
       "m        572\n",
       "f        237\n",
       "Name: 성별, dtype: int64"
      ]
     },
     "execution_count": 33,
     "metadata": {},
     "output_type": "execute_result"
    }
   ],
   "source": [
    "data[\"성별\"].value_counts()"
   ]
  },
  {
   "cell_type": "code",
   "execution_count": 45,
   "metadata": {},
   "outputs": [],
   "source": [
    "data.loc[data['성별'] == 'f', '성별'] = 'F'\n",
    "data.loc[data['성별'] == 'm', '성별'] = 'M'"
   ]
  },
  {
   "cell_type": "code",
   "execution_count": 46,
   "metadata": {},
   "outputs": [
    {
     "data": {
      "text/plain": [
       "M    1470082\n",
       "F     972526\n",
       "Name: 성별, dtype: int64"
      ]
     },
     "execution_count": 46,
     "metadata": {},
     "output_type": "execute_result"
    }
   ],
   "source": [
    "data['성별'].value_counts()"
   ]
  },
  {
   "cell_type": "code",
   "execution_count": 54,
   "metadata": {},
   "outputs": [],
   "source": [
    "days = ['평일','평일','평일','평일','평일','주말','주말']\n",
    "def get_day(data):\n",
    "    day_str = data['대여일자']\n",
    "    year,month,day=map(int,day_str.split('-'))\n",
    "    return days[calendar.weekday(year,month,day)]"
   ]
  },
  {
   "cell_type": "code",
   "execution_count": 55,
   "metadata": {},
   "outputs": [],
   "source": [
    "data['요일'] = data.apply(get_day,axis =1)"
   ]
  },
  {
   "cell_type": "code",
   "execution_count": 56,
   "metadata": {},
   "outputs": [
    {
     "data": {
      "text/html": [
       "<div>\n",
       "<style scoped>\n",
       "    .dataframe tbody tr th:only-of-type {\n",
       "        vertical-align: middle;\n",
       "    }\n",
       "\n",
       "    .dataframe tbody tr th {\n",
       "        vertical-align: top;\n",
       "    }\n",
       "\n",
       "    .dataframe thead th {\n",
       "        text-align: right;\n",
       "    }\n",
       "</style>\n",
       "<table border=\"1\" class=\"dataframe\">\n",
       "  <thead>\n",
       "    <tr style=\"text-align: right;\">\n",
       "      <th></th>\n",
       "      <th>대여일자</th>\n",
       "      <th>대여시간</th>\n",
       "      <th>대여소번호</th>\n",
       "      <th>대여소명</th>\n",
       "      <th>대여구분코드</th>\n",
       "      <th>성별</th>\n",
       "      <th>연령대코드</th>\n",
       "      <th>이용건수</th>\n",
       "      <th>운동량</th>\n",
       "      <th>탄소량</th>\n",
       "      <th>이동거리(M)</th>\n",
       "      <th>이용시간(분)</th>\n",
       "      <th>요일</th>\n",
       "    </tr>\n",
       "  </thead>\n",
       "  <tbody>\n",
       "    <tr>\n",
       "      <th>0</th>\n",
       "      <td>2022-06-01</td>\n",
       "      <td>0</td>\n",
       "      <td>742</td>\n",
       "      <td>742. 등촌역 5번 출구 뒤</td>\n",
       "      <td>정기권</td>\n",
       "      <td>NaN</td>\n",
       "      <td>~10대</td>\n",
       "      <td>1</td>\n",
       "      <td>48.30</td>\n",
       "      <td>0.46</td>\n",
       "      <td>1999.70</td>\n",
       "      <td>10</td>\n",
       "      <td>평일</td>\n",
       "    </tr>\n",
       "    <tr>\n",
       "      <th>1</th>\n",
       "      <td>2022-06-01</td>\n",
       "      <td>0</td>\n",
       "      <td>2059</td>\n",
       "      <td>2059. 보라매공원 정문</td>\n",
       "      <td>정기권</td>\n",
       "      <td>NaN</td>\n",
       "      <td>~10대</td>\n",
       "      <td>1</td>\n",
       "      <td>27.47</td>\n",
       "      <td>0.23</td>\n",
       "      <td>991.00</td>\n",
       "      <td>9</td>\n",
       "      <td>평일</td>\n",
       "    </tr>\n",
       "    <tr>\n",
       "      <th>2</th>\n",
       "      <td>2022-06-01</td>\n",
       "      <td>0</td>\n",
       "      <td>1349</td>\n",
       "      <td>1349. 월계2교 버스정류장 앞</td>\n",
       "      <td>정기권</td>\n",
       "      <td>NaN</td>\n",
       "      <td>~10대</td>\n",
       "      <td>1</td>\n",
       "      <td>20.63</td>\n",
       "      <td>0.20</td>\n",
       "      <td>868.17</td>\n",
       "      <td>3</td>\n",
       "      <td>평일</td>\n",
       "    </tr>\n",
       "    <tr>\n",
       "      <th>3</th>\n",
       "      <td>2022-06-01</td>\n",
       "      <td>0</td>\n",
       "      <td>750</td>\n",
       "      <td>750. 연의근린공원 건너편</td>\n",
       "      <td>정기권</td>\n",
       "      <td>NaN</td>\n",
       "      <td>~10대</td>\n",
       "      <td>1</td>\n",
       "      <td>13.97</td>\n",
       "      <td>0.13</td>\n",
       "      <td>560.00</td>\n",
       "      <td>4</td>\n",
       "      <td>평일</td>\n",
       "    </tr>\n",
       "    <tr>\n",
       "      <th>4</th>\n",
       "      <td>2022-06-01</td>\n",
       "      <td>0</td>\n",
       "      <td>755</td>\n",
       "      <td>755. 목동1단지아파트 상가 앞</td>\n",
       "      <td>정기권</td>\n",
       "      <td>NaN</td>\n",
       "      <td>~10대</td>\n",
       "      <td>1</td>\n",
       "      <td>12.15</td>\n",
       "      <td>0.14</td>\n",
       "      <td>590.00</td>\n",
       "      <td>3</td>\n",
       "      <td>평일</td>\n",
       "    </tr>\n",
       "  </tbody>\n",
       "</table>\n",
       "</div>"
      ],
      "text/plain": [
       "         대여일자  대여시간  대여소번호                대여소명 대여구분코드   성별 연령대코드  이용건수    운동량  \\\n",
       "0  2022-06-01     0    742    742. 등촌역 5번 출구 뒤    정기권  NaN  ~10대     1  48.30   \n",
       "1  2022-06-01     0   2059      2059. 보라매공원 정문    정기권  NaN  ~10대     1  27.47   \n",
       "2  2022-06-01     0   1349  1349. 월계2교 버스정류장 앞    정기권  NaN  ~10대     1  20.63   \n",
       "3  2022-06-01     0    750     750. 연의근린공원 건너편    정기권  NaN  ~10대     1  13.97   \n",
       "4  2022-06-01     0    755  755. 목동1단지아파트 상가 앞    정기권  NaN  ~10대     1  12.15   \n",
       "\n",
       "    탄소량  이동거리(M)  이용시간(분)  요일  \n",
       "0  0.46  1999.70       10  평일  \n",
       "1  0.23   991.00        9  평일  \n",
       "2  0.20   868.17        3  평일  \n",
       "3  0.13   560.00        4  평일  \n",
       "4  0.14   590.00        3  평일  "
      ]
     },
     "execution_count": 56,
     "metadata": {},
     "output_type": "execute_result"
    }
   ],
   "source": [
    "data.head()"
   ]
  },
  {
   "cell_type": "code",
   "execution_count": 57,
   "metadata": {},
   "outputs": [],
   "source": [
    "data.loc[data['연령대코드'] == '70대이상', '연령대코드'] = '70대'\n",
    "data.loc[data['연령대코드'] == '~10대', '연령대코드'] = '10대'\n",
    "data.loc[data['연령대코드'] == '기타', '연령대코드'] = 'N'"
   ]
  },
  {
   "cell_type": "code",
   "execution_count": 58,
   "metadata": {},
   "outputs": [
    {
     "data": {
      "text/plain": [
       "20대    1257122\n",
       "30대     862500\n",
       "40대     523899\n",
       "N       376098\n",
       "50대     338900\n",
       "10대     227169\n",
       "60대     103920\n",
       "70대      14720\n",
       "Name: 연령대코드, dtype: int64"
      ]
     },
     "execution_count": 58,
     "metadata": {},
     "output_type": "execute_result"
    }
   ],
   "source": [
    "data['연령대코드'].value_counts()"
   ]
  },
  {
   "cell_type": "code",
   "execution_count": null,
   "metadata": {},
   "outputs": [],
   "source": [
    "data.to_csv('성별_연령_요일_추가.csv')"
   ]
  },
  {
   "cell_type": "code",
   "execution_count": null,
   "metadata": {},
   "outputs": [],
   "source": []
  }
 ],
 "metadata": {
  "kernelspec": {
   "display_name": "Python 3",
   "language": "python",
   "name": "python3"
  },
  "language_info": {
   "codemirror_mode": {
    "name": "ipython",
    "version": 3
   },
   "file_extension": ".py",
   "mimetype": "text/x-python",
   "name": "python",
   "nbconvert_exporter": "python",
   "pygments_lexer": "ipython3",
   "version": "3.8.5"
  }
 },
 "nbformat": 4,
 "nbformat_minor": 4
}
