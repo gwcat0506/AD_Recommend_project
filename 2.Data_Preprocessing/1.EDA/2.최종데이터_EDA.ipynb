{
 "cells": [
  {
   "cell_type": "code",
   "execution_count": 1,
   "id": "749ccded",
   "metadata": {},
   "outputs": [
    {
     "data": {
      "text/html": [
       "<div>\n",
       "<style scoped>\n",
       "    .dataframe tbody tr th:only-of-type {\n",
       "        vertical-align: middle;\n",
       "    }\n",
       "\n",
       "    .dataframe tbody tr th {\n",
       "        vertical-align: top;\n",
       "    }\n",
       "\n",
       "    .dataframe thead th {\n",
       "        text-align: right;\n",
       "    }\n",
       "</style>\n",
       "<table border=\"1\" class=\"dataframe\">\n",
       "  <thead>\n",
       "    <tr style=\"text-align: right;\">\n",
       "      <th></th>\n",
       "      <th>Unnamed: 0</th>\n",
       "      <th>index</th>\n",
       "      <th>자전거번호</th>\n",
       "      <th>대여일시</th>\n",
       "      <th>대여 대여소번호</th>\n",
       "      <th>대여 대여소명</th>\n",
       "      <th>대여거치대</th>\n",
       "      <th>반납일시</th>\n",
       "      <th>반납대여소번호</th>\n",
       "      <th>반납대여소명</th>\n",
       "      <th>...</th>\n",
       "      <th>반납 소재지</th>\n",
       "      <th>반납소 위도</th>\n",
       "      <th>반납소 경도</th>\n",
       "      <th>반납소 보관수</th>\n",
       "      <th>반납소 주소</th>\n",
       "      <th>반납소 동</th>\n",
       "      <th>대여소근처역</th>\n",
       "      <th>대여소Distance</th>\n",
       "      <th>반납소근처역</th>\n",
       "      <th>반납소Distance</th>\n",
       "    </tr>\n",
       "  </thead>\n",
       "  <tbody>\n",
       "    <tr>\n",
       "      <th>0</th>\n",
       "      <td>178</td>\n",
       "      <td>182</td>\n",
       "      <td>SPB-38963</td>\n",
       "      <td>2022-06-01 00:17:09</td>\n",
       "      <td>106</td>\n",
       "      <td>합정역 7번출구 앞</td>\n",
       "      <td>0</td>\n",
       "      <td>2022-06-01 00:48:48</td>\n",
       "      <td>102</td>\n",
       "      <td>망원역 1번출구 앞</td>\n",
       "      <td>...</td>\n",
       "      <td>마포구</td>\n",
       "      <td>37.555649</td>\n",
       "      <td>126.910629</td>\n",
       "      <td>15.0</td>\n",
       "      <td>스타벅스, 74, 월드컵로, 서교동, 마포구, 서울, 04004, 대한민국</td>\n",
       "      <td>서교동</td>\n",
       "      <td>합정</td>\n",
       "      <td>0.001225</td>\n",
       "      <td>망원</td>\n",
       "      <td>0.000729</td>\n",
       "    </tr>\n",
       "    <tr>\n",
       "      <th>1</th>\n",
       "      <td>179</td>\n",
       "      <td>183</td>\n",
       "      <td>SPB-49074</td>\n",
       "      <td>2022-06-01 00:41:18</td>\n",
       "      <td>3123</td>\n",
       "      <td>DMC파크뷰자이1단지 110동 앞</td>\n",
       "      <td>0</td>\n",
       "      <td>2022-06-01 01:14:29</td>\n",
       "      <td>102</td>\n",
       "      <td>망원역 1번출구 앞</td>\n",
       "      <td>...</td>\n",
       "      <td>마포구</td>\n",
       "      <td>37.555649</td>\n",
       "      <td>126.910629</td>\n",
       "      <td>15.0</td>\n",
       "      <td>스타벅스, 74, 월드컵로, 서교동, 마포구, 서울, 04004, 대한민국</td>\n",
       "      <td>서교동</td>\n",
       "      <td>가좌</td>\n",
       "      <td>0.003915</td>\n",
       "      <td>망원</td>\n",
       "      <td>0.000729</td>\n",
       "    </tr>\n",
       "    <tr>\n",
       "      <th>2</th>\n",
       "      <td>180</td>\n",
       "      <td>184</td>\n",
       "      <td>SPB-54595</td>\n",
       "      <td>2022-06-01 01:12:13</td>\n",
       "      <td>497</td>\n",
       "      <td>합정동주민센터 앞</td>\n",
       "      <td>0</td>\n",
       "      <td>2022-06-01 01:15:55</td>\n",
       "      <td>102</td>\n",
       "      <td>망원역 1번출구 앞</td>\n",
       "      <td>...</td>\n",
       "      <td>마포구</td>\n",
       "      <td>37.555649</td>\n",
       "      <td>126.910629</td>\n",
       "      <td>15.0</td>\n",
       "      <td>스타벅스, 74, 월드컵로, 서교동, 마포구, 서울, 04004, 대한민국</td>\n",
       "      <td>서교동</td>\n",
       "      <td>합정</td>\n",
       "      <td>0.002705</td>\n",
       "      <td>망원</td>\n",
       "      <td>0.000729</td>\n",
       "    </tr>\n",
       "    <tr>\n",
       "      <th>3</th>\n",
       "      <td>181</td>\n",
       "      <td>185</td>\n",
       "      <td>SPB-82472</td>\n",
       "      <td>2022-06-01 01:43:20</td>\n",
       "      <td>114</td>\n",
       "      <td>홍대입구역 8번출구 앞</td>\n",
       "      <td>99</td>\n",
       "      <td>2022-06-01 01:52:43</td>\n",
       "      <td>102</td>\n",
       "      <td>망원역 1번출구 앞</td>\n",
       "      <td>...</td>\n",
       "      <td>마포구</td>\n",
       "      <td>37.555649</td>\n",
       "      <td>126.910629</td>\n",
       "      <td>15.0</td>\n",
       "      <td>스타벅스, 74, 월드컵로, 서교동, 마포구, 서울, 04004, 대한민국</td>\n",
       "      <td>서교동</td>\n",
       "      <td>홍대입구</td>\n",
       "      <td>0.000967</td>\n",
       "      <td>망원</td>\n",
       "      <td>0.000729</td>\n",
       "    </tr>\n",
       "    <tr>\n",
       "      <th>4</th>\n",
       "      <td>182</td>\n",
       "      <td>186</td>\n",
       "      <td>SPB-58359</td>\n",
       "      <td>2022-06-01 00:05:01</td>\n",
       "      <td>135</td>\n",
       "      <td>명물길 원형무대 앞</td>\n",
       "      <td>0</td>\n",
       "      <td>2022-06-01 01:53:22</td>\n",
       "      <td>102</td>\n",
       "      <td>망원역 1번출구 앞</td>\n",
       "      <td>...</td>\n",
       "      <td>마포구</td>\n",
       "      <td>37.555649</td>\n",
       "      <td>126.910629</td>\n",
       "      <td>15.0</td>\n",
       "      <td>스타벅스, 74, 월드컵로, 서교동, 마포구, 서울, 04004, 대한민국</td>\n",
       "      <td>서교동</td>\n",
       "      <td>신촌</td>\n",
       "      <td>0.004578</td>\n",
       "      <td>망원</td>\n",
       "      <td>0.000729</td>\n",
       "    </tr>\n",
       "  </tbody>\n",
       "</table>\n",
       "<p>5 rows × 28 columns</p>\n",
       "</div>"
      ],
      "text/plain": [
       "   Unnamed: 0  index      자전거번호                 대여일시  대여 대여소번호  \\\n",
       "0         178    182  SPB-38963  2022-06-01 00:17:09       106   \n",
       "1         179    183  SPB-49074  2022-06-01 00:41:18      3123   \n",
       "2         180    184  SPB-54595  2022-06-01 01:12:13       497   \n",
       "3         181    185  SPB-82472  2022-06-01 01:43:20       114   \n",
       "4         182    186  SPB-58359  2022-06-01 00:05:01       135   \n",
       "\n",
       "              대여 대여소명  대여거치대                 반납일시  반납대여소번호      반납대여소명  ...  \\\n",
       "0          합정역 7번출구 앞      0  2022-06-01 00:48:48      102  망원역 1번출구 앞  ...   \n",
       "1  DMC파크뷰자이1단지 110동 앞      0  2022-06-01 01:14:29      102  망원역 1번출구 앞  ...   \n",
       "2           합정동주민센터 앞      0  2022-06-01 01:15:55      102  망원역 1번출구 앞  ...   \n",
       "3        홍대입구역 8번출구 앞     99  2022-06-01 01:52:43      102  망원역 1번출구 앞  ...   \n",
       "4          명물길 원형무대 앞      0  2022-06-01 01:53:22      102  망원역 1번출구 앞  ...   \n",
       "\n",
       "   반납 소재지     반납소 위도      반납소 경도  반납소 보관수  \\\n",
       "0     마포구  37.555649  126.910629     15.0   \n",
       "1     마포구  37.555649  126.910629     15.0   \n",
       "2     마포구  37.555649  126.910629     15.0   \n",
       "3     마포구  37.555649  126.910629     15.0   \n",
       "4     마포구  37.555649  126.910629     15.0   \n",
       "\n",
       "                                      반납소 주소  반납소 동 대여소근처역 대여소Distance 반납소근처역  \\\n",
       "0  스타벅스, 74, 월드컵로, 서교동, 마포구, 서울, 04004, 대한민국    서교동     합정    0.001225     망원   \n",
       "1  스타벅스, 74, 월드컵로, 서교동, 마포구, 서울, 04004, 대한민국    서교동     가좌    0.003915     망원   \n",
       "2  스타벅스, 74, 월드컵로, 서교동, 마포구, 서울, 04004, 대한민국    서교동     합정    0.002705     망원   \n",
       "3  스타벅스, 74, 월드컵로, 서교동, 마포구, 서울, 04004, 대한민국    서교동   홍대입구    0.000967     망원   \n",
       "4  스타벅스, 74, 월드컵로, 서교동, 마포구, 서울, 04004, 대한민국    서교동     신촌    0.004578     망원   \n",
       "\n",
       "   반납소Distance  \n",
       "0     0.000729  \n",
       "1     0.000729  \n",
       "2     0.000729  \n",
       "3     0.000729  \n",
       "4     0.000729  \n",
       "\n",
       "[5 rows x 28 columns]"
      ]
     },
     "execution_count": 1,
     "metadata": {},
     "output_type": "execute_result"
    }
   ],
   "source": [
    "# 데이터 로드\n",
    "import pandas as pd\n",
    "\n",
    "\n",
    "df = pd.read_csv('C://Users//gwcat//Downloads//final_data.csv')\n",
    "df.head(5)"
   ]
  },
  {
   "cell_type": "code",
   "execution_count": 2,
   "id": "2a9dab7f",
   "metadata": {},
   "outputs": [
    {
     "name": "stderr",
     "output_type": "stream",
     "text": [
      "100%|█████████████████████████████████████████████████████████████████████| 4171745/4171745 [01:54<00:00, 36578.24it/s]\n"
     ]
    },
    {
     "data": {
      "text/html": [
       "<div>\n",
       "<style scoped>\n",
       "    .dataframe tbody tr th:only-of-type {\n",
       "        vertical-align: middle;\n",
       "    }\n",
       "\n",
       "    .dataframe tbody tr th {\n",
       "        vertical-align: top;\n",
       "    }\n",
       "\n",
       "    .dataframe thead th {\n",
       "        text-align: right;\n",
       "    }\n",
       "</style>\n",
       "<table border=\"1\" class=\"dataframe\">\n",
       "  <thead>\n",
       "    <tr style=\"text-align: right;\">\n",
       "      <th></th>\n",
       "      <th>Unnamed: 0</th>\n",
       "      <th>index</th>\n",
       "      <th>자전거번호</th>\n",
       "      <th>대여일시</th>\n",
       "      <th>대여 대여소번호</th>\n",
       "      <th>대여 대여소명</th>\n",
       "      <th>대여거치대</th>\n",
       "      <th>반납일시</th>\n",
       "      <th>반납대여소번호</th>\n",
       "      <th>반납대여소명</th>\n",
       "      <th>...</th>\n",
       "      <th>대여소근처역</th>\n",
       "      <th>대여소Distance</th>\n",
       "      <th>반납소근처역</th>\n",
       "      <th>반납소Distance</th>\n",
       "      <th>대여일</th>\n",
       "      <th>대여시간</th>\n",
       "      <th>대여요일</th>\n",
       "      <th>반납일</th>\n",
       "      <th>반납시간</th>\n",
       "      <th>반납요일</th>\n",
       "    </tr>\n",
       "  </thead>\n",
       "  <tbody>\n",
       "    <tr>\n",
       "      <th>0</th>\n",
       "      <td>178</td>\n",
       "      <td>182</td>\n",
       "      <td>SPB-38963</td>\n",
       "      <td>2022-06-01 00:17:09</td>\n",
       "      <td>106</td>\n",
       "      <td>합정역 7번출구 앞</td>\n",
       "      <td>0</td>\n",
       "      <td>2022-06-01 00:48:48</td>\n",
       "      <td>102</td>\n",
       "      <td>망원역 1번출구 앞</td>\n",
       "      <td>...</td>\n",
       "      <td>합정</td>\n",
       "      <td>0.001225</td>\n",
       "      <td>망원</td>\n",
       "      <td>0.000729</td>\n",
       "      <td>2022-06-01</td>\n",
       "      <td>00</td>\n",
       "      <td>수</td>\n",
       "      <td>2022-06-01</td>\n",
       "      <td>00</td>\n",
       "      <td>수</td>\n",
       "    </tr>\n",
       "    <tr>\n",
       "      <th>1</th>\n",
       "      <td>179</td>\n",
       "      <td>183</td>\n",
       "      <td>SPB-49074</td>\n",
       "      <td>2022-06-01 00:41:18</td>\n",
       "      <td>3123</td>\n",
       "      <td>DMC파크뷰자이1단지 110동 앞</td>\n",
       "      <td>0</td>\n",
       "      <td>2022-06-01 01:14:29</td>\n",
       "      <td>102</td>\n",
       "      <td>망원역 1번출구 앞</td>\n",
       "      <td>...</td>\n",
       "      <td>가좌</td>\n",
       "      <td>0.003915</td>\n",
       "      <td>망원</td>\n",
       "      <td>0.000729</td>\n",
       "      <td>2022-06-01</td>\n",
       "      <td>00</td>\n",
       "      <td>수</td>\n",
       "      <td>2022-06-01</td>\n",
       "      <td>01</td>\n",
       "      <td>수</td>\n",
       "    </tr>\n",
       "    <tr>\n",
       "      <th>2</th>\n",
       "      <td>180</td>\n",
       "      <td>184</td>\n",
       "      <td>SPB-54595</td>\n",
       "      <td>2022-06-01 01:12:13</td>\n",
       "      <td>497</td>\n",
       "      <td>합정동주민센터 앞</td>\n",
       "      <td>0</td>\n",
       "      <td>2022-06-01 01:15:55</td>\n",
       "      <td>102</td>\n",
       "      <td>망원역 1번출구 앞</td>\n",
       "      <td>...</td>\n",
       "      <td>합정</td>\n",
       "      <td>0.002705</td>\n",
       "      <td>망원</td>\n",
       "      <td>0.000729</td>\n",
       "      <td>2022-06-01</td>\n",
       "      <td>01</td>\n",
       "      <td>수</td>\n",
       "      <td>2022-06-01</td>\n",
       "      <td>01</td>\n",
       "      <td>수</td>\n",
       "    </tr>\n",
       "    <tr>\n",
       "      <th>3</th>\n",
       "      <td>181</td>\n",
       "      <td>185</td>\n",
       "      <td>SPB-82472</td>\n",
       "      <td>2022-06-01 01:43:20</td>\n",
       "      <td>114</td>\n",
       "      <td>홍대입구역 8번출구 앞</td>\n",
       "      <td>99</td>\n",
       "      <td>2022-06-01 01:52:43</td>\n",
       "      <td>102</td>\n",
       "      <td>망원역 1번출구 앞</td>\n",
       "      <td>...</td>\n",
       "      <td>홍대입구</td>\n",
       "      <td>0.000967</td>\n",
       "      <td>망원</td>\n",
       "      <td>0.000729</td>\n",
       "      <td>2022-06-01</td>\n",
       "      <td>01</td>\n",
       "      <td>수</td>\n",
       "      <td>2022-06-01</td>\n",
       "      <td>01</td>\n",
       "      <td>수</td>\n",
       "    </tr>\n",
       "    <tr>\n",
       "      <th>4</th>\n",
       "      <td>182</td>\n",
       "      <td>186</td>\n",
       "      <td>SPB-58359</td>\n",
       "      <td>2022-06-01 00:05:01</td>\n",
       "      <td>135</td>\n",
       "      <td>명물길 원형무대 앞</td>\n",
       "      <td>0</td>\n",
       "      <td>2022-06-01 01:53:22</td>\n",
       "      <td>102</td>\n",
       "      <td>망원역 1번출구 앞</td>\n",
       "      <td>...</td>\n",
       "      <td>신촌</td>\n",
       "      <td>0.004578</td>\n",
       "      <td>망원</td>\n",
       "      <td>0.000729</td>\n",
       "      <td>2022-06-01</td>\n",
       "      <td>00</td>\n",
       "      <td>수</td>\n",
       "      <td>2022-06-01</td>\n",
       "      <td>01</td>\n",
       "      <td>수</td>\n",
       "    </tr>\n",
       "    <tr>\n",
       "      <th>...</th>\n",
       "      <td>...</td>\n",
       "      <td>...</td>\n",
       "      <td>...</td>\n",
       "      <td>...</td>\n",
       "      <td>...</td>\n",
       "      <td>...</td>\n",
       "      <td>...</td>\n",
       "      <td>...</td>\n",
       "      <td>...</td>\n",
       "      <td>...</td>\n",
       "      <td>...</td>\n",
       "      <td>...</td>\n",
       "      <td>...</td>\n",
       "      <td>...</td>\n",
       "      <td>...</td>\n",
       "      <td>...</td>\n",
       "      <td>...</td>\n",
       "      <td>...</td>\n",
       "      <td>...</td>\n",
       "      <td>...</td>\n",
       "      <td>...</td>\n",
       "    </tr>\n",
       "    <tr>\n",
       "      <th>4171740</th>\n",
       "      <td>4181916</td>\n",
       "      <td>4196913</td>\n",
       "      <td>SPB-30739</td>\n",
       "      <td>2022-06-28 21:21:40</td>\n",
       "      <td>255</td>\n",
       "      <td>도림사거리</td>\n",
       "      <td>0</td>\n",
       "      <td>2022-06-28 21:28:13</td>\n",
       "      <td>5852</td>\n",
       "      <td>대림동현대2차 201동 앞</td>\n",
       "      <td>...</td>\n",
       "      <td>신도림</td>\n",
       "      <td>0.010068</td>\n",
       "      <td>신도림</td>\n",
       "      <td>0.006255</td>\n",
       "      <td>2022-06-28</td>\n",
       "      <td>21</td>\n",
       "      <td>화</td>\n",
       "      <td>2022-06-28</td>\n",
       "      <td>21</td>\n",
       "      <td>화</td>\n",
       "    </tr>\n",
       "    <tr>\n",
       "      <th>4171741</th>\n",
       "      <td>4181917</td>\n",
       "      <td>4196914</td>\n",
       "      <td>SPB-81496</td>\n",
       "      <td>2022-06-29 02:53:22</td>\n",
       "      <td>281</td>\n",
       "      <td>신동아아파트 앞</td>\n",
       "      <td>99</td>\n",
       "      <td>2022-06-29 02:59:24</td>\n",
       "      <td>5852</td>\n",
       "      <td>대림동현대2차 201동 앞</td>\n",
       "      <td>...</td>\n",
       "      <td>대림</td>\n",
       "      <td>0.005576</td>\n",
       "      <td>신도림</td>\n",
       "      <td>0.006255</td>\n",
       "      <td>2022-06-29</td>\n",
       "      <td>02</td>\n",
       "      <td>수</td>\n",
       "      <td>2022-06-29</td>\n",
       "      <td>02</td>\n",
       "      <td>수</td>\n",
       "    </tr>\n",
       "    <tr>\n",
       "      <th>4171742</th>\n",
       "      <td>4181918</td>\n",
       "      <td>4196915</td>\n",
       "      <td>SPB-53328</td>\n",
       "      <td>2022-06-29 10:15:15</td>\n",
       "      <td>1961</td>\n",
       "      <td>신도림테크노근린공원</td>\n",
       "      <td>0</td>\n",
       "      <td>2022-06-29 10:20:31</td>\n",
       "      <td>5852</td>\n",
       "      <td>대림동현대2차 201동 앞</td>\n",
       "      <td>...</td>\n",
       "      <td>신도림</td>\n",
       "      <td>0.000531</td>\n",
       "      <td>신도림</td>\n",
       "      <td>0.006255</td>\n",
       "      <td>2022-06-29</td>\n",
       "      <td>10</td>\n",
       "      <td>수</td>\n",
       "      <td>2022-06-29</td>\n",
       "      <td>10</td>\n",
       "      <td>수</td>\n",
       "    </tr>\n",
       "    <tr>\n",
       "      <th>4171743</th>\n",
       "      <td>4181919</td>\n",
       "      <td>4196916</td>\n",
       "      <td>SPB-47475</td>\n",
       "      <td>2022-06-29 14:49:09</td>\n",
       "      <td>1961</td>\n",
       "      <td>신도림테크노근린공원</td>\n",
       "      <td>0</td>\n",
       "      <td>2022-06-29 15:49:09</td>\n",
       "      <td>5852</td>\n",
       "      <td>대림동현대2차 201동 앞</td>\n",
       "      <td>...</td>\n",
       "      <td>신도림</td>\n",
       "      <td>0.000531</td>\n",
       "      <td>신도림</td>\n",
       "      <td>0.006255</td>\n",
       "      <td>2022-06-29</td>\n",
       "      <td>14</td>\n",
       "      <td>수</td>\n",
       "      <td>2022-06-29</td>\n",
       "      <td>15</td>\n",
       "      <td>수</td>\n",
       "    </tr>\n",
       "    <tr>\n",
       "      <th>4171744</th>\n",
       "      <td>4181920</td>\n",
       "      <td>4196917</td>\n",
       "      <td>SPB-30138</td>\n",
       "      <td>2022-06-30 22:24:05</td>\n",
       "      <td>1913</td>\n",
       "      <td>구로리공원</td>\n",
       "      <td>0</td>\n",
       "      <td>2022-06-30 22:34:23</td>\n",
       "      <td>5852</td>\n",
       "      <td>대림동현대2차 201동 앞</td>\n",
       "      <td>...</td>\n",
       "      <td>대림</td>\n",
       "      <td>0.004133</td>\n",
       "      <td>신도림</td>\n",
       "      <td>0.006255</td>\n",
       "      <td>2022-06-30</td>\n",
       "      <td>22</td>\n",
       "      <td>목</td>\n",
       "      <td>2022-06-30</td>\n",
       "      <td>22</td>\n",
       "      <td>목</td>\n",
       "    </tr>\n",
       "  </tbody>\n",
       "</table>\n",
       "<p>4171745 rows × 34 columns</p>\n",
       "</div>"
      ],
      "text/plain": [
       "         Unnamed: 0    index      자전거번호                 대여일시  대여 대여소번호  \\\n",
       "0               178      182  SPB-38963  2022-06-01 00:17:09       106   \n",
       "1               179      183  SPB-49074  2022-06-01 00:41:18      3123   \n",
       "2               180      184  SPB-54595  2022-06-01 01:12:13       497   \n",
       "3               181      185  SPB-82472  2022-06-01 01:43:20       114   \n",
       "4               182      186  SPB-58359  2022-06-01 00:05:01       135   \n",
       "...             ...      ...        ...                  ...       ...   \n",
       "4171740     4181916  4196913  SPB-30739  2022-06-28 21:21:40       255   \n",
       "4171741     4181917  4196914  SPB-81496  2022-06-29 02:53:22       281   \n",
       "4171742     4181918  4196915  SPB-53328  2022-06-29 10:15:15      1961   \n",
       "4171743     4181919  4196916  SPB-47475  2022-06-29 14:49:09      1961   \n",
       "4171744     4181920  4196917  SPB-30138  2022-06-30 22:24:05      1913   \n",
       "\n",
       "                    대여 대여소명  대여거치대                 반납일시  반납대여소번호  \\\n",
       "0                합정역 7번출구 앞      0  2022-06-01 00:48:48      102   \n",
       "1        DMC파크뷰자이1단지 110동 앞      0  2022-06-01 01:14:29      102   \n",
       "2                 합정동주민센터 앞      0  2022-06-01 01:15:55      102   \n",
       "3              홍대입구역 8번출구 앞     99  2022-06-01 01:52:43      102   \n",
       "4                명물길 원형무대 앞      0  2022-06-01 01:53:22      102   \n",
       "...                     ...    ...                  ...      ...   \n",
       "4171740               도림사거리      0  2022-06-28 21:28:13     5852   \n",
       "4171741            신동아아파트 앞     99  2022-06-29 02:59:24     5852   \n",
       "4171742          신도림테크노근린공원      0  2022-06-29 10:20:31     5852   \n",
       "4171743          신도림테크노근린공원      0  2022-06-29 15:49:09     5852   \n",
       "4171744               구로리공원      0  2022-06-30 22:34:23     5852   \n",
       "\n",
       "                 반납대여소명  ...  대여소근처역  대여소Distance 반납소근처역  반납소Distance  \\\n",
       "0            망원역 1번출구 앞  ...      합정     0.001225     망원     0.000729   \n",
       "1            망원역 1번출구 앞  ...      가좌     0.003915     망원     0.000729   \n",
       "2            망원역 1번출구 앞  ...      합정     0.002705     망원     0.000729   \n",
       "3            망원역 1번출구 앞  ...    홍대입구     0.000967     망원     0.000729   \n",
       "4            망원역 1번출구 앞  ...      신촌     0.004578     망원     0.000729   \n",
       "...                 ...  ...     ...          ...    ...          ...   \n",
       "4171740  대림동현대2차 201동 앞  ...     신도림     0.010068    신도림     0.006255   \n",
       "4171741  대림동현대2차 201동 앞  ...      대림     0.005576    신도림     0.006255   \n",
       "4171742  대림동현대2차 201동 앞  ...     신도림     0.000531    신도림     0.006255   \n",
       "4171743  대림동현대2차 201동 앞  ...     신도림     0.000531    신도림     0.006255   \n",
       "4171744  대림동현대2차 201동 앞  ...      대림     0.004133    신도림     0.006255   \n",
       "\n",
       "                대여일  대여시간 대여요일         반납일 반납시간  반납요일  \n",
       "0        2022-06-01    00    수  2022-06-01   00     수  \n",
       "1        2022-06-01    00    수  2022-06-01   01     수  \n",
       "2        2022-06-01    01    수  2022-06-01   01     수  \n",
       "3        2022-06-01    01    수  2022-06-01   01     수  \n",
       "4        2022-06-01    00    수  2022-06-01   01     수  \n",
       "...             ...   ...  ...         ...  ...   ...  \n",
       "4171740  2022-06-28    21    화  2022-06-28   21     화  \n",
       "4171741  2022-06-29    02    수  2022-06-29   02     수  \n",
       "4171742  2022-06-29    10    수  2022-06-29   10     수  \n",
       "4171743  2022-06-29    14    수  2022-06-29   15     수  \n",
       "4171744  2022-06-30    22    목  2022-06-30   22     목  \n",
       "\n",
       "[4171745 rows x 34 columns]"
      ]
     },
     "execution_count": 2,
     "metadata": {},
     "output_type": "execute_result"
    }
   ],
   "source": [
    "from tqdm import tqdm\n",
    "\n",
    "df['대여일시']\n",
    "df['대여일'] = df['대여일시'].str.split(\" \", expand=True)[0]\n",
    "df['대여시간'] = df['대여일시'].str.split(\" \", expand=True)[1]\n",
    "df['대여시간'] = df['대여시간'].str.split(\":\", expand=True)[0]\n",
    "\n",
    "from datetime import datetime, date\n",
    "\n",
    "def what_day(date):\n",
    "    days = ['월', '화', '수', '목', '금', '토', '일']\n",
    "    day = date.weekday()\n",
    "    return days[day]\n",
    "    \n",
    "dday = []\n",
    "for i in tqdm(range(len(df))):\n",
    "    qday = df['대여일'][i]\n",
    "    datetime_date = datetime.strptime(qday, '%Y-%m-%d')\n",
    "    qday = what_day(datetime_date)\n",
    "    dday.append(qday)\n",
    "df['대여요일'] = dday\n",
    "\n",
    "df['반납일시']\n",
    "df['반납일'] = df['반납일시'].str.split(\" \", expand=True)[0]\n",
    "df['반납시간'] = df['반납일시'].str.split(\" \", expand=True)[1]\n",
    "df['반납시간'] = df['반납시간'].str.split(\":\", expand=True)[0]\n",
    "    \n",
    "dday = []\n",
    "for i in range(len(df)):\n",
    "    qday = df['반납일'][i]\n",
    "    datetime_date = datetime.strptime(qday, '%Y-%m-%d')\n",
    "    qday = what_day(datetime_date)\n",
    "    dday.append(qday)\n",
    "df['반납요일'] = dday\n",
    "df"
   ]
  },
  {
   "cell_type": "code",
   "execution_count": 24,
   "id": "307c2141",
   "metadata": {},
   "outputs": [
    {
     "data": {
      "text/html": [
       "<div>\n",
       "<style scoped>\n",
       "    .dataframe tbody tr th:only-of-type {\n",
       "        vertical-align: middle;\n",
       "    }\n",
       "\n",
       "    .dataframe tbody tr th {\n",
       "        vertical-align: top;\n",
       "    }\n",
       "\n",
       "    .dataframe thead th {\n",
       "        text-align: right;\n",
       "    }\n",
       "</style>\n",
       "<table border=\"1\" class=\"dataframe\">\n",
       "  <thead>\n",
       "    <tr style=\"text-align: right;\">\n",
       "      <th></th>\n",
       "      <th>자전거번호</th>\n",
       "      <th>대여일시</th>\n",
       "      <th>대여 대여소번호</th>\n",
       "      <th>대여 대여소명</th>\n",
       "      <th>대여거치대</th>\n",
       "      <th>반납일시</th>\n",
       "      <th>반납대여소번호</th>\n",
       "      <th>반납대여소명</th>\n",
       "      <th>이용시간</th>\n",
       "      <th>이용거리</th>\n",
       "      <th>...</th>\n",
       "      <th>대여소근처역</th>\n",
       "      <th>대여소Distance</th>\n",
       "      <th>반납소근처역</th>\n",
       "      <th>반납소Distance</th>\n",
       "      <th>대여일</th>\n",
       "      <th>대여시간</th>\n",
       "      <th>대여요일</th>\n",
       "      <th>반납일</th>\n",
       "      <th>반납시간</th>\n",
       "      <th>반납요일</th>\n",
       "    </tr>\n",
       "  </thead>\n",
       "  <tbody>\n",
       "    <tr>\n",
       "      <th>0</th>\n",
       "      <td>SPB-38963</td>\n",
       "      <td>2022-06-01 00:17:09</td>\n",
       "      <td>106</td>\n",
       "      <td>합정역 7번출구 앞</td>\n",
       "      <td>0</td>\n",
       "      <td>2022-06-01 00:48:48</td>\n",
       "      <td>102</td>\n",
       "      <td>망원역 1번출구 앞</td>\n",
       "      <td>31</td>\n",
       "      <td>728.58</td>\n",
       "      <td>...</td>\n",
       "      <td>합정</td>\n",
       "      <td>0.001225</td>\n",
       "      <td>망원</td>\n",
       "      <td>0.000729</td>\n",
       "      <td>2022-06-01</td>\n",
       "      <td>00</td>\n",
       "      <td>수</td>\n",
       "      <td>2022-06-01</td>\n",
       "      <td>00</td>\n",
       "      <td>수</td>\n",
       "    </tr>\n",
       "    <tr>\n",
       "      <th>1</th>\n",
       "      <td>SPB-49074</td>\n",
       "      <td>2022-06-01 00:41:18</td>\n",
       "      <td>3123</td>\n",
       "      <td>DMC파크뷰자이1단지 110동 앞</td>\n",
       "      <td>0</td>\n",
       "      <td>2022-06-01 01:14:29</td>\n",
       "      <td>102</td>\n",
       "      <td>망원역 1번출구 앞</td>\n",
       "      <td>33</td>\n",
       "      <td>3040.00</td>\n",
       "      <td>...</td>\n",
       "      <td>가좌</td>\n",
       "      <td>0.003915</td>\n",
       "      <td>망원</td>\n",
       "      <td>0.000729</td>\n",
       "      <td>2022-06-01</td>\n",
       "      <td>00</td>\n",
       "      <td>수</td>\n",
       "      <td>2022-06-01</td>\n",
       "      <td>01</td>\n",
       "      <td>수</td>\n",
       "    </tr>\n",
       "    <tr>\n",
       "      <th>2</th>\n",
       "      <td>SPB-54595</td>\n",
       "      <td>2022-06-01 01:12:13</td>\n",
       "      <td>497</td>\n",
       "      <td>합정동주민센터 앞</td>\n",
       "      <td>0</td>\n",
       "      <td>2022-06-01 01:15:55</td>\n",
       "      <td>102</td>\n",
       "      <td>망원역 1번출구 앞</td>\n",
       "      <td>3</td>\n",
       "      <td>550.00</td>\n",
       "      <td>...</td>\n",
       "      <td>합정</td>\n",
       "      <td>0.002705</td>\n",
       "      <td>망원</td>\n",
       "      <td>0.000729</td>\n",
       "      <td>2022-06-01</td>\n",
       "      <td>01</td>\n",
       "      <td>수</td>\n",
       "      <td>2022-06-01</td>\n",
       "      <td>01</td>\n",
       "      <td>수</td>\n",
       "    </tr>\n",
       "    <tr>\n",
       "      <th>3</th>\n",
       "      <td>SPB-82472</td>\n",
       "      <td>2022-06-01 01:43:20</td>\n",
       "      <td>114</td>\n",
       "      <td>홍대입구역 8번출구 앞</td>\n",
       "      <td>99</td>\n",
       "      <td>2022-06-01 01:52:43</td>\n",
       "      <td>102</td>\n",
       "      <td>망원역 1번출구 앞</td>\n",
       "      <td>9</td>\n",
       "      <td>1830.00</td>\n",
       "      <td>...</td>\n",
       "      <td>홍대입구</td>\n",
       "      <td>0.000967</td>\n",
       "      <td>망원</td>\n",
       "      <td>0.000729</td>\n",
       "      <td>2022-06-01</td>\n",
       "      <td>01</td>\n",
       "      <td>수</td>\n",
       "      <td>2022-06-01</td>\n",
       "      <td>01</td>\n",
       "      <td>수</td>\n",
       "    </tr>\n",
       "    <tr>\n",
       "      <th>4</th>\n",
       "      <td>SPB-58359</td>\n",
       "      <td>2022-06-01 00:05:01</td>\n",
       "      <td>135</td>\n",
       "      <td>명물길 원형무대 앞</td>\n",
       "      <td>0</td>\n",
       "      <td>2022-06-01 01:53:22</td>\n",
       "      <td>102</td>\n",
       "      <td>망원역 1번출구 앞</td>\n",
       "      <td>108</td>\n",
       "      <td>7600.00</td>\n",
       "      <td>...</td>\n",
       "      <td>신촌</td>\n",
       "      <td>0.004578</td>\n",
       "      <td>망원</td>\n",
       "      <td>0.000729</td>\n",
       "      <td>2022-06-01</td>\n",
       "      <td>00</td>\n",
       "      <td>수</td>\n",
       "      <td>2022-06-01</td>\n",
       "      <td>01</td>\n",
       "      <td>수</td>\n",
       "    </tr>\n",
       "  </tbody>\n",
       "</table>\n",
       "<p>5 rows × 30 columns</p>\n",
       "</div>"
      ],
      "text/plain": [
       "       자전거번호                 대여일시  대여 대여소번호             대여 대여소명  대여거치대  \\\n",
       "0  SPB-38963  2022-06-01 00:17:09       106          합정역 7번출구 앞      0   \n",
       "1  SPB-49074  2022-06-01 00:41:18      3123  DMC파크뷰자이1단지 110동 앞      0   \n",
       "2  SPB-54595  2022-06-01 01:12:13       497           합정동주민센터 앞      0   \n",
       "3  SPB-82472  2022-06-01 01:43:20       114        홍대입구역 8번출구 앞     99   \n",
       "4  SPB-58359  2022-06-01 00:05:01       135          명물길 원형무대 앞      0   \n",
       "\n",
       "                  반납일시  반납대여소번호      반납대여소명  이용시간     이용거리  ... 대여소근처역  \\\n",
       "0  2022-06-01 00:48:48      102  망원역 1번출구 앞    31   728.58  ...     합정   \n",
       "1  2022-06-01 01:14:29      102  망원역 1번출구 앞    33  3040.00  ...     가좌   \n",
       "2  2022-06-01 01:15:55      102  망원역 1번출구 앞     3   550.00  ...     합정   \n",
       "3  2022-06-01 01:52:43      102  망원역 1번출구 앞     9  1830.00  ...   홍대입구   \n",
       "4  2022-06-01 01:53:22      102  망원역 1번출구 앞   108  7600.00  ...     신촌   \n",
       "\n",
       "   대여소Distance  반납소근처역 반납소Distance         대여일 대여시간  대여요일         반납일 반납시간  \\\n",
       "0     0.001225      망원    0.000729  2022-06-01   00     수  2022-06-01   00   \n",
       "1     0.003915      망원    0.000729  2022-06-01   00     수  2022-06-01   01   \n",
       "2     0.002705      망원    0.000729  2022-06-01   01     수  2022-06-01   01   \n",
       "3     0.000967      망원    0.000729  2022-06-01   01     수  2022-06-01   01   \n",
       "4     0.004578      망원    0.000729  2022-06-01   00     수  2022-06-01   01   \n",
       "\n",
       "  반납요일  \n",
       "0    수  \n",
       "1    수  \n",
       "2    수  \n",
       "3    수  \n",
       "4    수  \n",
       "\n",
       "[5 rows x 30 columns]"
      ]
     },
     "execution_count": 24,
     "metadata": {},
     "output_type": "execute_result"
    }
   ],
   "source": [
    "# 필요없는 컬럼 삭제 \n",
    "# del df['Unnamed: 0']\n",
    "# del df['index']\n",
    "# del df['대여소 보관수']\n",
    "# del df['반납소 보관수']\n",
    "df.head(5)"
   ]
  },
  {
   "cell_type": "code",
   "execution_count": 65,
   "id": "5fdc0151",
   "metadata": {},
   "outputs": [
    {
     "name": "stdout",
     "output_type": "stream",
     "text": [
      "<class 'pandas.core.frame.DataFrame'>\n",
      "RangeIndex: 4171745 entries, 0 to 4171744\n",
      "Data columns (total 30 columns):\n",
      " #   Column       Dtype  \n",
      "---  ------       -----  \n",
      " 0   자전거번호        object \n",
      " 1   대여일시         object \n",
      " 2   대여 대여소번호     int64  \n",
      " 3   대여 대여소명      object \n",
      " 4   대여거치대        int64  \n",
      " 5   반납일시         object \n",
      " 6   반납대여소번호      int64  \n",
      " 7   반납대여소명       object \n",
      " 8   이용시간         int64  \n",
      " 9   이용거리         float64\n",
      " 10  대여 소재지       object \n",
      " 11  대여소 위도       float64\n",
      " 12  대여소 경도       float64\n",
      " 13  대여소 주소       object \n",
      " 14  대여소 동        object \n",
      " 15  반납 소재지       object \n",
      " 16  반납소 위도       float64\n",
      " 17  반납소 경도       float64\n",
      " 18  반납소 주소       object \n",
      " 19  반납소 동        object \n",
      " 20  대여소근처역       object \n",
      " 21  대여소Distance  float64\n",
      " 22  반납소근처역       object \n",
      " 23  반납소Distance  float64\n",
      " 24  대여일          object \n",
      " 25  대여시간         object \n",
      " 26  대여요일         object \n",
      " 27  반납일          object \n",
      " 28  반납시간         object \n",
      " 29  반납요일         object \n",
      "dtypes: float64(7), int64(4), object(19)\n",
      "memory usage: 954.8+ MB\n"
     ]
    }
   ],
   "source": [
    "# 데이터 타입 알아보기\n",
    "df.info()"
   ]
  },
  {
   "cell_type": "code",
   "execution_count": 4,
   "id": "531f8807",
   "metadata": {},
   "outputs": [
    {
     "data": {
      "text/plain": [
       "대여 대여소명        반납대여소명       \n",
       "한강공원 망원나들목     한강공원 망원나들목       3113\n",
       "뚝섬유원지역 1번출구 앞  뚝섬유원지역 1번출구 앞    2623\n",
       "여의나루역 1번출구 앞   여의나루역 1번출구 앞     2342\n",
       "봉림교 교통섬        봉림교 교통섬          1652\n",
       "월드컵공원          월드컵공원            1554\n",
       "옥수역 3번출구       옥수역 3번출구         1370\n",
       "당산육갑문          당산육갑문            1212\n",
       "서울숲 관리사무소      서울숲 관리사무소        1197\n",
       "올림픽공원역 3번출구    올림픽공원역 3번출구      1182\n",
       "천왕역 1번 출입구 앞   천왕이펜하우스5단지 앞     1164\n",
       "dtype: int64"
      ]
     },
     "execution_count": 4,
     "metadata": {},
     "output_type": "execute_result"
    }
   ],
   "source": [
    "# 많이 이용하는 대여소-반납소 Top 10 \n",
    "df[['대여 대여소명','반납대여소명']].value_counts().head(10)"
   ]
  },
  {
   "cell_type": "code",
   "execution_count": 56,
   "id": "85c9a118",
   "metadata": {},
   "outputs": [
    {
     "data": {
      "text/plain": [
       "대여시간  반납시간\n",
       "18    18      278967\n",
       "08    08      226167\n",
       "17    17      199545\n",
       "19    19      197291\n",
       "20    20      162303\n",
       "21    21      157135\n",
       "16    16      156066\n",
       "22    22      147381\n",
       "07    07      136660\n",
       "15    15      121136\n",
       "09    09      120638\n",
       "18    19      118977\n",
       "12    12      112836\n",
       "13    13      111373\n",
       "17    18      109736\n",
       "14    14      103347\n",
       "11    11       99226\n",
       "23    23       98410\n",
       "19    20       96800\n",
       "20    21       91064\n",
       "dtype: int64"
      ]
     },
     "execution_count": 56,
     "metadata": {},
     "output_type": "execute_result"
    }
   ],
   "source": [
    "# 많이 이용하는 시간대 \n",
    "df[['대여시간','반납시간']].value_counts().head(20)"
   ]
  },
  {
   "cell_type": "code",
   "execution_count": 52,
   "id": "b3c7d6b7",
   "metadata": {},
   "outputs": [
    {
     "data": {
      "text/plain": [
       "대여시간  반납시간  이용시간\n",
       "08    08    4       21705\n",
       "            5       21072\n",
       "18    18    5       19180\n",
       "            6       18874\n",
       "08    08    3       18618\n",
       "            6       18587\n",
       "18    18    4       18259\n",
       "            7       17169\n",
       "08    08    7       15970\n",
       "18    18    8       15837\n",
       "17    17    5       14670\n",
       "07    07    4       14570\n",
       "18    18    9       14470\n",
       "17    17    6       14048\n",
       "19    19    5       14027\n",
       "08    08    8       13939\n",
       "17    17    4       13733\n",
       "18    18    3       13723\n",
       "19    19    6       13643\n",
       "07    07    5       13395\n",
       "dtype: int64"
      ]
     },
     "execution_count": 52,
     "metadata": {},
     "output_type": "execute_result"
    }
   ],
   "source": [
    "# 많이 이용하는 시간대 \n",
    "df[['대여시간','반납시간','이용시간']].value_counts().head(20)"
   ]
  },
  {
   "cell_type": "code",
   "execution_count": 107,
   "id": "9f7c0a9f",
   "metadata": {},
   "outputs": [
    {
     "data": {
      "text/plain": [
       "<AxesSubplot:>"
      ]
     },
     "execution_count": 107,
     "metadata": {},
     "output_type": "execute_result"
    },
    {
     "data": {
      "image/png": "[encoded data removed]",
      "text/plain": [
       "<Figure size 432x288 with 1 Axes>"
      ]
     },
     "metadata": {
      "image/png": {
       "height": 249,
       "width": 389
      }
     },
     "output_type": "display_data"
    }
   ],
   "source": [
    "# 많이 이용하는 시간대 \n",
    "df['대여시간'].hist(bins=100)"
   ]
  },
  {
   "cell_type": "code",
   "execution_count": 71,
   "id": "094f7ea5",
   "metadata": {},
   "outputs": [],
   "source": [
    "#한글 폰트 설정 -> 그래프에서 한글깨짐 방지\n",
    "# 데이터 시각화 도구에서 한글을 그대로 출력하게 되면 글자가 깨져서 나오게 되기 때문에 글꼴설정을 해줘야 한다.\n",
    "import matplotlib.pyplot as plt\n",
    "\n",
    "def get_font_family():\n",
    "    \"\"\"\n",
    "    시스템 환경에 따른 기본 폰트명을 반환하는 함수\n",
    "    \"\"\"\n",
    "    import platform\n",
    "    system_name = platform.system()\n",
    "\n",
    "    if system_name == \"Darwin\" :\n",
    "        font_family = \"AppleGothic\"\n",
    "    elif system_name == \"Windows\":\n",
    "        font_family = \"Malgun Gothic\"\n",
    "    else:\n",
    "        # Linux(colab)\n",
    "        !apt-get install fonts-nanum -qq  > /dev/null\n",
    "        !fc-cache -fv\n",
    "\n",
    "        import matplotlib as mpl\n",
    "        mpl.font_manager._rebuild()\n",
    "        findfont = mpl.font_manager.fontManager.findfont\n",
    "        mpl.font_manager.findfont = findfont\n",
    "        mpl.backends.backend_agg.findfont = findfont\n",
    "\n",
    "        font_family = \"NanumBarunGothic\"\n",
    "    return font_family\n",
    "# 시각화를 위한 폰트설정\n",
    "# 위에서 만든 함수를 통해 시스템 폰트를 불러와서 font_family라는 변수에 할당합니다.\n",
    "plt.style.use(\"ggplot\")\n",
    "\n",
    "font_family = get_font_family()\n",
    "# 폰트설정\n",
    "plt.rc(\"font\", family=font_family)\n",
    "# 마이너스 폰트 설정\n",
    "plt.rc(\"axes\", unicode_minus=False)\n",
    "# 그래프에 retina display 적용\n",
    "# from IPython.display import set_matplotlib_formats\n",
    "# set_matplotlib_formats(\"retina\")\n",
    "\n",
    "%config InlineBackend.figure_format = 'retina'"
   ]
  },
  {
   "cell_type": "code",
   "execution_count": 59,
   "id": "9d0629f7",
   "metadata": {
    "scrolled": true
   },
   "outputs": [
    {
     "data": {
      "text/html": [
       "<div>\n",
       "<style scoped>\n",
       "    .dataframe tbody tr th:only-of-type {\n",
       "        vertical-align: middle;\n",
       "    }\n",
       "\n",
       "    .dataframe tbody tr th {\n",
       "        vertical-align: top;\n",
       "    }\n",
       "\n",
       "    .dataframe thead th {\n",
       "        text-align: right;\n",
       "    }\n",
       "</style>\n",
       "<table border=\"1\" class=\"dataframe\">\n",
       "  <thead>\n",
       "    <tr style=\"text-align: right;\">\n",
       "      <th></th>\n",
       "      <th>자전거번호</th>\n",
       "      <th>대여일시</th>\n",
       "      <th>대여 대여소번호</th>\n",
       "      <th>대여 대여소명</th>\n",
       "      <th>대여거치대</th>\n",
       "      <th>반납일시</th>\n",
       "      <th>반납대여소번호</th>\n",
       "      <th>반납대여소명</th>\n",
       "      <th>이용시간</th>\n",
       "      <th>이용거리</th>\n",
       "      <th>...</th>\n",
       "      <th>대여소근처역</th>\n",
       "      <th>대여소Distance</th>\n",
       "      <th>반납소근처역</th>\n",
       "      <th>반납소Distance</th>\n",
       "      <th>대여일</th>\n",
       "      <th>대여시간</th>\n",
       "      <th>대여요일</th>\n",
       "      <th>반납일</th>\n",
       "      <th>반납시간</th>\n",
       "      <th>반납요일</th>\n",
       "    </tr>\n",
       "  </thead>\n",
       "  <tbody>\n",
       "    <tr>\n",
       "      <th>634</th>\n",
       "      <td>SPB-57719</td>\n",
       "      <td>2022-06-03 23:56:44</td>\n",
       "      <td>181</td>\n",
       "      <td>망원초록길 입구</td>\n",
       "      <td>0</td>\n",
       "      <td>2022-06-04 00:03:29</td>\n",
       "      <td>102</td>\n",
       "      <td>망원역 1번출구 앞</td>\n",
       "      <td>6</td>\n",
       "      <td>1052.05</td>\n",
       "      <td>...</td>\n",
       "      <td>망원</td>\n",
       "      <td>0.008778</td>\n",
       "      <td>망원</td>\n",
       "      <td>0.000729</td>\n",
       "      <td>2022-06-03</td>\n",
       "      <td>23</td>\n",
       "      <td>금</td>\n",
       "      <td>2022-06-04</td>\n",
       "      <td>00</td>\n",
       "      <td>토</td>\n",
       "    </tr>\n",
       "    <tr>\n",
       "      <th>635</th>\n",
       "      <td>SPB-50408</td>\n",
       "      <td>2022-06-03 23:58:14</td>\n",
       "      <td>3009</td>\n",
       "      <td>서교동사거리(신)</td>\n",
       "      <td>0</td>\n",
       "      <td>2022-06-04 00:04:09</td>\n",
       "      <td>102</td>\n",
       "      <td>망원역 1번출구 앞</td>\n",
       "      <td>5</td>\n",
       "      <td>906.29</td>\n",
       "      <td>...</td>\n",
       "      <td>홍대입구</td>\n",
       "      <td>0.005130</td>\n",
       "      <td>망원</td>\n",
       "      <td>0.000729</td>\n",
       "      <td>2022-06-03</td>\n",
       "      <td>23</td>\n",
       "      <td>금</td>\n",
       "      <td>2022-06-04</td>\n",
       "      <td>00</td>\n",
       "      <td>토</td>\n",
       "    </tr>\n",
       "    <tr>\n",
       "      <th>636</th>\n",
       "      <td>SPB-62880</td>\n",
       "      <td>2022-06-03 23:52:34</td>\n",
       "      <td>4233</td>\n",
       "      <td>코오롱아파트사거리</td>\n",
       "      <td>0</td>\n",
       "      <td>2022-06-04 00:18:38</td>\n",
       "      <td>102</td>\n",
       "      <td>망원역 1번출구 앞</td>\n",
       "      <td>26</td>\n",
       "      <td>2200.00</td>\n",
       "      <td>...</td>\n",
       "      <td>홍대입구</td>\n",
       "      <td>0.007054</td>\n",
       "      <td>망원</td>\n",
       "      <td>0.000729</td>\n",
       "      <td>2022-06-03</td>\n",
       "      <td>23</td>\n",
       "      <td>금</td>\n",
       "      <td>2022-06-04</td>\n",
       "      <td>00</td>\n",
       "      <td>토</td>\n",
       "    </tr>\n",
       "    <tr>\n",
       "      <th>637</th>\n",
       "      <td>SPB-32837</td>\n",
       "      <td>2022-06-04 00:10:38</td>\n",
       "      <td>3002</td>\n",
       "      <td>벽산상암스마트큐브</td>\n",
       "      <td>0</td>\n",
       "      <td>2022-06-04 00:22:08</td>\n",
       "      <td>102</td>\n",
       "      <td>망원역 1번출구 앞</td>\n",
       "      <td>11</td>\n",
       "      <td>1228.53</td>\n",
       "      <td>...</td>\n",
       "      <td>마포구청</td>\n",
       "      <td>0.001551</td>\n",
       "      <td>망원</td>\n",
       "      <td>0.000729</td>\n",
       "      <td>2022-06-04</td>\n",
       "      <td>00</td>\n",
       "      <td>토</td>\n",
       "      <td>2022-06-04</td>\n",
       "      <td>00</td>\n",
       "      <td>토</td>\n",
       "    </tr>\n",
       "    <tr>\n",
       "      <th>638</th>\n",
       "      <td>SPB-52219</td>\n",
       "      <td>2022-06-04 00:18:55</td>\n",
       "      <td>184</td>\n",
       "      <td>7번가피자 서교망원점</td>\n",
       "      <td>0</td>\n",
       "      <td>2022-06-04 00:23:02</td>\n",
       "      <td>102</td>\n",
       "      <td>망원역 1번출구 앞</td>\n",
       "      <td>4</td>\n",
       "      <td>496.95</td>\n",
       "      <td>...</td>\n",
       "      <td>망원</td>\n",
       "      <td>0.003665</td>\n",
       "      <td>망원</td>\n",
       "      <td>0.000729</td>\n",
       "      <td>2022-06-04</td>\n",
       "      <td>00</td>\n",
       "      <td>토</td>\n",
       "      <td>2022-06-04</td>\n",
       "      <td>00</td>\n",
       "      <td>토</td>\n",
       "    </tr>\n",
       "    <tr>\n",
       "      <th>...</th>\n",
       "      <td>...</td>\n",
       "      <td>...</td>\n",
       "      <td>...</td>\n",
       "      <td>...</td>\n",
       "      <td>...</td>\n",
       "      <td>...</td>\n",
       "      <td>...</td>\n",
       "      <td>...</td>\n",
       "      <td>...</td>\n",
       "      <td>...</td>\n",
       "      <td>...</td>\n",
       "      <td>...</td>\n",
       "      <td>...</td>\n",
       "      <td>...</td>\n",
       "      <td>...</td>\n",
       "      <td>...</td>\n",
       "      <td>...</td>\n",
       "      <td>...</td>\n",
       "      <td>...</td>\n",
       "      <td>...</td>\n",
       "      <td>...</td>\n",
       "    </tr>\n",
       "    <tr>\n",
       "      <th>4171724</th>\n",
       "      <td>SPB-57718</td>\n",
       "      <td>2022-06-25 23:02:44</td>\n",
       "      <td>2102</td>\n",
       "      <td>봉림교 교통섬</td>\n",
       "      <td>0</td>\n",
       "      <td>2022-06-25 23:28:22</td>\n",
       "      <td>5852</td>\n",
       "      <td>대림동현대2차 201동 앞</td>\n",
       "      <td>25</td>\n",
       "      <td>5480.93</td>\n",
       "      <td>...</td>\n",
       "      <td>신림</td>\n",
       "      <td>0.002830</td>\n",
       "      <td>신도림</td>\n",
       "      <td>0.006255</td>\n",
       "      <td>2022-06-25</td>\n",
       "      <td>23</td>\n",
       "      <td>토</td>\n",
       "      <td>2022-06-25</td>\n",
       "      <td>23</td>\n",
       "      <td>토</td>\n",
       "    </tr>\n",
       "    <tr>\n",
       "      <th>4171725</th>\n",
       "      <td>SPB-63808</td>\n",
       "      <td>2022-06-26 10:50:36</td>\n",
       "      <td>2183</td>\n",
       "      <td>동방1교</td>\n",
       "      <td>0</td>\n",
       "      <td>2022-06-26 11:33:55</td>\n",
       "      <td>5852</td>\n",
       "      <td>대림동현대2차 201동 앞</td>\n",
       "      <td>43</td>\n",
       "      <td>10790.00</td>\n",
       "      <td>...</td>\n",
       "      <td>신림</td>\n",
       "      <td>0.013068</td>\n",
       "      <td>신도림</td>\n",
       "      <td>0.006255</td>\n",
       "      <td>2022-06-26</td>\n",
       "      <td>10</td>\n",
       "      <td>일</td>\n",
       "      <td>2022-06-26</td>\n",
       "      <td>11</td>\n",
       "      <td>일</td>\n",
       "    </tr>\n",
       "    <tr>\n",
       "      <th>4171726</th>\n",
       "      <td>SPB-31919</td>\n",
       "      <td>2022-06-26 14:02:24</td>\n",
       "      <td>4567</td>\n",
       "      <td>한림대학교 강남성심병원 신관</td>\n",
       "      <td>0</td>\n",
       "      <td>2022-06-26 14:29:16</td>\n",
       "      <td>5852</td>\n",
       "      <td>대림동현대2차 201동 앞</td>\n",
       "      <td>26</td>\n",
       "      <td>3765.96</td>\n",
       "      <td>...</td>\n",
       "      <td>신대방</td>\n",
       "      <td>0.006396</td>\n",
       "      <td>신도림</td>\n",
       "      <td>0.006255</td>\n",
       "      <td>2022-06-26</td>\n",
       "      <td>14</td>\n",
       "      <td>일</td>\n",
       "      <td>2022-06-26</td>\n",
       "      <td>14</td>\n",
       "      <td>일</td>\n",
       "    </tr>\n",
       "    <tr>\n",
       "      <th>4171727</th>\n",
       "      <td>SPB-36891</td>\n",
       "      <td>2022-06-26 14:25:27</td>\n",
       "      <td>1961</td>\n",
       "      <td>신도림테크노근린공원</td>\n",
       "      <td>0</td>\n",
       "      <td>2022-06-26 14:36:24</td>\n",
       "      <td>5852</td>\n",
       "      <td>대림동현대2차 201동 앞</td>\n",
       "      <td>10</td>\n",
       "      <td>1104.47</td>\n",
       "      <td>...</td>\n",
       "      <td>신도림</td>\n",
       "      <td>0.000531</td>\n",
       "      <td>신도림</td>\n",
       "      <td>0.006255</td>\n",
       "      <td>2022-06-26</td>\n",
       "      <td>14</td>\n",
       "      <td>일</td>\n",
       "      <td>2022-06-26</td>\n",
       "      <td>14</td>\n",
       "      <td>일</td>\n",
       "    </tr>\n",
       "    <tr>\n",
       "      <th>4171728</th>\n",
       "      <td>SPB-48358</td>\n",
       "      <td>2022-06-26 13:48:08</td>\n",
       "      <td>4566</td>\n",
       "      <td>대림성원상떼빌아파트</td>\n",
       "      <td>0</td>\n",
       "      <td>2022-06-26 14:37:17</td>\n",
       "      <td>5852</td>\n",
       "      <td>대림동현대2차 201동 앞</td>\n",
       "      <td>49</td>\n",
       "      <td>8010.00</td>\n",
       "      <td>...</td>\n",
       "      <td>신도림</td>\n",
       "      <td>0.006891</td>\n",
       "      <td>신도림</td>\n",
       "      <td>0.006255</td>\n",
       "      <td>2022-06-26</td>\n",
       "      <td>13</td>\n",
       "      <td>일</td>\n",
       "      <td>2022-06-26</td>\n",
       "      <td>14</td>\n",
       "      <td>일</td>\n",
       "    </tr>\n",
       "  </tbody>\n",
       "</table>\n",
       "<p>1132285 rows × 30 columns</p>\n",
       "</div>"
      ],
      "text/plain": [
       "             자전거번호                 대여일시  대여 대여소번호          대여 대여소명  대여거치대  \\\n",
       "634      SPB-57719  2022-06-03 23:56:44       181         망원초록길 입구      0   \n",
       "635      SPB-50408  2022-06-03 23:58:14      3009        서교동사거리(신)      0   \n",
       "636      SPB-62880  2022-06-03 23:52:34      4233        코오롱아파트사거리      0   \n",
       "637      SPB-32837  2022-06-04 00:10:38      3002        벽산상암스마트큐브      0   \n",
       "638      SPB-52219  2022-06-04 00:18:55       184      7번가피자 서교망원점      0   \n",
       "...            ...                  ...       ...              ...    ...   \n",
       "4171724  SPB-57718  2022-06-25 23:02:44      2102          봉림교 교통섬      0   \n",
       "4171725  SPB-63808  2022-06-26 10:50:36      2183             동방1교      0   \n",
       "4171726  SPB-31919  2022-06-26 14:02:24      4567  한림대학교 강남성심병원 신관      0   \n",
       "4171727  SPB-36891  2022-06-26 14:25:27      1961       신도림테크노근린공원      0   \n",
       "4171728  SPB-48358  2022-06-26 13:48:08      4566       대림성원상떼빌아파트      0   \n",
       "\n",
       "                        반납일시  반납대여소번호          반납대여소명  이용시간      이용거리  ...  \\\n",
       "634      2022-06-04 00:03:29      102      망원역 1번출구 앞     6   1052.05  ...   \n",
       "635      2022-06-04 00:04:09      102      망원역 1번출구 앞     5    906.29  ...   \n",
       "636      2022-06-04 00:18:38      102      망원역 1번출구 앞    26   2200.00  ...   \n",
       "637      2022-06-04 00:22:08      102      망원역 1번출구 앞    11   1228.53  ...   \n",
       "638      2022-06-04 00:23:02      102      망원역 1번출구 앞     4    496.95  ...   \n",
       "...                      ...      ...             ...   ...       ...  ...   \n",
       "4171724  2022-06-25 23:28:22     5852  대림동현대2차 201동 앞    25   5480.93  ...   \n",
       "4171725  2022-06-26 11:33:55     5852  대림동현대2차 201동 앞    43  10790.00  ...   \n",
       "4171726  2022-06-26 14:29:16     5852  대림동현대2차 201동 앞    26   3765.96  ...   \n",
       "4171727  2022-06-26 14:36:24     5852  대림동현대2차 201동 앞    10   1104.47  ...   \n",
       "4171728  2022-06-26 14:37:17     5852  대림동현대2차 201동 앞    49   8010.00  ...   \n",
       "\n",
       "        대여소근처역  대여소Distance  반납소근처역 반납소Distance         대여일 대여시간  대여요일  \\\n",
       "634         망원     0.008778      망원    0.000729  2022-06-03   23     금   \n",
       "635       홍대입구     0.005130      망원    0.000729  2022-06-03   23     금   \n",
       "636       홍대입구     0.007054      망원    0.000729  2022-06-03   23     금   \n",
       "637       마포구청     0.001551      망원    0.000729  2022-06-04   00     토   \n",
       "638         망원     0.003665      망원    0.000729  2022-06-04   00     토   \n",
       "...        ...          ...     ...         ...         ...  ...   ...   \n",
       "4171724     신림     0.002830     신도림    0.006255  2022-06-25   23     토   \n",
       "4171725     신림     0.013068     신도림    0.006255  2022-06-26   10     일   \n",
       "4171726    신대방     0.006396     신도림    0.006255  2022-06-26   14     일   \n",
       "4171727    신도림     0.000531     신도림    0.006255  2022-06-26   14     일   \n",
       "4171728    신도림     0.006891     신도림    0.006255  2022-06-26   13     일   \n",
       "\n",
       "                반납일 반납시간 반납요일  \n",
       "634      2022-06-04   00    토  \n",
       "635      2022-06-04   00    토  \n",
       "636      2022-06-04   00    토  \n",
       "637      2022-06-04   00    토  \n",
       "638      2022-06-04   00    토  \n",
       "...             ...  ...  ...  \n",
       "4171724  2022-06-25   23    토  \n",
       "4171725  2022-06-26   11    일  \n",
       "4171726  2022-06-26   14    일  \n",
       "4171727  2022-06-26   14    일  \n",
       "4171728  2022-06-26   14    일  \n",
       "\n",
       "[1132285 rows x 30 columns]"
      ]
     },
     "execution_count": 59,
     "metadata": {},
     "output_type": "execute_result"
    }
   ],
   "source": [
    "# 주말데이터만 보기\n",
    "\n",
    "weekend_data = df[(df['반납요일']=='토')|(df['반납요일']=='일')]\n",
    "weekend_data"
   ]
  },
  {
   "cell_type": "code",
   "execution_count": 80,
   "id": "40436784",
   "metadata": {},
   "outputs": [
    {
     "data": {
      "text/plain": [
       "<AxesSubplot:>"
      ]
     },
     "execution_count": 80,
     "metadata": {},
     "output_type": "execute_result"
    },
    {
     "data": {
      "image/png": "[encoded data removed]",
      "text/plain": [
       "<Figure size 1440x864 with 1 Axes>"
      ]
     },
     "metadata": {
      "image/png": {
       "height": 684,
       "width": 1164
      }
     },
     "output_type": "display_data"
    }
   ],
   "source": [
    "weekend_data['이용시간'].hist(figsize=(20,12), bins=10000)"
   ]
  },
  {
   "cell_type": "code",
   "execution_count": 84,
   "id": "cdd19c74",
   "metadata": {},
   "outputs": [
    {
     "data": {
      "image/png": "[encoded data removed]",
      "text/plain": [
       "<Figure size 432x288 with 1 Axes>"
      ]
     },
     "metadata": {
      "image/png": {
       "height": 249,
       "width": 408
      }
     },
     "output_type": "display_data"
    }
   ],
   "source": [
    "weekend_data['이용시간'].plot.hist(bins=5000,color=\"red\")\n",
    "plt.xlim([0,120])\n",
    "plt.show()"
   ]
  },
  {
   "cell_type": "code",
   "execution_count": 78,
   "id": "c2a83269",
   "metadata": {},
   "outputs": [
    {
     "data": {
      "text/plain": [
       "array([[<AxesSubplot:title={'center':'대여 대여소번호'}>,\n",
       "        <AxesSubplot:title={'center':'대여거치대'}>]], dtype=object)"
      ]
     },
     "execution_count": 78,
     "metadata": {},
     "output_type": "execute_result"
    },
    {
     "data": {
      "image/png": "[encoded data removed]",
      "text/plain": [
       "<Figure size 1440x864 with 2 Axes>"
      ]
     },
     "metadata": {
      "image/png": {
       "height": 701,
       "width": 1164
      }
     },
     "output_type": "display_data"
    }
   ],
   "source": [
    "\n",
    "weekend_data.iloc[:,:5].hist(figsize=(20,12), bins=100)"
   ]
  },
  {
   "cell_type": "markdown",
   "id": "db1b72ac",
   "metadata": {},
   "source": [
    "weekend_data['대여시간'].hist(bins=100)"
   ]
  },
  {
   "cell_type": "code",
   "execution_count": 111,
   "id": "6a478bef",
   "metadata": {},
   "outputs": [
    {
     "data": {
      "text/plain": [
       "<AxesSubplot:>"
      ]
     },
     "execution_count": 111,
     "metadata": {},
     "output_type": "execute_result"
    },
    {
     "data": {
      "image/png": "[encoded data removed]",
      "text/plain": [
       "<Figure size 432x288 with 1 Axes>"
      ]
     },
     "metadata": {
      "image/png": {
       "height": 249,
       "width": 383
      }
     },
     "output_type": "display_data"
    }
   ],
   "source": [
    "weekend_data['대여시간'].hist(bins=100)"
   ]
  },
  {
   "cell_type": "code",
   "execution_count": 60,
   "id": "4b0c3d31",
   "metadata": {},
   "outputs": [
    {
     "data": {
      "text/html": [
       "<div>\n",
       "<style scoped>\n",
       "    .dataframe tbody tr th:only-of-type {\n",
       "        vertical-align: middle;\n",
       "    }\n",
       "\n",
       "    .dataframe tbody tr th {\n",
       "        vertical-align: top;\n",
       "    }\n",
       "\n",
       "    .dataframe thead th {\n",
       "        text-align: right;\n",
       "    }\n",
       "</style>\n",
       "<table border=\"1\" class=\"dataframe\">\n",
       "  <thead>\n",
       "    <tr style=\"text-align: right;\">\n",
       "      <th></th>\n",
       "      <th>자전거번호</th>\n",
       "      <th>대여일시</th>\n",
       "      <th>대여 대여소번호</th>\n",
       "      <th>대여 대여소명</th>\n",
       "      <th>대여거치대</th>\n",
       "      <th>반납일시</th>\n",
       "      <th>반납대여소번호</th>\n",
       "      <th>반납대여소명</th>\n",
       "      <th>이용시간</th>\n",
       "      <th>이용거리</th>\n",
       "      <th>...</th>\n",
       "      <th>대여소근처역</th>\n",
       "      <th>대여소Distance</th>\n",
       "      <th>반납소근처역</th>\n",
       "      <th>반납소Distance</th>\n",
       "      <th>대여일</th>\n",
       "      <th>대여시간</th>\n",
       "      <th>대여요일</th>\n",
       "      <th>반납일</th>\n",
       "      <th>반납시간</th>\n",
       "      <th>반납요일</th>\n",
       "    </tr>\n",
       "  </thead>\n",
       "  <tbody>\n",
       "    <tr>\n",
       "      <th>0</th>\n",
       "      <td>SPB-38963</td>\n",
       "      <td>2022-06-01 00:17:09</td>\n",
       "      <td>106</td>\n",
       "      <td>합정역 7번출구 앞</td>\n",
       "      <td>0</td>\n",
       "      <td>2022-06-01 00:48:48</td>\n",
       "      <td>102</td>\n",
       "      <td>망원역 1번출구 앞</td>\n",
       "      <td>31</td>\n",
       "      <td>728.58</td>\n",
       "      <td>...</td>\n",
       "      <td>합정</td>\n",
       "      <td>0.001225</td>\n",
       "      <td>망원</td>\n",
       "      <td>0.000729</td>\n",
       "      <td>2022-06-01</td>\n",
       "      <td>00</td>\n",
       "      <td>수</td>\n",
       "      <td>2022-06-01</td>\n",
       "      <td>00</td>\n",
       "      <td>수</td>\n",
       "    </tr>\n",
       "    <tr>\n",
       "      <th>1</th>\n",
       "      <td>SPB-49074</td>\n",
       "      <td>2022-06-01 00:41:18</td>\n",
       "      <td>3123</td>\n",
       "      <td>DMC파크뷰자이1단지 110동 앞</td>\n",
       "      <td>0</td>\n",
       "      <td>2022-06-01 01:14:29</td>\n",
       "      <td>102</td>\n",
       "      <td>망원역 1번출구 앞</td>\n",
       "      <td>33</td>\n",
       "      <td>3040.00</td>\n",
       "      <td>...</td>\n",
       "      <td>가좌</td>\n",
       "      <td>0.003915</td>\n",
       "      <td>망원</td>\n",
       "      <td>0.000729</td>\n",
       "      <td>2022-06-01</td>\n",
       "      <td>00</td>\n",
       "      <td>수</td>\n",
       "      <td>2022-06-01</td>\n",
       "      <td>01</td>\n",
       "      <td>수</td>\n",
       "    </tr>\n",
       "    <tr>\n",
       "      <th>2</th>\n",
       "      <td>SPB-54595</td>\n",
       "      <td>2022-06-01 01:12:13</td>\n",
       "      <td>497</td>\n",
       "      <td>합정동주민센터 앞</td>\n",
       "      <td>0</td>\n",
       "      <td>2022-06-01 01:15:55</td>\n",
       "      <td>102</td>\n",
       "      <td>망원역 1번출구 앞</td>\n",
       "      <td>3</td>\n",
       "      <td>550.00</td>\n",
       "      <td>...</td>\n",
       "      <td>합정</td>\n",
       "      <td>0.002705</td>\n",
       "      <td>망원</td>\n",
       "      <td>0.000729</td>\n",
       "      <td>2022-06-01</td>\n",
       "      <td>01</td>\n",
       "      <td>수</td>\n",
       "      <td>2022-06-01</td>\n",
       "      <td>01</td>\n",
       "      <td>수</td>\n",
       "    </tr>\n",
       "    <tr>\n",
       "      <th>3</th>\n",
       "      <td>SPB-82472</td>\n",
       "      <td>2022-06-01 01:43:20</td>\n",
       "      <td>114</td>\n",
       "      <td>홍대입구역 8번출구 앞</td>\n",
       "      <td>99</td>\n",
       "      <td>2022-06-01 01:52:43</td>\n",
       "      <td>102</td>\n",
       "      <td>망원역 1번출구 앞</td>\n",
       "      <td>9</td>\n",
       "      <td>1830.00</td>\n",
       "      <td>...</td>\n",
       "      <td>홍대입구</td>\n",
       "      <td>0.000967</td>\n",
       "      <td>망원</td>\n",
       "      <td>0.000729</td>\n",
       "      <td>2022-06-01</td>\n",
       "      <td>01</td>\n",
       "      <td>수</td>\n",
       "      <td>2022-06-01</td>\n",
       "      <td>01</td>\n",
       "      <td>수</td>\n",
       "    </tr>\n",
       "    <tr>\n",
       "      <th>4</th>\n",
       "      <td>SPB-58359</td>\n",
       "      <td>2022-06-01 00:05:01</td>\n",
       "      <td>135</td>\n",
       "      <td>명물길 원형무대 앞</td>\n",
       "      <td>0</td>\n",
       "      <td>2022-06-01 01:53:22</td>\n",
       "      <td>102</td>\n",
       "      <td>망원역 1번출구 앞</td>\n",
       "      <td>108</td>\n",
       "      <td>7600.00</td>\n",
       "      <td>...</td>\n",
       "      <td>신촌</td>\n",
       "      <td>0.004578</td>\n",
       "      <td>망원</td>\n",
       "      <td>0.000729</td>\n",
       "      <td>2022-06-01</td>\n",
       "      <td>00</td>\n",
       "      <td>수</td>\n",
       "      <td>2022-06-01</td>\n",
       "      <td>01</td>\n",
       "      <td>수</td>\n",
       "    </tr>\n",
       "    <tr>\n",
       "      <th>...</th>\n",
       "      <td>...</td>\n",
       "      <td>...</td>\n",
       "      <td>...</td>\n",
       "      <td>...</td>\n",
       "      <td>...</td>\n",
       "      <td>...</td>\n",
       "      <td>...</td>\n",
       "      <td>...</td>\n",
       "      <td>...</td>\n",
       "      <td>...</td>\n",
       "      <td>...</td>\n",
       "      <td>...</td>\n",
       "      <td>...</td>\n",
       "      <td>...</td>\n",
       "      <td>...</td>\n",
       "      <td>...</td>\n",
       "      <td>...</td>\n",
       "      <td>...</td>\n",
       "      <td>...</td>\n",
       "      <td>...</td>\n",
       "      <td>...</td>\n",
       "    </tr>\n",
       "    <tr>\n",
       "      <th>4171740</th>\n",
       "      <td>SPB-30739</td>\n",
       "      <td>2022-06-28 21:21:40</td>\n",
       "      <td>255</td>\n",
       "      <td>도림사거리</td>\n",
       "      <td>0</td>\n",
       "      <td>2022-06-28 21:28:13</td>\n",
       "      <td>5852</td>\n",
       "      <td>대림동현대2차 201동 앞</td>\n",
       "      <td>6</td>\n",
       "      <td>846.63</td>\n",
       "      <td>...</td>\n",
       "      <td>신도림</td>\n",
       "      <td>0.010068</td>\n",
       "      <td>신도림</td>\n",
       "      <td>0.006255</td>\n",
       "      <td>2022-06-28</td>\n",
       "      <td>21</td>\n",
       "      <td>화</td>\n",
       "      <td>2022-06-28</td>\n",
       "      <td>21</td>\n",
       "      <td>화</td>\n",
       "    </tr>\n",
       "    <tr>\n",
       "      <th>4171741</th>\n",
       "      <td>SPB-81496</td>\n",
       "      <td>2022-06-29 02:53:22</td>\n",
       "      <td>281</td>\n",
       "      <td>신동아아파트 앞</td>\n",
       "      <td>99</td>\n",
       "      <td>2022-06-29 02:59:24</td>\n",
       "      <td>5852</td>\n",
       "      <td>대림동현대2차 201동 앞</td>\n",
       "      <td>6</td>\n",
       "      <td>620.00</td>\n",
       "      <td>...</td>\n",
       "      <td>대림</td>\n",
       "      <td>0.005576</td>\n",
       "      <td>신도림</td>\n",
       "      <td>0.006255</td>\n",
       "      <td>2022-06-29</td>\n",
       "      <td>02</td>\n",
       "      <td>수</td>\n",
       "      <td>2022-06-29</td>\n",
       "      <td>02</td>\n",
       "      <td>수</td>\n",
       "    </tr>\n",
       "    <tr>\n",
       "      <th>4171742</th>\n",
       "      <td>SPB-53328</td>\n",
       "      <td>2022-06-29 10:15:15</td>\n",
       "      <td>1961</td>\n",
       "      <td>신도림테크노근린공원</td>\n",
       "      <td>0</td>\n",
       "      <td>2022-06-29 10:20:31</td>\n",
       "      <td>5852</td>\n",
       "      <td>대림동현대2차 201동 앞</td>\n",
       "      <td>5</td>\n",
       "      <td>750.51</td>\n",
       "      <td>...</td>\n",
       "      <td>신도림</td>\n",
       "      <td>0.000531</td>\n",
       "      <td>신도림</td>\n",
       "      <td>0.006255</td>\n",
       "      <td>2022-06-29</td>\n",
       "      <td>10</td>\n",
       "      <td>수</td>\n",
       "      <td>2022-06-29</td>\n",
       "      <td>10</td>\n",
       "      <td>수</td>\n",
       "    </tr>\n",
       "    <tr>\n",
       "      <th>4171743</th>\n",
       "      <td>SPB-47475</td>\n",
       "      <td>2022-06-29 14:49:09</td>\n",
       "      <td>1961</td>\n",
       "      <td>신도림테크노근린공원</td>\n",
       "      <td>0</td>\n",
       "      <td>2022-06-29 15:49:09</td>\n",
       "      <td>5852</td>\n",
       "      <td>대림동현대2차 201동 앞</td>\n",
       "      <td>60</td>\n",
       "      <td>820.00</td>\n",
       "      <td>...</td>\n",
       "      <td>신도림</td>\n",
       "      <td>0.000531</td>\n",
       "      <td>신도림</td>\n",
       "      <td>0.006255</td>\n",
       "      <td>2022-06-29</td>\n",
       "      <td>14</td>\n",
       "      <td>수</td>\n",
       "      <td>2022-06-29</td>\n",
       "      <td>15</td>\n",
       "      <td>수</td>\n",
       "    </tr>\n",
       "    <tr>\n",
       "      <th>4171744</th>\n",
       "      <td>SPB-30138</td>\n",
       "      <td>2022-06-30 22:24:05</td>\n",
       "      <td>1913</td>\n",
       "      <td>구로리공원</td>\n",
       "      <td>0</td>\n",
       "      <td>2022-06-30 22:34:23</td>\n",
       "      <td>5852</td>\n",
       "      <td>대림동현대2차 201동 앞</td>\n",
       "      <td>10</td>\n",
       "      <td>1671.88</td>\n",
       "      <td>...</td>\n",
       "      <td>대림</td>\n",
       "      <td>0.004133</td>\n",
       "      <td>신도림</td>\n",
       "      <td>0.006255</td>\n",
       "      <td>2022-06-30</td>\n",
       "      <td>22</td>\n",
       "      <td>목</td>\n",
       "      <td>2022-06-30</td>\n",
       "      <td>22</td>\n",
       "      <td>목</td>\n",
       "    </tr>\n",
       "  </tbody>\n",
       "</table>\n",
       "<p>3039460 rows × 30 columns</p>\n",
       "</div>"
      ],
      "text/plain": [
       "             자전거번호                 대여일시  대여 대여소번호             대여 대여소명  대여거치대  \\\n",
       "0        SPB-38963  2022-06-01 00:17:09       106          합정역 7번출구 앞      0   \n",
       "1        SPB-49074  2022-06-01 00:41:18      3123  DMC파크뷰자이1단지 110동 앞      0   \n",
       "2        SPB-54595  2022-06-01 01:12:13       497           합정동주민센터 앞      0   \n",
       "3        SPB-82472  2022-06-01 01:43:20       114        홍대입구역 8번출구 앞     99   \n",
       "4        SPB-58359  2022-06-01 00:05:01       135          명물길 원형무대 앞      0   \n",
       "...            ...                  ...       ...                 ...    ...   \n",
       "4171740  SPB-30739  2022-06-28 21:21:40       255               도림사거리      0   \n",
       "4171741  SPB-81496  2022-06-29 02:53:22       281            신동아아파트 앞     99   \n",
       "4171742  SPB-53328  2022-06-29 10:15:15      1961          신도림테크노근린공원      0   \n",
       "4171743  SPB-47475  2022-06-29 14:49:09      1961          신도림테크노근린공원      0   \n",
       "4171744  SPB-30138  2022-06-30 22:24:05      1913               구로리공원      0   \n",
       "\n",
       "                        반납일시  반납대여소번호          반납대여소명  이용시간     이용거리  ...  \\\n",
       "0        2022-06-01 00:48:48      102      망원역 1번출구 앞    31   728.58  ...   \n",
       "1        2022-06-01 01:14:29      102      망원역 1번출구 앞    33  3040.00  ...   \n",
       "2        2022-06-01 01:15:55      102      망원역 1번출구 앞     3   550.00  ...   \n",
       "3        2022-06-01 01:52:43      102      망원역 1번출구 앞     9  1830.00  ...   \n",
       "4        2022-06-01 01:53:22      102      망원역 1번출구 앞   108  7600.00  ...   \n",
       "...                      ...      ...             ...   ...      ...  ...   \n",
       "4171740  2022-06-28 21:28:13     5852  대림동현대2차 201동 앞     6   846.63  ...   \n",
       "4171741  2022-06-29 02:59:24     5852  대림동현대2차 201동 앞     6   620.00  ...   \n",
       "4171742  2022-06-29 10:20:31     5852  대림동현대2차 201동 앞     5   750.51  ...   \n",
       "4171743  2022-06-29 15:49:09     5852  대림동현대2차 201동 앞    60   820.00  ...   \n",
       "4171744  2022-06-30 22:34:23     5852  대림동현대2차 201동 앞    10  1671.88  ...   \n",
       "\n",
       "        대여소근처역  대여소Distance  반납소근처역 반납소Distance         대여일 대여시간  대여요일  \\\n",
       "0           합정     0.001225      망원    0.000729  2022-06-01   00     수   \n",
       "1           가좌     0.003915      망원    0.000729  2022-06-01   00     수   \n",
       "2           합정     0.002705      망원    0.000729  2022-06-01   01     수   \n",
       "3         홍대입구     0.000967      망원    0.000729  2022-06-01   01     수   \n",
       "4           신촌     0.004578      망원    0.000729  2022-06-01   00     수   \n",
       "...        ...          ...     ...         ...         ...  ...   ...   \n",
       "4171740    신도림     0.010068     신도림    0.006255  2022-06-28   21     화   \n",
       "4171741     대림     0.005576     신도림    0.006255  2022-06-29   02     수   \n",
       "4171742    신도림     0.000531     신도림    0.006255  2022-06-29   10     수   \n",
       "4171743    신도림     0.000531     신도림    0.006255  2022-06-29   14     수   \n",
       "4171744     대림     0.004133     신도림    0.006255  2022-06-30   22     목   \n",
       "\n",
       "                반납일 반납시간 반납요일  \n",
       "0        2022-06-01   00    수  \n",
       "1        2022-06-01   01    수  \n",
       "2        2022-06-01   01    수  \n",
       "3        2022-06-01   01    수  \n",
       "4        2022-06-01   01    수  \n",
       "...             ...  ...  ...  \n",
       "4171740  2022-06-28   21    화  \n",
       "4171741  2022-06-29   02    수  \n",
       "4171742  2022-06-29   10    수  \n",
       "4171743  2022-06-29   15    수  \n",
       "4171744  2022-06-30   22    목  \n",
       "\n",
       "[3039460 rows x 30 columns]"
      ]
     },
     "execution_count": 60,
     "metadata": {},
     "output_type": "execute_result"
    }
   ],
   "source": [
    "# 평일데이터만 보기\n",
    "\n",
    "weekday_data = df[~(df['반납요일']=='토')&~(df['반납요일']=='일')]\n",
    "weekday_data"
   ]
  },
  {
   "cell_type": "code",
   "execution_count": 34,
   "id": "44a79bad",
   "metadata": {},
   "outputs": [
    {
     "data": {
      "text/plain": [
       "대여 대여소명          반납대여소명         \n",
       "한강공원 망원나들목       한강공원 망원나들목         1375\n",
       "뚝섬유원지역 1번출구 앞    뚝섬유원지역 1번출구 앞      1105\n",
       "여의나루역 1번출구 앞     여의나루역 1번출구 앞       1102\n",
       "월드컵공원            월드컵공원               854\n",
       "서울숲 관리사무소        서울숲 관리사무소           680\n",
       "봉림교 교통섬          봉림교 교통섬             591\n",
       "올림픽공원역 3번출구      올림픽공원역 3번출구         552\n",
       "옥수역 3번출구         옥수역 3번출구            537\n",
       "당산육갑문            당산육갑문               523\n",
       "한신16차아파트 119동 앞  한신16차아파트 119동 앞     469\n",
       "dtype: int64"
      ]
     },
     "execution_count": 34,
     "metadata": {},
     "output_type": "execute_result"
    }
   ],
   "source": [
    "# 주말데이터만 보기\n",
    "\n",
    "df[(df['반납요일']=='토')|(df['반납요일']=='일')][['대여 대여소명','반납대여소명']].value_counts().head(10)"
   ]
  },
  {
   "cell_type": "code",
   "execution_count": 44,
   "id": "623eeef0",
   "metadata": {},
   "outputs": [
    {
     "data": {
      "text/plain": [
       "대여시간  반납시간\n",
       "18    18      48435\n",
       "17    17      47913\n",
       "16    16      44698\n",
       "19    19      42226\n",
       "15    15      41467\n",
       "21    21      40963\n",
       "20    20      40752\n",
       "13    13      40512\n",
       "14    14      39146\n",
       "22    22      38519\n",
       "dtype: int64"
      ]
     },
     "execution_count": 44,
     "metadata": {},
     "output_type": "execute_result"
    }
   ],
   "source": [
    "# 주말데이터 주로 이용하는 시간 파악하기 \n",
    "\n",
    "df[(df['반납요일']=='토')|(df['반납요일']=='일')][['대여시간','반납시간']].value_counts().head(10)"
   ]
  },
  {
   "cell_type": "code",
   "execution_count": 87,
   "id": "dbf81771",
   "metadata": {},
   "outputs": [
    {
     "data": {
      "text/plain": [
       "대여시간  반납시간  이용시간\n",
       "17    17    5       3278\n",
       "            6       3245\n",
       "18    18    6       3185\n",
       "16    16    5       3141\n",
       "18    18    5       3125\n",
       "13    13    5       3108\n",
       "17    17    7       3045\n",
       "13    13    6       2964\n",
       "16    16    6       2963\n",
       "18    18    7       2950\n",
       "13    13    4       2915\n",
       "17    17    4       2913\n",
       "18    18    4       2912\n",
       "15    15    5       2909\n",
       "14    14    5       2897\n",
       "12    12    5       2876\n",
       "16    16    4       2859\n",
       "12    12    6       2845\n",
       "15    15    6       2841\n",
       "17    17    8       2823\n",
       "14    14    6       2788\n",
       "15    15    4       2757\n",
       "18    18    8       2749\n",
       "16    16    7       2748\n",
       "12    12    4       2746\n",
       "19    19    5       2696\n",
       "14    14    4       2694\n",
       "15    15    7       2676\n",
       "19    19    7       2668\n",
       "12    12    7       2656\n",
       "dtype: int64"
      ]
     },
     "execution_count": 87,
     "metadata": {},
     "output_type": "execute_result"
    }
   ],
   "source": [
    "# 주말데이터 주로 이용시간  파악하기 \n",
    "\n",
    "df[(df['반납요일']=='토')|(df['반납요일']=='일')][['대여시간','반납시간','이용시간']].value_counts().head(30)"
   ]
  },
  {
   "cell_type": "code",
   "execution_count": 45,
   "id": "d01aa804",
   "metadata": {},
   "outputs": [
    {
     "data": {
      "text/plain": [
       "대여시간\n",
       "17      79909\n",
       "18      79442\n",
       "16      75403\n",
       "19      73239\n",
       "20      71940\n",
       "15      69390\n",
       "21      68905\n",
       "14      64145\n",
       "13      63254\n",
       "22      59350\n",
       "dtype: int64"
      ]
     },
     "execution_count": 45,
     "metadata": {},
     "output_type": "execute_result"
    }
   ],
   "source": [
    "# 주말데이터 주로 대여하는 시간 파악하기 \n",
    "\n",
    "df[(df['반납요일']=='토')|(df['반납요일']=='일')][['대여시간']].value_counts().head(10)"
   ]
  },
  {
   "cell_type": "code",
   "execution_count": 46,
   "id": "cf1ae3eb",
   "metadata": {},
   "outputs": [
    {
     "data": {
      "text/plain": [
       "반납시간\n",
       "18      80356\n",
       "17      78615\n",
       "19      73285\n",
       "21      72453\n",
       "16      72373\n",
       "20      71938\n",
       "22      67428\n",
       "15      65785\n",
       "14      61300\n",
       "13      61056\n",
       "dtype: int64"
      ]
     },
     "execution_count": 46,
     "metadata": {},
     "output_type": "execute_result"
    }
   ],
   "source": [
    "# 주말데이터 주로 반납하는 시간 파악하기 \n",
    "\n",
    "df[(df['반납요일']=='토')|(df['반납요일']=='일')][['반납시간']].value_counts().head(10)"
   ]
  },
  {
   "cell_type": "code",
   "execution_count": 64,
   "id": "0b28f91c",
   "metadata": {},
   "outputs": [
    {
     "data": {
      "text/plain": [
       "이용시간\n",
       "5       54791\n",
       "6       54321\n",
       "7       52021\n",
       "4       50843\n",
       "8       48733\n",
       "9       45596\n",
       "10      42062\n",
       "3       40875\n",
       "11      38316\n",
       "12      35178\n",
       "13      32030\n",
       "14      28898\n",
       "15      26665\n",
       "2       25381\n",
       "16      24455\n",
       "17      22012\n",
       "18      20379\n",
       "19      18929\n",
       "20      17551\n",
       "21      16452\n",
       "22      15267\n",
       "23      14261\n",
       "24      13431\n",
       "25      12709\n",
       "26      12063\n",
       "27      11295\n",
       "28      10791\n",
       "29      10354\n",
       "30       9905\n",
       "31       9739\n",
       "dtype: int64"
      ]
     },
     "execution_count": 64,
     "metadata": {},
     "output_type": "execute_result"
    }
   ],
   "source": [
    "# 주말데이터 주로 반납하는 시간 파악하기 \n",
    "\n",
    "df[(df['반납요일']=='토')|(df['반납요일']=='일')][['이용시간']].value_counts().head(30)"
   ]
  },
  {
   "cell_type": "code",
   "execution_count": 40,
   "id": "8c4329bc",
   "metadata": {},
   "outputs": [
    {
     "data": {
      "text/plain": [
       "대여 대여소명        반납대여소명       \n",
       "한강공원 망원나들목     한강공원 망원나들목       1738\n",
       "뚝섬유원지역 1번출구 앞  뚝섬유원지역 1번출구 앞    1518\n",
       "여의나루역 1번출구 앞   여의나루역 1번출구 앞     1240\n",
       "봉림교 교통섬        봉림교 교통섬          1061\n",
       "천왕역 1번 출입구 앞   천왕이펜하우스5단지 앞      994\n",
       "코오롱One&Only타워  마곡나루역 3번 출구       898\n",
       "서울축산농협(장안지점)   장한평역 1번출구         847\n",
       "옥수역 3번출구       옥수역 3번출구          833\n",
       "천왕이펜하우스5단지 앞   천왕역 1번 출입구 앞      818\n",
       "그랜드아이파크아파트 앞   가양역 8번출구          794\n",
       "dtype: int64"
      ]
     },
     "execution_count": 40,
     "metadata": {},
     "output_type": "execute_result"
    }
   ],
   "source": [
    "# 평일 데이터만 보기\n",
    "\n",
    "df[~(df['반납요일']=='토')&~(df['반납요일']=='일')][['대여 대여소명','반납대여소명']].value_counts().head(10)"
   ]
  },
  {
   "cell_type": "code",
   "execution_count": 99,
   "id": "711d4cbe",
   "metadata": {},
   "outputs": [
    {
     "data": {
      "text/plain": [
       "대여시간  반납시간\n",
       "18    18      230532\n",
       "08    08      204478\n",
       "19    19      155065\n",
       "17    17      151632\n",
       "07    07      124024\n",
       "20    20      121551\n",
       "21    21      116172\n",
       "16    16      111368\n",
       "22    22      108862\n",
       "09    09       93654\n",
       "18    19       92133\n",
       "17    18       82030\n",
       "15    15       79669\n",
       "12    12       74943\n",
       "13    13       70861\n",
       "19    20       69855\n",
       "23    23       69667\n",
       "11    11       66873\n",
       "14    14       64201\n",
       "20    21       63645\n",
       "dtype: int64"
      ]
     },
     "execution_count": 99,
     "metadata": {},
     "output_type": "execute_result"
    }
   ],
   "source": [
    "# 평일 데이터 주로 이용하는 시간 파악하기 \n",
    "\n",
    "df[~(df['반납요일']=='토')&~(df['반납요일']=='일')][['대여시간','반납시간']].value_counts().head(20)"
   ]
  },
  {
   "cell_type": "code",
   "execution_count": 104,
   "id": "3ff79f05",
   "metadata": {},
   "outputs": [
    {
     "data": {
      "text/plain": [
       "<AxesSubplot:>"
      ]
     },
     "execution_count": 104,
     "metadata": {},
     "output_type": "execute_result"
    },
    {
     "data": {
      "image/png": "[encoded data removed]",
      "text/plain": [
       "<Figure size 432x288 with 1 Axes>"
      ]
     },
     "metadata": {
      "image/png": {
       "height": 249,
       "width": 389
      }
     },
     "output_type": "display_data"
    }
   ],
   "source": [
    "weekday_data['대여시간'].hist(bins=100)"
   ]
  },
  {
   "cell_type": "code",
   "execution_count": 105,
   "id": "f18c423b",
   "metadata": {},
   "outputs": [
    {
     "data": {
      "text/plain": [
       "<AxesSubplot:>"
      ]
     },
     "execution_count": 105,
     "metadata": {},
     "output_type": "execute_result"
    },
    {
     "data": {
      "image/png": "[encoded data removed]",
      "text/plain": [
       "<Figure size 432x288 with 1 Axes>"
      ]
     },
     "metadata": {
      "image/png": {
       "height": 249,
       "width": 389
      }
     },
     "output_type": "display_data"
    }
   ],
   "source": [
    "weekday_data['반납시간'].hist(bins=100)"
   ]
  },
  {
   "cell_type": "code",
   "execution_count": 42,
   "id": "1ceb35a8",
   "metadata": {},
   "outputs": [
    {
     "data": {
      "text/plain": [
       "대여시간\n",
       "18      333188\n",
       "17      243002\n",
       "08      239471\n",
       "19      234576\n",
       "20      193618\n",
       "21      179582\n",
       "16      173352\n",
       "07      168250\n",
       "22      152336\n",
       "15      127169\n",
       "dtype: int64"
      ]
     },
     "execution_count": 42,
     "metadata": {},
     "output_type": "execute_result"
    }
   ],
   "source": [
    "# 평일 데이터 주로 대여하는 시간 파악하기 \n",
    "\n",
    "df[~(df['반납요일']=='토')&~(df['반납요일']=='일')][['대여시간']].value_counts().head(10)"
   ]
  },
  {
   "cell_type": "code",
   "execution_count": 43,
   "id": "dcea013d",
   "metadata": {},
   "outputs": [
    {
     "data": {
      "text/plain": [
       "반납시간\n",
       "18      320500\n",
       "19      256495\n",
       "08      249098\n",
       "17      212070\n",
       "20      201713\n",
       "21      189534\n",
       "22      175723\n",
       "16      157962\n",
       "07      142225\n",
       "09      127370\n",
       "dtype: int64"
      ]
     },
     "execution_count": 43,
     "metadata": {},
     "output_type": "execute_result"
    }
   ],
   "source": [
    "# 평일 데이터 주로 반납하는 시간 파악하기 \n",
    "\n",
    "df[~(df['반납요일']=='토')&~(df['반납요일']=='일')][['반납시간']].value_counts().head(10)"
   ]
  },
  {
   "cell_type": "code",
   "execution_count": 113,
   "id": "902b014d",
   "metadata": {},
   "outputs": [
    {
     "data": {
      "text/plain": [
       "대여 소재지  반납 소재지\n",
       "강서구     강서구       332751\n",
       "송파구     송파구       239637\n",
       "영등포구    영등포구      171806\n",
       "양천구     양천구       139506\n",
       "노원구     노원구       137045\n",
       "마포구     마포구       117048\n",
       "강동구     강동구       112992\n",
       "광진구     광진구       107757\n",
       "구로구     구로구        78035\n",
       "동대문구    동대문구       68809\n",
       "dtype: int64"
      ]
     },
     "execution_count": 113,
     "metadata": {},
     "output_type": "execute_result"
    }
   ],
   "source": [
    "weekday_data[['대여 소재지','반납 소재지']].value_counts().head(10)"
   ]
  },
  {
   "cell_type": "code",
   "execution_count": 114,
   "id": "0498a391",
   "metadata": {},
   "outputs": [
    {
     "data": {
      "text/plain": [
       "대여 소재지  대여소 동  반납 소재지  반납소 동\n",
       "강서구     가양1동   강서구     가양1동     63381\n",
       "영등포구    여의동    영등포구    여의동      28735\n",
       "노원구     상계동    노원구     상계동      21185\n",
       "마포구     상암동    마포구     상암동      20947\n",
       "강서구     발산1동   강서구     발산1동     14286\n",
       "양천구     목5동    양천구     목5동      13875\n",
       "구로구     오류2동   구로구     오류2동     13433\n",
       "강서구     공항동    강서구     공항동      13008\n",
       "                       가양1동     12649\n",
       "        발산1동   강서구     가양1동     11994\n",
       "dtype: int64"
      ]
     },
     "execution_count": 114,
     "metadata": {},
     "output_type": "execute_result"
    }
   ],
   "source": [
    "weekday_data[['대여 소재지','대여소 동','반납 소재지','반납소 동']].value_counts().head(10)"
   ]
  },
  {
   "cell_type": "code",
   "execution_count": 115,
   "id": "ca71c148",
   "metadata": {},
   "outputs": [
    {
     "data": {
      "text/plain": [
       "대여 대여소명                        반납대여소명       \n",
       "코오롱One&Only타워                  마곡나루역 3번 출구      898\n",
       "LG유플러스 마곡사옥                    마곡나루역 3번 출구      745\n",
       "마곡나루역 3번 출구                    LG유플러스 마곡사옥      526\n",
       "마곡나루역 2번 출구                    LG유플러스 마곡사옥      473\n",
       "서남환경공원 버스정류장                   마곡나루역 2번 출구      464\n",
       "센서텍㈜                           마곡나루역 3번 출구      460\n",
       "마곡나루역 5번출구 뒤편                  마곡센트럴타워 1차       438\n",
       "마곡나루역 3번 출구                    코오롱One&Only타워    436\n",
       "벽산아파트                          양천향교역8번출구        425\n",
       "마곡나루역 2번 출구                    코오롱One&Only타워    423\n",
       "                               서울식물원 잔디마당 앞     421\n",
       "마곡나루역 5번출구 뒤편                  LG유플러스 마곡사옥      417\n",
       "                               코오롱One&Only타워    368\n",
       "마곡나루역 2번 출구                    마곡나루역 2번 출구      367\n",
       "LG유플러스 마곡사옥                    마곡나루역 2번 출구      363\n",
       "마곡나루역 2번 출구                    힐스테이트에코          362\n",
       "마곡센트럴타워 1차                     마곡나루역 5번출구 뒤편    350\n",
       "마곡나루역 2번 출구                    서남환경공원 버스정류장     348\n",
       "서울식물원 잔디마당 앞                   마곡나루역 2번 출구      339\n",
       "마곡역 버스정류장(마곡나루역1번출구, 웰튼병원 방면)  마곡나루역 2번 출구      336\n",
       "dtype: int64"
      ]
     },
     "execution_count": 115,
     "metadata": {},
     "output_type": "execute_result"
    }
   ],
   "source": [
    "weekday_data[(weekday_data['대여소 동']=='가양1동')&(weekday_data['반납소 동']=='가양1동')][['대여 대여소명','반납대여소명']].value_counts().head(20)"
   ]
  },
  {
   "cell_type": "code",
   "execution_count": 119,
   "id": "d9bf898d",
   "metadata": {},
   "outputs": [
    {
     "data": {
      "text/plain": [
       "대여시간  이용시간\n",
       "18    3       133\n",
       "      4       122\n",
       "17    4       116\n",
       "      3        98\n",
       "16    4        39\n",
       "      3        37\n",
       "17    2        35\n",
       "18    2        27\n",
       "      5        24\n",
       "17    5        20\n",
       "19    4        15\n",
       "      3        14\n",
       "15    3        13\n",
       "08    4        13\n",
       "      3        11\n",
       "07    4         9\n",
       "      3         9\n",
       "15    4         8\n",
       "21    4         8\n",
       "20    4         8\n",
       "dtype: int64"
      ]
     },
     "execution_count": 119,
     "metadata": {},
     "output_type": "execute_result"
    }
   ],
   "source": [
    "weekday_data[(weekday_data['대여 대여소명']=='코오롱One&Only타워')&(weekday_data['반납대여소명']=='마곡나루역 3번 출구')][['대여시간','이용시간']].value_counts().head(20)"
   ]
  },
  {
   "cell_type": "code",
   "execution_count": 130,
   "id": "01d794d1",
   "metadata": {},
   "outputs": [
    {
     "data": {
      "text/plain": [
       "array([[<AxesSubplot:title={'center':'이용시간'}>]], dtype=object)"
      ]
     },
     "execution_count": 130,
     "metadata": {},
     "output_type": "execute_result"
    },
    {
     "data": {
      "image/png": "[encoded data removed]",
      "text/plain": [
       "<Figure size 432x288 with 1 Axes>"
      ]
     },
     "metadata": {
      "image/png": {
       "height": 266,
       "width": 372
      }
     },
     "output_type": "display_data"
    }
   ],
   "source": [
    "weekday_data[(weekday_data['대여 대여소명']=='코오롱One&Only타워')&(weekday_data['반납대여소명']=='마곡나루역 3번 출구')][['대여시간','이용시간']].hist(bins=100)"
   ]
  },
  {
   "cell_type": "code",
   "execution_count": 122,
   "id": "eec7dd5d",
   "metadata": {},
   "outputs": [
    {
     "data": {
      "text/plain": [
       "대여 소재지  반납 소재지\n",
       "강서구     강서구       107573\n",
       "송파구     송파구        93209\n",
       "영등포구    영등포구       61215\n",
       "노원구     노원구        54021\n",
       "양천구     양천구        53400\n",
       "마포구     마포구        46811\n",
       "광진구     광진구        43708\n",
       "강동구     강동구        42709\n",
       "관악구     관악구        27770\n",
       "구로구     구로구        27760\n",
       "dtype: int64"
      ]
     },
     "execution_count": 122,
     "metadata": {},
     "output_type": "execute_result"
    }
   ],
   "source": [
    "weekend_data[['대여 소재지','반납 소재지']].value_counts().head(10)"
   ]
  },
  {
   "cell_type": "code",
   "execution_count": 120,
   "id": "89179af6",
   "metadata": {},
   "outputs": [
    {
     "data": {
      "text/plain": [
       "대여 소재지  대여소 동  반납 소재지  반납소 동\n",
       "강서구     가양1동   강서구     가양1동     16931\n",
       "영등포구    여의동    영등포구    여의동      10203\n",
       "노원구     상계동    노원구     상계동       8736\n",
       "마포구     상암동    마포구     상암동       5754\n",
       "양천구     목5동    양천구     목5동       5518\n",
       "구로구     오류2동   구로구     오류2동      4649\n",
       "강서구     발산1동   강서구     발산1동      4427\n",
       "은평구     진관동    은평구     진관동       4358\n",
       "강서구     공항동    강서구     공항동       4270\n",
       "송파구     오륜동    송파구     오륜동       3984\n",
       "dtype: int64"
      ]
     },
     "execution_count": 120,
     "metadata": {},
     "output_type": "execute_result"
    }
   ],
   "source": [
    "weekend_data[['대여 소재지','대여소 동','반납 소재지','반납소 동']].value_counts().head(10)"
   ]
  },
  {
   "cell_type": "code",
   "execution_count": 123,
   "id": "6967a024",
   "metadata": {
    "scrolled": true
   },
   "outputs": [
    {
     "data": {
      "text/plain": [
       "대여 대여소명                        반납대여소명                       \n",
       "마곡나루역 2번 출구                    마곡나루역 2번 출구                      190\n",
       "양천향교역 7번출구앞                    양천향교역 7번출구앞                      155\n",
       "                               발산역 1번, 9번 인근 대여소                139\n",
       "벽산아파트                          양천향교역8번출구                        134\n",
       "마곡역 버스정류장(마곡나루역1번출구, 웰튼병원 방면)  마곡나루역 3번 출구                      132\n",
       "서남환경공원 버스정류장                   마곡나루역 2번 출구                      132\n",
       "마곡역 버스정류장(마곡나루역1번출구, 웰튼병원 방면)  마곡나루역 2번 출구                      129\n",
       "마곡나루역 3번 출구                    마곡역 버스정류장(마곡나루역1번출구, 웰튼병원 방면)    122\n",
       "마곡나루역 2번 출구                    마곡역 버스정류장(마곡나루역1번출구, 웰튼병원 방면)    120\n",
       "마곡 문영비지웍스                      양천향교역 7번출구앞                      116\n",
       "등촌1-10단지 교차로                   발산역 1번, 9번 인근 대여소                113\n",
       "마곡나루역 2번 출구                    서남환경공원 버스정류장                     110\n",
       "양천향교역 7번출구앞                    마곡 문영비지웍스                        103\n",
       "                               등촌1-10단지 교차로                     100\n",
       "등촌1-10단지 교차로                   등촌1-10단지 교차로                     100\n",
       "마곡엠밸리4단지 정문                    마곡엠밸리4단지 정문                       95\n",
       "등촌1-10단지 교차로                   양천향교역 7번출구앞                       94\n",
       "기쁜우리복지관                        기쁜우리복지관                           93\n",
       "발산역 1번, 9번 인근 대여소              등촌1-10단지 교차로                      93\n",
       "마곡나루역 3번 출구                    등촌1-10단지 교차로                      88\n",
       "dtype: int64"
      ]
     },
     "execution_count": 123,
     "metadata": {},
     "output_type": "execute_result"
    }
   ],
   "source": [
    "weekend_data[(weekend_data['대여소 동']=='가양1동')&(weekend_data['반납소 동']=='가양1동')][['대여 대여소명','반납대여소명']].value_counts().head(20)"
   ]
  },
  {
   "cell_type": "code",
   "execution_count": 126,
   "id": "7ffcbc04",
   "metadata": {},
   "outputs": [
    {
     "data": {
      "text/plain": [
       "array([[<AxesSubplot:title={'center':'이용시간'}>]], dtype=object)"
      ]
     },
     "execution_count": 126,
     "metadata": {},
     "output_type": "execute_result"
    },
    {
     "data": {
      "image/png": "[encoded data removed]",
      "text/plain": [
       "<Figure size 432x288 with 1 Axes>"
      ]
     },
     "metadata": {
      "image/png": {
       "height": 266,
       "width": 367
      }
     },
     "output_type": "display_data"
    }
   ],
   "source": [
    "weekend_data[(weekend_data['대여 대여소명']=='마곡나루역 2번 출구')&(weekend_data['반납대여소명']=='마곡나루역 2번 출구')][['이용시간']].hist(bins=100)"
   ]
  },
  {
   "cell_type": "code",
   "execution_count": 94,
   "id": "cb2b0f75",
   "metadata": {},
   "outputs": [
    {
     "data": {
      "text/plain": [
       "대여 소재지  대여소 동  반납 소재지  반납소 동\n",
       "강서구     가양1동   강서구     가양1동     80312\n",
       "영등포구    여의동    영등포구    여의동      38938\n",
       "노원구     상계동    노원구     상계동      29921\n",
       "마포구     상암동    마포구     상암동      26701\n",
       "양천구     목5동    양천구     목5동      19393\n",
       "강서구     발산1동   강서구     발산1동     18713\n",
       "구로구     오류2동   구로구     오류2동     18082\n",
       "강서구     공항동    강서구     공항동      17278\n",
       "                       가양1동     16292\n",
       "        가양1동   강서구     공항동      15260\n",
       "        발산1동   강서구     가양1동     15174\n",
       "은평구     진관동    은평구     진관동      14483\n",
       "강서구     가양1동   강서구     발산1동     14116\n",
       "영등포구    문래동    영등포구    문래동      13451\n",
       "금천구     가산동    금천구     가산동      12758\n",
       "송파구     오륜동    송파구     오륜동      12498\n",
       "양천구     목1동    양천구     목1동      12421\n",
       "강서구     방화1동   강서구     방화1동     12326\n",
       "용산구     한강로동   용산구     한강로동     12194\n",
       "강서구     가양1동   강서구     방화1동     12167\n",
       "dtype: int64"
      ]
     },
     "execution_count": 94,
     "metadata": {},
     "output_type": "execute_result"
    }
   ],
   "source": [
    "df[['대여 소재지','대여소 동','반납 소재지','반납소 동']].value_counts().head(20)"
   ]
  },
  {
   "cell_type": "code",
   "execution_count": 116,
   "id": "ac6a4e27",
   "metadata": {},
   "outputs": [
    {
     "data": {
      "text/plain": [
       "대여시간  이용시간\n",
       "18    3       135\n",
       "      4       125\n",
       "17    4       116\n",
       "      3        99\n",
       "16    4        41\n",
       "      3        38\n",
       "17    2        35\n",
       "18    2        28\n",
       "      5        25\n",
       "17    5        20\n",
       "19    4        15\n",
       "      3        15\n",
       "08    4        13\n",
       "15    3        13\n",
       "08    3        11\n",
       "07    3         9\n",
       "      4         9\n",
       "21    4         9\n",
       "15    4         8\n",
       "20    4         8\n",
       "dtype: int64"
      ]
     },
     "execution_count": 116,
     "metadata": {},
     "output_type": "execute_result"
    }
   ],
   "source": [
    "df[['대여 소재지','대여소 동','반납 소재지','반납소 동']].value_counts().head(20)"
   ]
  },
  {
   "cell_type": "code",
   "execution_count": 8,
   "id": "728c1b6f",
   "metadata": {},
   "outputs": [
    {
     "data": {
      "text/plain": [
       "반납소 동\n",
       "가양1동     154840\n",
       "여의동       75681\n",
       "상계동       65626\n",
       "목1동       54917\n",
       "발산1동      51740\n",
       "공항동       51675\n",
       "목5동       49016\n",
       "잠실6동      43604\n",
       "오륜동       41146\n",
       "상암동       40402\n",
       "dtype: int64"
      ]
     },
     "execution_count": 8,
     "metadata": {},
     "output_type": "execute_result"
    }
   ],
   "source": [
    "df[['반납소 동']].value_counts().head(10)"
   ]
  },
  {
   "cell_type": "code",
   "execution_count": 9,
   "id": "907ae31e",
   "metadata": {},
   "outputs": [
    {
     "data": {
      "text/plain": [
       "자전거번호          0\n",
       "대여일시           0\n",
       "대여 대여소번호       0\n",
       "대여 대여소명        0\n",
       "대여거치대          0\n",
       "반납일시           0\n",
       "반납대여소번호        0\n",
       "반납대여소명         0\n",
       "이용시간           0\n",
       "이용거리           0\n",
       "대여 소재지         0\n",
       "대여소 위도         0\n",
       "대여소 경도         0\n",
       "대여소 주소         0\n",
       "대여소 동          0\n",
       "반납 소재지         0\n",
       "반납소 위도         0\n",
       "반납소 경도         0\n",
       "반납소 주소         0\n",
       "반납소 동          0\n",
       "대여소근처역         0\n",
       "대여소Distance    0\n",
       "반납소근처역         0\n",
       "반납소Distance    0\n",
       "대여일            0\n",
       "대여시간           0\n",
       "대여요일           0\n",
       "반납일            0\n",
       "반납시간           0\n",
       "반납요일           0\n",
       "dtype: int64"
      ]
     },
     "execution_count": 9,
     "metadata": {},
     "output_type": "execute_result"
    }
   ],
   "source": [
    "df.isna().sum()"
   ]
  },
  {
   "cell_type": "code",
   "execution_count": 90,
   "id": "26d8da8b",
   "metadata": {},
   "outputs": [
    {
     "data": {
      "text/plain": [
       "대여 소재지  반납 소재지\n",
       "강서구     강서구       440324\n",
       "송파구     송파구       332846\n",
       "영등포구    영등포구      233021\n",
       "양천구     양천구       192906\n",
       "노원구     노원구       191066\n",
       "마포구     마포구       163859\n",
       "강동구     강동구       155701\n",
       "광진구     광진구       151465\n",
       "구로구     구로구       105795\n",
       "중랑구     중랑구        95165\n",
       "동대문구    동대문구       93096\n",
       "은평구     은평구        91655\n",
       "관악구     관악구        91310\n",
       "성동구     성동구        90440\n",
       "서초구     서초구        88931\n",
       "종로구     종로구        79889\n",
       "강남구     강남구        77721\n",
       "성북구     성북구        63191\n",
       "용산구     용산구        59854\n",
       "도봉구     도봉구        57390\n",
       "dtype: int64"
      ]
     },
     "execution_count": 90,
     "metadata": {},
     "output_type": "execute_result"
    }
   ],
   "source": [
    "df[['대여 소재지','반납 소재지']].value_counts().head(20)"
   ]
  },
  {
   "cell_type": "code",
   "execution_count": 11,
   "id": "fce60d48",
   "metadata": {},
   "outputs": [
    {
     "data": {
      "text/plain": [
       "대여 소재지\n",
       "강서구       474981\n",
       "송파구       387931\n",
       "영등포구      314153\n",
       "양천구       242547\n",
       "노원구       237010\n",
       "마포구       227395\n",
       "광진구       201661\n",
       "강동구       186843\n",
       "구로구       163682\n",
       "성동구       157988\n",
       "dtype: int64"
      ]
     },
     "execution_count": 11,
     "metadata": {},
     "output_type": "execute_result"
    }
   ],
   "source": [
    "df[['대여 소재지']].value_counts().head(10)"
   ]
  },
  {
   "cell_type": "code",
   "execution_count": 12,
   "id": "e97255cd",
   "metadata": {},
   "outputs": [
    {
     "data": {
      "text/plain": [
       "반납 소재지\n",
       "강서구       478443\n",
       "송파구       388424\n",
       "영등포구      311849\n",
       "양천구       244798\n",
       "노원구       237811\n",
       "마포구       226733\n",
       "광진구       200148\n",
       "강동구       190857\n",
       "구로구       164082\n",
       "성동구       158084\n",
       "dtype: int64"
      ]
     },
     "execution_count": 12,
     "metadata": {},
     "output_type": "execute_result"
    }
   ],
   "source": [
    "df[['반납 소재지']].value_counts().head(10)"
   ]
  },
  {
   "cell_type": "code",
   "execution_count": 13,
   "id": "057d0431",
   "metadata": {},
   "outputs": [
    {
     "data": {
      "text/plain": [
       "가양1동    154280\n",
       "발산1동     52831\n",
       "공항동      52300\n",
       "방화1동     39169\n",
       "우장산동     28254\n",
       "등촌1동     20915\n",
       "등촌3동     19710\n",
       "염창동      17376\n",
       "화곡6동     15912\n",
       "화곡1동     13678\n",
       "가양동      11864\n",
       "등촌2동     10177\n",
       "방화3동     10070\n",
       "가양3동      7795\n",
       "방화2동      5413\n",
       "화곡본동      5355\n",
       "가양2동      4157\n",
       "화곡4동      2515\n",
       "화곡8동      1831\n",
       "화곡2동      1379\n",
       "Name: 대여소 동, dtype: int64"
      ]
     },
     "execution_count": 13,
     "metadata": {},
     "output_type": "execute_result"
    }
   ],
   "source": [
    "df[df['대여 소재지']=='강서구']['대여소 동'].value_counts()"
   ]
  },
  {
   "cell_type": "code",
   "execution_count": 14,
   "id": "be3793bc",
   "metadata": {},
   "outputs": [
    {
     "data": {
      "text/plain": [
       "가양1동    154840\n",
       "발산1동     51740\n",
       "공항동      51675\n",
       "방화1동     39582\n",
       "우장산동     27048\n",
       "등촌1동     20893\n",
       "등촌3동     19914\n",
       "염창동      18066\n",
       "화곡6동     16843\n",
       "화곡1동     14396\n",
       "가양동      12937\n",
       "방화3동     10354\n",
       "등촌2동      9510\n",
       "가양3동      8645\n",
       "방화2동      5681\n",
       "화곡본동      4897\n",
       "가양2동      4267\n",
       "화곡8동      2672\n",
       "화곡4동      2648\n",
       "화곡2동      1835\n",
       "Name: 반납소 동, dtype: int64"
      ]
     },
     "execution_count": 14,
     "metadata": {},
     "output_type": "execute_result"
    }
   ],
   "source": [
    "df[df['반납 소재지']=='강서구']['반납소 동'].value_counts()"
   ]
  },
  {
   "cell_type": "code",
   "execution_count": 15,
   "id": "6375ea5c",
   "metadata": {},
   "outputs": [
    {
     "data": {
      "text/plain": [
       "잠실6동    43251\n",
       "오륜동     41579\n",
       "잠실3동    31928\n",
       "문정2동    24429\n",
       "위례동     19933\n",
       "석촌동     18803\n",
       "오금동     18620\n",
       "잠실2동    18085\n",
       "장지동     14893\n",
       "송파1동    13576\n",
       "방이1동    12927\n",
       "문정1동    12483\n",
       "방이2동    12327\n",
       "삼전동     11963\n",
       "잠실본동    11515\n",
       "가락본동    10220\n",
       "행정동      8501\n",
       "가락2동     8072\n",
       "송파2동     7702\n",
       "가락1동     7637\n",
       "풍납1동     6929\n",
       "잠실7동     6909\n",
       "거여2동     6619\n",
       "성내1동     6186\n",
       "마천2동     3790\n",
       "마천1동     3606\n",
       "거여1동     3501\n",
       "흑석동      1947\n",
       "Name: 대여소 동, dtype: int64"
      ]
     },
     "execution_count": 15,
     "metadata": {},
     "output_type": "execute_result"
    }
   ],
   "source": [
    "df[df['대여 소재지']=='송파구']['대여소 동'].value_counts()"
   ]
  },
  {
   "cell_type": "code",
   "execution_count": 16,
   "id": "48ae6a40",
   "metadata": {},
   "outputs": [
    {
     "data": {
      "text/plain": [
       "잠실6동    43604\n",
       "오륜동     41146\n",
       "잠실3동    31938\n",
       "문정2동    24722\n",
       "위례동     19856\n",
       "오금동     18966\n",
       "석촌동     18942\n",
       "잠실2동    17922\n",
       "장지동     13697\n",
       "송파1동    13662\n",
       "삼전동     12925\n",
       "방이1동    12486\n",
       "문정1동    12420\n",
       "방이2동    12389\n",
       "잠실본동    12170\n",
       "가락본동     9993\n",
       "행정동      8476\n",
       "가락2동     7978\n",
       "송파2동     7667\n",
       "가락1동     7578\n",
       "풍납1동     7121\n",
       "잠실7동     6858\n",
       "거여2동     6718\n",
       "성내1동     6150\n",
       "마천2동     4101\n",
       "거여1동     3507\n",
       "마천1동     3454\n",
       "흑석동      1978\n",
       "Name: 반납소 동, dtype: int64"
      ]
     },
     "execution_count": 16,
     "metadata": {},
     "output_type": "execute_result"
    }
   ],
   "source": [
    "df[df['반납 소재지']=='송파구']['반납소 동'].value_counts()"
   ]
  },
  {
   "cell_type": "code",
   "execution_count": 17,
   "id": "ac71e922",
   "metadata": {},
   "outputs": [
    {
     "data": {
      "text/plain": [
       "화곡본동    4897\n",
       "가양2동    4267\n",
       "화곡8동    2672\n",
       "화곡4동    2648\n",
       "화곡2동    1835\n",
       "Name: 반납소 동, dtype: int64"
      ]
     },
     "execution_count": 17,
     "metadata": {},
     "output_type": "execute_result"
    }
   ],
   "source": [
    "df[df['반납 소재지']=='강서구']['반납소 동'].value_counts().tail()"
   ]
  }
 ],
 "metadata": {
  "kernelspec": {
   "display_name": "Python 3",
   "language": "python",
   "name": "python3"
  },
  "language_info": {
   "codemirror_mode": {
    "name": "ipython",
    "version": 3
   },
   "file_extension": ".py",
   "mimetype": "text/x-python",
   "name": "python",
   "nbconvert_exporter": "python",
   "pygments_lexer": "ipython3",
   "version": "3.8.8"
  }
 },
 "nbformat": 4,
 "nbformat_minor": 5
}
