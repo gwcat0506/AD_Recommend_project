{
 "cells": [
  {
   "cell_type": "code",
   "execution_count": 69,
   "metadata": {},
   "outputs": [],
   "source": [
    "import pandas as pd\n",
    "import numpy as np\n",
    "from tqdm import tqdm\n",
    "import random"
   ]
  },
  {
   "cell_type": "code",
   "execution_count": 76,
   "metadata": {},
   "outputs": [],
   "source": [
    "data_list = pd.read_csv('Bike.csv')"
   ]
  },
  {
   "cell_type": "code",
   "execution_count": 84,
   "metadata": {},
   "outputs": [],
   "source": [
    "data_list['주말'].replace({'평일':0,'주말':1},inplace=True)"
   ]
  },
  {
   "cell_type": "code",
   "execution_count": 98,
   "metadata": {},
   "outputs": [],
   "source": [
    "data_list['광고'] = 0"
   ]
  },
  {
   "cell_type": "code",
   "execution_count": 99,
   "metadata": {},
   "outputs": [
    {
     "name": "stdout",
     "output_type": "stream",
     "text": [
      "1 1 0 2 0 0\n"
     ]
    }
   ],
   "source": [
    "data = data_list.iloc[0]\n",
    "gender = data['성별']\n",
    "age = data['연령대코드']\n",
    "rent_time = data['대여시간']\n",
    "exercise = data['운동량']\n",
    "weekend = data['주말']\n",
    "industry = data['산업종류']\n",
    "\n",
    "print(gender,age,rent_time, exercise,weekend,industry)"
   ]
  },
  {
   "cell_type": "code",
   "execution_count": 103,
   "metadata": {},
   "outputs": [],
   "source": [
    "ad = []\n",
    "## 여기에 30개 추가! \n",
    "if (gender == 0) and (age in [3,4]) and (rent_tine in [1]) and ( exercise in [1,2]) and ( weekend == 0 ) and ( industry == 2):\n",
    "        ad.append(0)\n",
    "if (gender == 0) and (age in [3,4]) and (rent_tine in [1]) and ( exercise in [1,2]) and ( weekend == 0 ) and ( industry == 2):\n",
    "        ad.append(0)\n",
    "if (gender == 0) and (age in [3,4]) and (rent_tine in [1]) and ( exercise in [1,2]) and ( weekend == 0 ) and ( industry == 2):\n",
    "        ad.append(0)\n",
    "ad.append(1)"
   ]
  },
  {
   "cell_type": "code",
   "execution_count": 116,
   "metadata": {},
   "outputs": [
    {
     "name": "stderr",
     "output_type": "stream",
     "text": [
      "<ipython-input-116-ac04d68ccf6c>:1: SettingWithCopyWarning: \n",
      "A value is trying to be set on a copy of a slice from a DataFrame\n",
      "\n",
      "See the caveats in the documentation: https://pandas.pydata.org/pandas-docs/stable/user_guide/indexing.html#returning-a-view-versus-a-copy\n",
      "  data_list['광고'][0] = random.choice(ad)\n"
     ]
    }
   ],
   "source": [
    "data_list['광고'][0] = random.choice(ad)"
   ]
  },
  {
   "cell_type": "code",
   "execution_count": 117,
   "metadata": {},
   "outputs": [
    {
     "data": {
      "text/html": [
       "<div>\n",
       "<style scoped>\n",
       "    .dataframe tbody tr th:only-of-type {\n",
       "        vertical-align: middle;\n",
       "    }\n",
       "\n",
       "    .dataframe tbody tr th {\n",
       "        vertical-align: top;\n",
       "    }\n",
       "\n",
       "    .dataframe thead th {\n",
       "        text-align: right;\n",
       "    }\n",
       "</style>\n",
       "<table border=\"1\" class=\"dataframe\">\n",
       "  <thead>\n",
       "    <tr style=\"text-align: right;\">\n",
       "      <th></th>\n",
       "      <th>대여일자</th>\n",
       "      <th>대여시간</th>\n",
       "      <th>대여소번호</th>\n",
       "      <th>대여구분코드</th>\n",
       "      <th>성별</th>\n",
       "      <th>연령대코드</th>\n",
       "      <th>이용건수</th>\n",
       "      <th>운동량</th>\n",
       "      <th>이동거리(M)</th>\n",
       "      <th>이용시간(분)</th>\n",
       "      <th>주말</th>\n",
       "      <th>요일</th>\n",
       "      <th>대여소근처역</th>\n",
       "      <th>소재지</th>\n",
       "      <th>동</th>\n",
       "      <th>산업종류</th>\n",
       "      <th>자전거대수</th>\n",
       "      <th>광고</th>\n",
       "    </tr>\n",
       "  </thead>\n",
       "  <tbody>\n",
       "    <tr>\n",
       "      <th>0</th>\n",
       "      <td>2022-06-01</td>\n",
       "      <td>0</td>\n",
       "      <td>742</td>\n",
       "      <td>0</td>\n",
       "      <td>1</td>\n",
       "      <td>1</td>\n",
       "      <td>1</td>\n",
       "      <td>2</td>\n",
       "      <td>2</td>\n",
       "      <td>1</td>\n",
       "      <td>0</td>\n",
       "      <td>2</td>\n",
       "      <td>등촌</td>\n",
       "      <td>4</td>\n",
       "      <td>목3동</td>\n",
       "      <td>0</td>\n",
       "      <td>10.0</td>\n",
       "      <td>1</td>\n",
       "    </tr>\n",
       "    <tr>\n",
       "      <th>1</th>\n",
       "      <td>2022-06-01</td>\n",
       "      <td>0</td>\n",
       "      <td>2059</td>\n",
       "      <td>0</td>\n",
       "      <td>1</td>\n",
       "      <td>1</td>\n",
       "      <td>1</td>\n",
       "      <td>1</td>\n",
       "      <td>1</td>\n",
       "      <td>1</td>\n",
       "      <td>0</td>\n",
       "      <td>2</td>\n",
       "      <td>보라매</td>\n",
       "      <td>21</td>\n",
       "      <td>신대방2동</td>\n",
       "      <td>1</td>\n",
       "      <td>10.0</td>\n",
       "      <td>0</td>\n",
       "    </tr>\n",
       "    <tr>\n",
       "      <th>2</th>\n",
       "      <td>2022-06-01</td>\n",
       "      <td>0</td>\n",
       "      <td>1349</td>\n",
       "      <td>0</td>\n",
       "      <td>1</td>\n",
       "      <td>1</td>\n",
       "      <td>1</td>\n",
       "      <td>0</td>\n",
       "      <td>0</td>\n",
       "      <td>0</td>\n",
       "      <td>0</td>\n",
       "      <td>2</td>\n",
       "      <td>광운대</td>\n",
       "      <td>17</td>\n",
       "      <td>번동</td>\n",
       "      <td>2</td>\n",
       "      <td>10.0</td>\n",
       "      <td>0</td>\n",
       "    </tr>\n",
       "    <tr>\n",
       "      <th>3</th>\n",
       "      <td>2022-06-01</td>\n",
       "      <td>0</td>\n",
       "      <td>750</td>\n",
       "      <td>0</td>\n",
       "      <td>1</td>\n",
       "      <td>1</td>\n",
       "      <td>1</td>\n",
       "      <td>0</td>\n",
       "      <td>0</td>\n",
       "      <td>0</td>\n",
       "      <td>0</td>\n",
       "      <td>2</td>\n",
       "      <td>신정네거리</td>\n",
       "      <td>4</td>\n",
       "      <td>신정3동</td>\n",
       "      <td>3</td>\n",
       "      <td>10.0</td>\n",
       "      <td>0</td>\n",
       "    </tr>\n",
       "    <tr>\n",
       "      <th>4</th>\n",
       "      <td>2022-06-01</td>\n",
       "      <td>0</td>\n",
       "      <td>755</td>\n",
       "      <td>0</td>\n",
       "      <td>1</td>\n",
       "      <td>1</td>\n",
       "      <td>1</td>\n",
       "      <td>0</td>\n",
       "      <td>0</td>\n",
       "      <td>0</td>\n",
       "      <td>0</td>\n",
       "      <td>2</td>\n",
       "      <td>신목동</td>\n",
       "      <td>4</td>\n",
       "      <td>목5동</td>\n",
       "      <td>1</td>\n",
       "      <td>10.0</td>\n",
       "      <td>0</td>\n",
       "    </tr>\n",
       "  </tbody>\n",
       "</table>\n",
       "</div>"
      ],
      "text/plain": [
       "         대여일자  대여시간  대여소번호  대여구분코드  성별  연령대코드  이용건수  운동량  이동거리(M)  이용시간(분)  \\\n",
       "0  2022-06-01     0    742       0   1      1     1    2        2        1   \n",
       "1  2022-06-01     0   2059       0   1      1     1    1        1        1   \n",
       "2  2022-06-01     0   1349       0   1      1     1    0        0        0   \n",
       "3  2022-06-01     0    750       0   1      1     1    0        0        0   \n",
       "4  2022-06-01     0    755       0   1      1     1    0        0        0   \n",
       "\n",
       "   주말  요일 대여소근처역  소재지      동  산업종류  자전거대수  광고  \n",
       "0   0   2     등촌    4    목3동     0   10.0   1  \n",
       "1   0   2    보라매   21  신대방2동     1   10.0   0  \n",
       "2   0   2    광운대   17     번동     2   10.0   0  \n",
       "3   0   2  신정네거리    4   신정3동     3   10.0   0  \n",
       "4   0   2    신목동    4    목5동     1   10.0   0  "
      ]
     },
     "execution_count": 117,
     "metadata": {},
     "output_type": "execute_result"
    }
   ],
   "source": [
    "data_list.head()"
   ]
  },
  {
   "cell_type": "code",
   "execution_count": null,
   "metadata": {},
   "outputs": [],
   "source": []
  }
 ],
 "metadata": {
  "kernelspec": {
   "display_name": "Python 3",
   "language": "python",
   "name": "python3"
  },
  "language_info": {
   "codemirror_mode": {
    "name": "ipython",
    "version": 3
   },
   "file_extension": ".py",
   "mimetype": "text/x-python",
   "name": "python",
   "nbconvert_exporter": "python",
   "pygments_lexer": "ipython3",
   "version": "3.8.5"
  }
 },
 "nbformat": 4,
 "nbformat_minor": 4
}
