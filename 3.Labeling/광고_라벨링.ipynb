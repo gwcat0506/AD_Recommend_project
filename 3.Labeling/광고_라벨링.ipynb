{
 "cells": [
  {
   "cell_type": "code",
   "execution_count": 1,
   "id": "b920e1ab",
   "metadata": {},
   "outputs": [],
   "source": [
    "import pandas as pd\n",
    "import numpy as np\n",
    "from tqdm import tqdm\n",
    "import random\n",
    "\n",
    "df = pd.read_csv('final_final.csv', encoding='utf8')\n",
    "\n"
   ]
  },
  {
   "cell_type": "code",
   "execution_count": 2,
   "id": "e841d921",
   "metadata": {},
   "outputs": [],
   "source": [
    "df.drop(['탄소량','번호','위도','경도','대여소명'], axis=1, inplace=True)"
   ]
  },
  {
   "cell_type": "code",
   "execution_count": 3,
   "id": "c4b44741",
   "metadata": {},
   "outputs": [],
   "source": [
    "df['대여시간'].replace({0:0, 1:0, 2:0, 3:0, 4:0, 5:0 ,6:0 ,20:0, 21:0, 22:0, 23:0,\n",
    "                   7:1,8:1,9:1,17:1,18:1,19:1,10:2,11:2,12:2,13:2,14:2,15:2,16:2}, inplace=True)\n",
    "df['대여구분코드'].replace({'정기권':0, '일일권':1, '일일권(비회원)':2, '단체권':3}, inplace=True)\n",
    "df['성별'].replace({'M':0,'N':1,'F':2}, inplace=True)\n",
    "df['연령대코드'].replace({'N':0, '10대':1, '20대':2, '30대':3,'40대':3, '50대':4, '60대':4, '70대':5},inplace=True)\n",
    "df['운동량'].replace({'\\\\N':0.00},inplace=True)\n",
    "df.astype({'운동량':'float'})\n",
    "df['주말'].replace({'평일':0,'주말':1},inplace=True)\n",
    "df['요일'].replace({'월':0,'화':1,'수':2,'목':3,'금':4,'토':5,'일':6},inplace=True)\n",
    "df['소재지'].replace({'강서구':0,'송파구':1,'영등포구':2,'노원구':3,'양천구':4,'마포구':5,'광진구':6,\n",
    "'강동구':7,'구로구':8,'성동구':9,'동대문구':10,'종로구':11,'서초구':12,'강남구':13,'중랑구':14,\n",
    "'관악구':15,'은평구':16,'성북구':17,'중구':18,'용산구':19,'서대문구':20,'동작구':21,'도봉구':22,\n",
    "'금천구':23,'강북구':24},inplace=True)\n",
    "df['산업종류'].replace({'사업시설관리 및 사업지원 서비스업':0, '보건업 및 사회복지 서비스업':1, '금융 및 보험업':2, '운수업':3,\n",
    "'교육 서비스업':4, '도매 및 소매업':5, '출판, 영상, 방송통신 및 정보서비스업':6, '숙박 및 음식점업':7,\n",
    "'공공행정, 국방 및 사회보장 행정':8, '건설업':9, '전문, 과학 및 기술 서비스업':10,\n",
    "'예술, 스포츠 및 여가관련 서비스업':11, '제조업':12, '보건업 및 사회복지 서비스업\\t':13, '부동산업 및 임대업':14,\n",
    "'하수 · 폐기물 처리, 원료재생 및 환경복원업':15},\n",
    "inplace=True)\n"
   ]
  },
  {
   "cell_type": "code",
   "execution_count": 4,
   "id": "a6582afb",
   "metadata": {},
   "outputs": [],
   "source": [
    "#이동시간 0~3의 코드로 지정\n",
    "q1 = np.quantile(df['이용시간(분)'], 0.25)\n",
    "q2 = np.quantile(df['이용시간(분)'], 0.5)\n",
    "q3 = np.quantile(df['이용시간(분)'], 0.75)\n",
    "\n",
    "Minutes = []\n",
    "for row in df['이용시간(분)']:\n",
    "    if row < q1 : Minutes.append(\"0\")\n",
    "    elif row <q2 : Minutes.append(\"1\")\n",
    "    elif row <q3 : Minutes.append(\"2\")\n",
    "    else : Minutes.append(\"3\")\n",
    "        \n",
    "df['이용시간(분)'] = Minutes"
   ]
  },
  {
   "cell_type": "code",
   "execution_count": 5,
   "id": "ec057512",
   "metadata": {},
   "outputs": [],
   "source": [
    "#운동량 0~3의 코드로 지정\n",
    "df = df.astype({'운동량':'float'})\n",
    "q1 = df['운동량'].quantile(0.25, interpolation='nearest')\n",
    "q2 = df['운동량'].quantile(0.5, interpolation='nearest')\n",
    "q3 = df['운동량'].quantile(0.75, interpolation='nearest')\n",
    "\n",
    "ex = []\n",
    "for row in df['운동량']:\n",
    "    if row < q1 : ex.append(\"0\")\n",
    "    elif row <q2 : ex.append(\"1\")\n",
    "    elif row <q3 : ex.append(\"2\")\n",
    "    else : ex.append(\"3\")\n",
    "        \n",
    "df['운동량'] = ex"
   ]
  },
  {
   "cell_type": "code",
   "execution_count": 6,
   "id": "26afa352",
   "metadata": {},
   "outputs": [],
   "source": [
    "#이동거리 0~3의 코드로 지정\n",
    "\n",
    "q1 = df['이동거리(M)'].quantile(0.25, interpolation='nearest')\n",
    "q2 = df['이동거리(M)'].quantile(0.5, interpolation='nearest')\n",
    "q3 = df['이동거리(M)'].quantile(0.75, interpolation='nearest')\n",
    "\n",
    "m = []\n",
    "for row in df['이동거리(M)']:\n",
    "    if row < q1 : m.append(\"0\")\n",
    "    elif row <q2 : m.append(\"1\")\n",
    "    elif row <q3 : m.append(\"2\")\n",
    "    else : m.append(\"3\")\n",
    "        \n",
    "df['이동거리(M)'] = m"
   ]
  },
  {
   "cell_type": "code",
   "execution_count": 7,
   "id": "656096dd",
   "metadata": {},
   "outputs": [
    {
     "name": "stdout",
     "output_type": "stream",
     "text": [
      "1 1 0 0 0 2\n",
      "true\n"
     ]
    }
   ],
   "source": [
    "df = df.astype({'운동량':'int'})\n",
    "data_list= df\n",
    "\n",
    "data = data_list.iloc[2]\n",
    "gender = data['성별']\n",
    "age = data['연령대코드']\n",
    "rent_time = data['대여시간']\n",
    "exercise = data['운동량']\n",
    "weekend = data['주말']\n",
    "industry = data['산업종류']\n",
    "\n",
    "print(gender,age,rent_time, exercise, weekend, industry)\n",
    "\n",
    "if (gender == 1) and (age in [1,4]) and (rent_time in [0]) and ( exercise ==0) and ( weekend == 0 ) and ( industry == 2):\n",
    "    print('true')"
   ]
  },
  {
   "cell_type": "code",
   "execution_count": 45,
   "id": "c72794db",
   "metadata": {},
   "outputs": [
    {
     "data": {
      "text/plain": [
       "대여일자       object\n",
       "대여시간        int64\n",
       "대여소번호       int64\n",
       "대여구분코드      int64\n",
       "성별          int64\n",
       "연령대코드       int64\n",
       "이용건수        int64\n",
       "운동량         int32\n",
       "이동거리(M)    object\n",
       "이용시간(분)    object\n",
       "주말          int64\n",
       "요일          int64\n",
       "대여소근처역     object\n",
       "소재지         int64\n",
       "동          object\n",
       "산업종류        int64\n",
       "dtype: object"
      ]
     },
     "execution_count": 45,
     "metadata": {},
     "output_type": "execute_result"
    }
   ],
   "source": [
    "df.dtypes"
   ]
  },
  {
   "cell_type": "code",
   "execution_count": 8,
   "id": "458759d7",
   "metadata": {},
   "outputs": [
    {
     "data": {
      "text/plain": [
       "[2]"
      ]
     },
     "execution_count": 8,
     "metadata": {},
     "output_type": "execute_result"
    }
   ],
   "source": [
    "ad = []\n",
    "if (gender == 1) and (age in [1,4])and (rent_time in [0])and ( weekend == 0 ):\n",
    "    ad.append(2)\n",
    "ad"
   ]
  },
  {
   "cell_type": "code",
   "execution_count": 44,
   "id": "dc71d0d3",
   "metadata": {},
   "outputs": [
    {
     "data": {
      "text/plain": [
       "[9]"
      ]
     },
     "execution_count": 44,
     "metadata": {},
     "output_type": "execute_result"
    }
   ],
   "source": [
    "ad = []\n",
    "ad.append(random.randrange(0,28))\n",
    "ad"
   ]
  },
  {
   "cell_type": "code",
   "execution_count": 9,
   "id": "ca4a7f1c",
   "metadata": {},
   "outputs": [
    {
     "name": "stdout",
     "output_type": "stream",
     "text": [
      "1 1 0 2\n"
     ]
    },
    {
     "name": "stderr",
     "output_type": "stream",
     "text": [
      "100%|██████████████████████████████████████████████████████████████████████| 3698013/3698013 [10:37<00:00, 5804.22it/s]\n"
     ]
    }
   ],
   "source": [
    "import pandas as pd\n",
    "import numpy as np\n",
    "from tqdm import tqdm\n",
    "import random\n",
    "\n",
    "df = df.astype({'운동량':'int'})\n",
    "data_list= df\n",
    "\n",
    "data_list['광고'] = 0\n",
    "\n",
    "data = data_list.iloc[0]\n",
    "gender = data['성별']\n",
    "age = data['연령대코드']\n",
    "rent_time = data['대여시간']\n",
    "exercise = data['운동량']\n",
    "weekend = data['주말']\n",
    "industry = data['산업종류']\n",
    "\n",
    "print(gender,age,rent_time, exercise,)\n",
    "li = []\n",
    "for i in tqdm(range(len(data_list))):\n",
    "    ad = []\n",
    "    data = data_list.iloc[i]\n",
    "    gender = data['성별']\n",
    "    age = data['연령대코드']\n",
    "    rent_time = data['대여시간']\n",
    "    exercise = data['운동량']\n",
    "    weekend = data['주말']\n",
    "    industry = data['산업종류']\n",
    "    \n",
    "    # 데이터와 조건에 맞는 광고를 ad 리스트에 넣어줍니다.\n",
    "    if (gender == 0) and (age in [3,4]) and (rent_time in [1]) and ( exercise in [1,2]) and ( weekend == 0 ) and ( industry == 2):\n",
    "            ad.append(0)\n",
    "    if (gender == 1) and (age in [2,3]) and (rent_time in [1]) and ( exercise in [1,2]) and ( weekend == 0 ) and ( industry == 2):\n",
    "            ad.append(1)\n",
    "    if (gender == 1) and (age in [3,4,5]) and (rent_time in [1]) and ( exercise in [1,2]) and ( weekend == 0 ):\n",
    "            ad.append(2)\n",
    "    if (gender == 1) and (age in [3]) and (rent_time in [2]) and ( exercise in [1,2]) and ( weekend == 0 ):\n",
    "            ad.append(3)\n",
    "    if (gender == 1) and (age in [2,3,4]) and (rent_time in [2]) and ( exercise in [1,2]) and ( weekend == 1 ) and ( industry == 5):\n",
    "            ad.append(4)\n",
    "    if (gender == 1) and (age in [2,3]) and (rent_time in [2]) and ( exercise in [1,2]) and ( weekend == 1 ) and ( industry == 7):\n",
    "            ad.append(5)\n",
    "    if (gender == 2) and (age in [3]) and (rent_time in [2]) and ( exercise in [1,2]) and ( weekend == 0 ):\n",
    "            ad.append(6)\n",
    "    if (gender == 1) and (age in [2,3]) and (rent_time in [1]) and ( exercise in [1,2]) and ( weekend == 0 ):\n",
    "            ad.append(7)\n",
    "    if (gender == 0) and (age in [1,2]) and (rent_time in [0]) and ( exercise in [1,2]) and ( weekend == 0 ):\n",
    "            ad.append(8)\n",
    "    if (gender == 1) and (age in [3,4]) and (rent_time in [2]) and ( exercise in [1,2]) and ( weekend == 1 ) and ( industry == 14):\n",
    "            ad.append(9)\n",
    "    if (gender == 0) and (age == 4)and (rent_time ==2) and (exercise in [0,1]) and (weekend ==1) and (industry==9):\n",
    "        ad.append(10)\n",
    "    if (gender == 0) and (age == 2)and (rent_time ==0) and (exercise ==0) and (weekend ==1) and (industry==0):\n",
    "        ad.append(11)\n",
    "    if (gender == 2) and (age in [2,3])and (rent_time ==0) and (exercise in [1,2]) and (weekend ==0) and (industry==0):\n",
    "        ad.append(12)\n",
    "    if (gender == 0) and (age ==3)and (rent_time ==1) and (exercise in [0,1]) and (weekend ==0):\n",
    "        ad.append(13)\n",
    "    if (gender == 0) and (age  ==3)and (rent_time ==1) and (exercise in [0,1]) and (weekend ==0) and (industry==12):\n",
    "        ad.append(14)\n",
    "    if (gender == 2) and (age in [3,4])and (rent_time ==2) and (exercise in [1,2]) and (weekend ==0):\n",
    "        ad.append(15)\n",
    "    if (gender == 2) and (age in [3,4])and (rent_time ==2) and (exercise in [0,1]) and (weekend ==0) and (industry==10):\n",
    "        ad.append(16)\n",
    "    if (gender == 1) and (age in [1,2])and (rent_time in [0,1]) and (exercise in [0,1]) and (weekend ==1):\n",
    "        ad.append(17)\n",
    "    if (gender == 1) and (age ==1)and (rent_time in [1,2]) and (exercise in [0,3]) and (weekend ==0) and (industry==10):\n",
    "        ad.append(18)\n",
    "    if (gender == 1) and (age in [2,3])and (rent_time in [2]) and (exercise in [2,3]) and (weekend ==0):\n",
    "        ad.append(19)\n",
    "    if (gender == 1) and (age in [1,2])and (rent_time in [1,2]) and (exercise in [2,3]) and (weekend ==0) and (industry==11):\n",
    "        ad.append(20)\n",
    "    if (gender == 1) and (age in [2,3])and (rent_time in [0,2]) and (exercise ==0) and (weekend ==1) and (industry==4):\n",
    "        ad.append(21)\n",
    "    if (gender == 1) and (age ==5)and (rent_time in [0,2]) and (exercise ==0) and (weekend ==0) and (industry==4):\n",
    "        ad.append(22)\n",
    "    if (gender == 0) and (age in [2,3])and (rent_time in [1,2]) and (exercise ==3) and (weekend ==0) and (industry==11):\n",
    "        ad.append(23)\n",
    "    if (gender == 1) and (age in [4,5])and (rent_time in [2]) and (exercise ==3) and (weekend ==0) and (industry==11):\n",
    "        ad.append(24)\n",
    "    if (gender == 2) and (age in [1,3])and (rent_time in [1,2]) and (exercise ==0) and (weekend ==0):\n",
    "        ad.append(25)\n",
    "    if (gender == 2) and (age ==2)and (rent_time in [1,2]) and (exercise in [2,3]) and (weekend ==0):\n",
    "        ad.append(26)\n",
    "    if (gender == 0) and (age ==2)and (rent_time in [0,2]) and (exercise in [2,3]) and (weekend ==0):\n",
    "        ad.append(27)\n",
    "    if (gender == 2) and (age in [3,4])and (rent_time in [0,2]) and (exercise in [2,3]) and (weekend ==0):\n",
    "        ad.append(28)      \n",
    "\n",
    "        \n",
    "    if len(ad)==0:\n",
    "    # 조건에 맞는 광고가 없으면, 광고들 중 하나를 랜덤으로 라벨링 해줍니다. 29 -> 광고를 랜덤하게 송출하겠다는 기준.\n",
    "        li.append(29)\n",
    "    else:\n",
    "    # 조건에 맞는 광고들 리스트가 있으면, 광고들 중 하나를 라벨링 해줍니다.\n",
    "        li.append(random.choice(ad))"
   ]
  },
  {
   "cell_type": "code",
   "execution_count": 56,
   "id": "99d95028",
   "metadata": {},
   "outputs": [
    {
     "data": {
      "text/plain": [
       "3698013"
      ]
     },
     "execution_count": 56,
     "metadata": {},
     "output_type": "execute_result"
    }
   ],
   "source": [
    "len(li)"
   ]
  },
  {
   "cell_type": "code",
   "execution_count": 50,
   "id": "7d6339c1",
   "metadata": {},
   "outputs": [
    {
     "data": {
      "text/plain": [
       "3698013"
      ]
     },
     "execution_count": 50,
     "metadata": {},
     "output_type": "execute_result"
    }
   ],
   "source": [
    "len(data_list)"
   ]
  },
  {
   "cell_type": "code",
   "execution_count": 12,
   "id": "0526442c",
   "metadata": {},
   "outputs": [],
   "source": [
    "data_list['광고'] = li"
   ]
  },
  {
   "cell_type": "code",
   "execution_count": 13,
   "id": "4c6d6a49",
   "metadata": {},
   "outputs": [
    {
     "data": {
      "text/html": [
       "<div>\n",
       "<style scoped>\n",
       "    .dataframe tbody tr th:only-of-type {\n",
       "        vertical-align: middle;\n",
       "    }\n",
       "\n",
       "    .dataframe tbody tr th {\n",
       "        vertical-align: top;\n",
       "    }\n",
       "\n",
       "    .dataframe thead th {\n",
       "        text-align: right;\n",
       "    }\n",
       "</style>\n",
       "<table border=\"1\" class=\"dataframe\">\n",
       "  <thead>\n",
       "    <tr style=\"text-align: right;\">\n",
       "      <th></th>\n",
       "      <th>대여일자</th>\n",
       "      <th>대여시간</th>\n",
       "      <th>대여소번호</th>\n",
       "      <th>대여구분코드</th>\n",
       "      <th>성별</th>\n",
       "      <th>연령대코드</th>\n",
       "      <th>이용건수</th>\n",
       "      <th>운동량</th>\n",
       "      <th>이동거리(M)</th>\n",
       "      <th>이용시간(분)</th>\n",
       "      <th>주말</th>\n",
       "      <th>요일</th>\n",
       "      <th>대여소근처역</th>\n",
       "      <th>소재지</th>\n",
       "      <th>동</th>\n",
       "      <th>산업종류</th>\n",
       "      <th>광고</th>\n",
       "    </tr>\n",
       "  </thead>\n",
       "  <tbody>\n",
       "    <tr>\n",
       "      <th>0</th>\n",
       "      <td>2022-06-01</td>\n",
       "      <td>0</td>\n",
       "      <td>742</td>\n",
       "      <td>0</td>\n",
       "      <td>1</td>\n",
       "      <td>1</td>\n",
       "      <td>1</td>\n",
       "      <td>2</td>\n",
       "      <td>2</td>\n",
       "      <td>1</td>\n",
       "      <td>0</td>\n",
       "      <td>2</td>\n",
       "      <td>등촌</td>\n",
       "      <td>4</td>\n",
       "      <td>목3동</td>\n",
       "      <td>0</td>\n",
       "      <td>29</td>\n",
       "    </tr>\n",
       "  </tbody>\n",
       "</table>\n",
       "</div>"
      ],
      "text/plain": [
       "         대여일자  대여시간  대여소번호  대여구분코드  성별  연령대코드  이용건수  운동량 이동거리(M) 이용시간(분)  주말  \\\n",
       "0  2022-06-01     0    742       0   1      1     1    2       2       1   0   \n",
       "\n",
       "   요일 대여소근처역  소재지    동  산업종류  광고  \n",
       "0   2     등촌    4  목3동     0  29  "
      ]
     },
     "execution_count": 13,
     "metadata": {},
     "output_type": "execute_result"
    }
   ],
   "source": [
    "data_list.head(1)"
   ]
  },
  {
   "cell_type": "code",
   "execution_count": null,
   "id": "f64813c1",
   "metadata": {},
   "outputs": [],
   "source": [
    "list_dong = data_list['동'].unique().tolist()\n",
    "data_list['동'] = data_list['동'].map(lambda x: list_dong.index(x))\n",
    "list_st = data_list['대여소근처역'].unique().tolist()\n",
    "data_list['대여소근처역'] = data_list['대여소근처역'].map(lambda x: list_st.index(x))"
   ]
  },
  {
   "cell_type": "code",
   "execution_count": 14,
   "id": "83d7a4ce",
   "metadata": {},
   "outputs": [],
   "source": [
    "data_list.to_csv('Bike2.csv', encoding='utf8')"
   ]
  }
 ],
 "metadata": {
  "kernelspec": {
   "display_name": "Python 3 (ipykernel)",
   "language": "python",
   "name": "python3"
  },
  "language_info": {
   "codemirror_mode": {
    "name": "ipython",
    "version": 3
   },
   "file_extension": ".py",
   "mimetype": "text/x-python",
   "name": "python",
   "nbconvert_exporter": "python",
   "pygments_lexer": "ipython3",
   "version": "3.9.12"
  }
 },
 "nbformat": 4,
 "nbformat_minor": 5
}
